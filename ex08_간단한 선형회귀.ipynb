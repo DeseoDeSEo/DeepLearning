{
 "cells": [
  {
   "attachments": {
    "image.png": {
     "image/png": "[encoded data removed]"
    }
   },
   "cell_type": "markdown",
   "id": "eee279c2",
   "metadata": {},
   "source": [
    "< 회귀 및 선형회귀 >\n",
    "p.308\n",
    "### 회귀계수(Regression coefficients) : 독립변수의 값에 영향\n",
    "![image.png](attachment:image.png)\n",
    "#### 회귀 분석 : 시간에 따라 변화하는 데이터나 영향, 가설적 실험, 인과 관계 모델링 등에서 많이 사용. 종속 변수(목표)와 하나 이상의 독립변수(예측변수) 간 미래 사건을 예측하는 방법.\n",
    "### 수치적 가치를 추정"
   ]
  },
  {
   "cell_type": "markdown",
   "id": "4b7d3d15",
   "metadata": {},
   "source": [
    "- 연속 숫자를 포함하는 머신러닝 문제 해결에 필수적, 딥 러닝 이론의 기초\n",
    "- 선형 모델 (Linear Model) : 입력 특성에 대한 선형함수를 만들어 예측을 수행\n",
    "- 다양한 선형 모델이 존재 (= 선을 그을 수 있는 방법이 다양하다.)\n",
    "- 분류와 회귀에 모두 사용가능\n",
    "- 기본식) 문제가 1개일때: y= wx +b\n",
    "- 문제가 p개일때 : y = w1x1 + w2x2 + ...+ wpxp + b\n",
    "- w : 가중치( 각 문제마다 다른 가중치가 적용됨 ) , b: 편향"
   ]
  },
  {
   "cell_type": "markdown",
   "id": "50e8996d",
   "metadata": {},
   "source": [
    "### 선형회귀 이해하기.\n",
    "- 성적데이터를 기반으로 선형회귀를 이해해보자."
   ]
  },
  {
   "cell_type": "code",
   "execution_count": 15,
   "id": "4ff4e825",
   "metadata": {},
   "outputs": [],
   "source": [
    "# 성적 데이터 생성을 위한 라이브러리 꺼내오기\n",
    "import pandas as pd\n",
    "import matplotlib.pyplot as plt"
   ]
  },
  {
   "cell_type": "code",
   "execution_count": 37,
   "id": "a849903c",
   "metadata": {},
   "outputs": [
    {
     "data": {
      "text/html": [
       "<div>\n",
       "<style scoped>\n",
       "    .dataframe tbody tr th:only-of-type {\n",
       "        vertical-align: middle;\n",
       "    }\n",
       "\n",
       "    .dataframe tbody tr th {\n",
       "        vertical-align: top;\n",
       "    }\n",
       "\n",
       "    .dataframe thead th {\n",
       "        text-align: right;\n",
       "    }\n",
       "</style>\n",
       "<table border=\"1\" class=\"dataframe\">\n",
       "  <thead>\n",
       "    <tr style=\"text-align: right;\">\n",
       "      <th></th>\n",
       "      <th>시간</th>\n",
       "      <th>성적</th>\n",
       "    </tr>\n",
       "  </thead>\n",
       "  <tbody>\n",
       "    <tr>\n",
       "      <th>준화</th>\n",
       "      <td>2</td>\n",
       "      <td>20</td>\n",
       "    </tr>\n",
       "    <tr>\n",
       "      <th>철수</th>\n",
       "      <td>4</td>\n",
       "      <td>40</td>\n",
       "    </tr>\n",
       "    <tr>\n",
       "      <th>유리</th>\n",
       "      <td>8</td>\n",
       "      <td>80</td>\n",
       "    </tr>\n",
       "    <tr>\n",
       "      <th>민수</th>\n",
       "      <td>9</td>\n",
       "      <td>90</td>\n",
       "    </tr>\n",
       "  </tbody>\n",
       "</table>\n",
       "</div>"
      ],
      "text/plain": [
       "    시간  성적\n",
       "준화   2  20\n",
       "철수   4  40\n",
       "유리   8  80\n",
       "민수   9  90"
      ]
     },
     "execution_count": 37,
     "metadata": {},
     "output_type": "execute_result"
    }
   ],
   "source": [
    "# 성적 데이터 생성\n",
    "data = pd.DataFrame([[2,20],[4,40],[8,80],[9,90]],\n",
    "            index=['준화','철수','유리','민수'],\n",
    "             columns=['시간','성적'])\n",
    "data"
   ]
  },
  {
   "cell_type": "markdown",
   "id": "57fac1bd",
   "metadata": {},
   "source": [
    "### MSE가 최소가 되는 최적의 w,b를 찾는 방법\n",
    "- MSE : 평균제곱오차(Mean Squared Error) ➜  비용함수(cost)\n",
    "-  1. 수학 공식을 이용한 해석적 모델\n",
    "-  2. 경사하강법(XGBoost에서 오차 계산하는 방법)"
   ]
  },
  {
   "cell_type": "markdown",
   "id": "20e5d988",
   "metadata": {},
   "source": [
    "### 1. 수학 공식을 이용한 해석적 모델\n",
    "- LinearRegression \n",
    "- 공식을 이용해서 적은 계산으로 한번에 최적의 선형함수를 찾는 방법\n",
    "- 공식이 완벽하지 않을 경우, 값을 못 찾을 수도 있고 \n",
    "- 공식이 잘못되었을 경우 고칠 수 없다는 문제가 있음. ➜ 추후 규제를 접목 개선"
   ]
  },
  {
   "cell_type": "code",
   "execution_count": 17,
   "id": "bb17013e",
   "metadata": {},
   "outputs": [
    {
     "data": {
      "text/html": [
       "<style>#sk-container-id-2 {color: black;background-color: white;}#sk-container-id-2 pre{padding: 0;}#sk-container-id-2 div.sk-toggleable {background-color: white;}#sk-container-id-2 label.sk-toggleable__label {cursor: pointer;display: block;width: 100%;margin-bottom: 0;padding: 0.3em;box-sizing: border-box;text-align: center;}#sk-container-id-2 label.sk-toggleable__label-arrow:before {content: \"▸\";float: left;margin-right: 0.25em;color: #696969;}#sk-container-id-2 label.sk-toggleable__label-arrow:hover:before {color: black;}#sk-container-id-2 div.sk-estimator:hover label.sk-toggleable__label-arrow:before {color: black;}#sk-container-id-2 div.sk-toggleable__content {max-height: 0;max-width: 0;overflow: hidden;text-align: left;background-color: #f0f8ff;}#sk-container-id-2 div.sk-toggleable__content pre {margin: 0.2em;color: black;border-radius: 0.25em;background-color: #f0f8ff;}#sk-container-id-2 input.sk-toggleable__control:checked~div.sk-toggleable__content {max-height: 200px;max-width: 100%;overflow: auto;}#sk-container-id-2 input.sk-toggleable__control:checked~label.sk-toggleable__label-arrow:before {content: \"▾\";}#sk-container-id-2 div.sk-estimator input.sk-toggleable__control:checked~label.sk-toggleable__label {background-color: #d4ebff;}#sk-container-id-2 div.sk-label input.sk-toggleable__control:checked~label.sk-toggleable__label {background-color: #d4ebff;}#sk-container-id-2 input.sk-hidden--visually {border: 0;clip: rect(1px 1px 1px 1px);clip: rect(1px, 1px, 1px, 1px);height: 1px;margin: -1px;overflow: hidden;padding: 0;position: absolute;width: 1px;}#sk-container-id-2 div.sk-estimator {font-family: monospace;background-color: #f0f8ff;border: 1px dotted black;border-radius: 0.25em;box-sizing: border-box;margin-bottom: 0.5em;}#sk-container-id-2 div.sk-estimator:hover {background-color: #d4ebff;}#sk-container-id-2 div.sk-parallel-item::after {content: \"\";width: 100%;border-bottom: 1px solid gray;flex-grow: 1;}#sk-container-id-2 div.sk-label:hover label.sk-toggleable__label {background-color: #d4ebff;}#sk-container-id-2 div.sk-serial::before {content: \"\";position: absolute;border-left: 1px solid gray;box-sizing: border-box;top: 0;bottom: 0;left: 50%;z-index: 0;}#sk-container-id-2 div.sk-serial {display: flex;flex-direction: column;align-items: center;background-color: white;padding-right: 0.2em;padding-left: 0.2em;position: relative;}#sk-container-id-2 div.sk-item {position: relative;z-index: 1;}#sk-container-id-2 div.sk-parallel {display: flex;align-items: stretch;justify-content: center;background-color: white;position: relative;}#sk-container-id-2 div.sk-item::before, #sk-container-id-2 div.sk-parallel-item::before {content: \"\";position: absolute;border-left: 1px solid gray;box-sizing: border-box;top: 0;bottom: 0;left: 50%;z-index: -1;}#sk-container-id-2 div.sk-parallel-item {display: flex;flex-direction: column;z-index: 1;position: relative;background-color: white;}#sk-container-id-2 div.sk-parallel-item:first-child::after {align-self: flex-end;width: 50%;}#sk-container-id-2 div.sk-parallel-item:last-child::after {align-self: flex-start;width: 50%;}#sk-container-id-2 div.sk-parallel-item:only-child::after {width: 0;}#sk-container-id-2 div.sk-dashed-wrapped {border: 1px dashed gray;margin: 0 0.4em 0.5em 0.4em;box-sizing: border-box;padding-bottom: 0.4em;background-color: white;}#sk-container-id-2 div.sk-label label {font-family: monospace;font-weight: bold;display: inline-block;line-height: 1.2em;}#sk-container-id-2 div.sk-label-container {text-align: center;}#sk-container-id-2 div.sk-container {/* jupyter's `normalize.less` sets `[hidden] { display: none; }` but bootstrap.min.css set `[hidden] { display: none !important; }` so we also need the `!important` here to be able to override the default hidden behavior on the sphinx rendered scikit-learn.org. See: https://github.com/scikit-learn/scikit-learn/issues/21755 */display: inline-block !important;position: relative;}#sk-container-id-2 div.sk-text-repr-fallback {display: none;}</style><div id=\"sk-container-id-2\" class=\"sk-top-container\"><div class=\"sk-text-repr-fallback\"><pre>LinearRegression()</pre><b>In a Jupyter environment, please rerun this cell to show the HTML representation or trust the notebook. <br />On GitHub, the HTML representation is unable to render, please try loading this page with nbviewer.org.</b></div><div class=\"sk-container\" hidden><div class=\"sk-item\"><div class=\"sk-estimator sk-toggleable\"><input class=\"sk-toggleable__control sk-hidden--visually\" id=\"sk-estimator-id-2\" type=\"checkbox\" checked><label for=\"sk-estimator-id-2\" class=\"sk-toggleable__label sk-toggleable__label-arrow\">LinearRegression</label><div class=\"sk-toggleable__content\"><pre>LinearRegression()</pre></div></div></div></div></div>"
      ],
      "text/plain": [
       "LinearRegression()"
      ]
     },
     "execution_count": 17,
     "metadata": {},
     "output_type": "execute_result"
    }
   ],
   "source": [
    "from sklearn.linear_model import LinearRegression\n",
    "\n",
    "# 모델 생성 및 하이퍼파라미터 설정\n",
    "linear_model = LinearRegression() \n",
    "\n",
    "# 학습\n",
    "linear_model.fit(data[['시간']],data['성적']) # 문제는 2차원, 정답은 1차원"
   ]
  },
  {
   "cell_type": "markdown",
   "id": "d1485428",
   "metadata": {},
   "source": [
    "#### y = wx + b ( 1개의 문제 )"
   ]
  },
  {
   "cell_type": "code",
   "execution_count": 18,
   "id": "69074fbe",
   "metadata": {},
   "outputs": [
    {
     "name": "stdout",
     "output_type": "stream",
     "text": [
      "기울기, 가중치:  [10.]\n",
      "절편, 편향:  7.105427357601002e-15\n"
     ]
    }
   ],
   "source": [
    "# 기울기, 가중치 출력\n",
    "print('기울기, 가중치: ', linear_model.coef_)\n",
    "\n",
    "# 절편, 편향 출력\n",
    "print('절편, 편향: ', linear_model.intercept_)"
   ]
  },
  {
   "cell_type": "code",
   "execution_count": 19,
   "id": "4a1475be",
   "metadata": {},
   "outputs": [
    {
     "name": "stderr",
     "output_type": "stream",
     "text": [
      "C:\\Users\\gjaischool\\anaconda3\\lib\\site-packages\\sklearn\\base.py:420: UserWarning: X does not have valid feature names, but LinearRegression was fitted with feature names\n",
      "  warnings.warn(\n"
     ]
    },
    {
     "data": {
      "text/plain": [
       "array([70.])"
      ]
     },
     "execution_count": 19,
     "metadata": {},
     "output_type": "execute_result"
    }
   ],
   "source": [
    "# 예측\n",
    "# 영재씨가 7시간 공부했을 때. 몇 점?\n",
    "linear_model.predict([[7]])"
   ]
  },
  {
   "cell_type": "markdown",
   "id": "17d22a6a",
   "metadata": {},
   "source": [
    "## 가설함수\n",
    "### - H(x)\n",
    "\n",
    "### 함수 정의"
   ]
  },
  {
   "cell_type": "code",
   "execution_count": 20,
   "id": "e7924686",
   "metadata": {},
   "outputs": [],
   "source": [
    "def h(w,x):\n",
    "    return w*x + 0"
   ]
  },
  {
   "cell_type": "markdown",
   "id": "f7a58f5e",
   "metadata": {},
   "source": [
    "### 비용함수(Cost Function)\n",
    "## 비용 =오차\n",
    "### ( 비용 함수 정의)\n",
    "#### - data: 문제 값\n",
    "#### - target : 정답(실제값)\n",
    "#### - weight : 가중치"
   ]
  },
  {
   "cell_type": "code",
   "execution_count": 23,
   "id": "a695b3fc",
   "metadata": {},
   "outputs": [],
   "source": [
    "def cost(data, target, weight):\n",
    "    #예측\n",
    "    y_pre= h(weight,data)\n",
    "    \n",
    "    # 평균 제곱 오차 \n",
    "    # : ((예측값 - 실제값)^2).mean()\n",
    "    error = ((y_pre- target)**2).mean()\n",
    "    return error    "
   ]
  },
  {
   "cell_type": "code",
   "execution_count": 24,
   "id": "9d9e5932",
   "metadata": {},
   "outputs": [
    {
     "data": {
      "text/plain": [
       "165.0"
      ]
     },
     "execution_count": 24,
     "metadata": {},
     "output_type": "execute_result"
    }
   ],
   "source": [
    "# 가중치에 따른 오차값 확인\n",
    "cost(data['시간'],data['성적'],8)"
   ]
  },
  {
   "cell_type": "code",
   "execution_count": 25,
   "id": "a9fed19b",
   "metadata": {},
   "outputs": [
    {
     "data": {
      "text/plain": [
       "0.0"
      ]
     },
     "execution_count": 25,
     "metadata": {},
     "output_type": "execute_result"
    }
   ],
   "source": [
    "cost(data['시간'],data['성적'],10)"
   ]
  },
  {
   "cell_type": "code",
   "execution_count": 28,
   "id": "ca234a96",
   "metadata": {},
   "outputs": [
    {
     "data": {
      "text/plain": [
       "[1031.25,\n",
       " 660.0,\n",
       " 371.25,\n",
       " 165.0,\n",
       " 41.25,\n",
       " 0.0,\n",
       " 41.25,\n",
       " 165.0,\n",
       " 371.25,\n",
       " 660.0,\n",
       " 1031.25]"
      ]
     },
     "execution_count": 28,
     "metadata": {},
     "output_type": "execute_result"
    }
   ],
   "source": [
    "# 가중치 변화에 따른 비용함수의 변화를 그래프로 확인\n",
    "cost_list =[]\n",
    "\n",
    "for w in range(5,16): # 5 ~ 15까지 가중치 변화\n",
    "    err=cost(data['시간'],data['성적'],w)\n",
    "    cost_list.append(err)\n",
    "cost_list"
   ]
  },
  {
   "cell_type": "code",
   "execution_count": 29,
   "id": "0384d9e3",
   "metadata": {
    "collapsed": true
   },
   "outputs": [
    {
     "data": {
      "image/png": "[encoded data removed]",
      "text/plain": [
       "<Figure size 640x480 with 1 Axes>"
      ]
     },
     "metadata": {},
     "output_type": "display_data"
    }
   ],
   "source": [
    "# 비용함수(MSE) 그리기\n",
    "plt.plot(range(5,16), cost_list) \n",
    "plt.show()"
   ]
  },
  {
   "cell_type": "markdown",
   "id": "b760e256",
   "metadata": {},
   "source": [
    "linear_model.score([data.[['시간']],data[['성적']]])\n",
    "# 분류모델: score ~ 정확도\n",
    "#회귀모델 : score(MSE를 기반으로한 R2score)-유사도\n"
   ]
  },
  {
   "cell_type": "markdown",
   "id": "cddc5f44",
   "metadata": {},
   "source": [
    "- 경사 하강법\n",
    "- SGDRegressor\n",
    "- 점진적으로 오차가 작은 선형 함수를 찾아가는 방법\n",
    "- 오차를 수정하는 방향으로 그래프를 다시 그려줌.\n",
    "- 선형함수를 잘못 찾았을 경우 수정이 가능\n",
    "- 점진적으로 찾아가므로 계산량이 많아서 시간이 오래 걸림.\n",
    "- 학습율(learning rate)\n",
    "    - 너무 크게 설정하면 오차가 커짐(발산)\n",
    "    - 너무 작게 설정하면 국소 지역점에 빠져서 최적의 해를 찾지 못함."
   ]
  },
  {
   "cell_type": "code",
   "execution_count": 33,
   "id": "f3302278",
   "metadata": {
    "collapsed": true
   },
   "outputs": [
    {
     "name": "stdout",
     "output_type": "stream",
     "text": [
      "-- Epoch 1\n",
      "Norm: 1.30, NNZs: 1, Bias: 0.182310, T: 4, Avg. loss: 1887.421789\n",
      "Total training time: 0.00 seconds.\n",
      "-- Epoch 2\n",
      "Norm: 2.19, NNZs: 1, Bias: 0.303737, T: 8, Avg. loss: 1453.118357\n",
      "Total training time: 0.00 seconds.\n",
      "-- Epoch 3\n",
      "Norm: 2.87, NNZs: 1, Bias: 0.399560, T: 12, Avg. loss: 1177.732583\n",
      "Total training time: 0.00 seconds.\n",
      "-- Epoch 4\n",
      "Norm: 3.45, NNZs: 1, Bias: 0.480734, T: 16, Avg. loss: 980.737327\n",
      "Total training time: 0.00 seconds.\n",
      "-- Epoch 5\n",
      "Norm: 3.96, NNZs: 1, Bias: 0.550448, T: 20, Avg. loss: 825.042755\n",
      "Total training time: 0.00 seconds.\n",
      "-- Epoch 6\n",
      "Norm: 4.40, NNZs: 1, Bias: 0.611714, T: 24, Avg. loss: 700.871474\n",
      "Total training time: 0.00 seconds.\n",
      "-- Epoch 7\n",
      "Norm: 4.79, NNZs: 1, Bias: 0.666182, T: 28, Avg. loss: 600.980674\n",
      "Total training time: 0.00 seconds.\n",
      "-- Epoch 8\n",
      "Norm: 5.14, NNZs: 1, Bias: 0.714781, T: 32, Avg. loss: 517.708696\n",
      "Total training time: 0.00 seconds.\n",
      "-- Epoch 9\n",
      "Norm: 5.46, NNZs: 1, Bias: 0.758780, T: 36, Avg. loss: 448.161647\n",
      "Total training time: 0.00 seconds.\n",
      "-- Epoch 10\n",
      "Norm: 5.75, NNZs: 1, Bias: 0.798647, T: 40, Avg. loss: 390.069102\n",
      "Total training time: 0.00 seconds.\n",
      "-- Epoch 11\n",
      "Norm: 6.01, NNZs: 1, Bias: 0.834834, T: 44, Avg. loss: 340.480770\n",
      "Total training time: 0.00 seconds.\n",
      "-- Epoch 12\n",
      "Norm: 6.25, NNZs: 1, Bias: 0.868083, T: 48, Avg. loss: 298.119768\n",
      "Total training time: 0.00 seconds.\n",
      "-- Epoch 13\n",
      "Norm: 6.47, NNZs: 1, Bias: 0.898534, T: 52, Avg. loss: 262.012090\n",
      "Total training time: 0.00 seconds.\n",
      "-- Epoch 14\n",
      "Norm: 6.67, NNZs: 1, Bias: 0.926456, T: 56, Avg. loss: 230.747892\n",
      "Total training time: 0.00 seconds.\n",
      "-- Epoch 15\n",
      "Norm: 6.86, NNZs: 1, Bias: 0.952344, T: 60, Avg. loss: 203.661897\n",
      "Total training time: 0.00 seconds.\n",
      "-- Epoch 16\n",
      "Norm: 7.03, NNZs: 1, Bias: 0.976220, T: 64, Avg. loss: 180.268316\n",
      "Total training time: 0.00 seconds.\n",
      "-- Epoch 17\n",
      "Norm: 7.19, NNZs: 1, Bias: 0.998263, T: 68, Avg. loss: 159.812556\n",
      "Total training time: 0.00 seconds.\n",
      "-- Epoch 18\n",
      "Norm: 7.34, NNZs: 1, Bias: 1.018829, T: 72, Avg. loss: 141.914529\n",
      "Total training time: 0.00 seconds.\n",
      "-- Epoch 19\n",
      "Norm: 7.48, NNZs: 1, Bias: 1.037893, T: 76, Avg. loss: 126.309188\n",
      "Total training time: 0.00 seconds.\n",
      "-- Epoch 20\n",
      "Norm: 7.61, NNZs: 1, Bias: 1.055580, T: 80, Avg. loss: 112.563023\n",
      "Total training time: 0.00 seconds.\n",
      "-- Epoch 21\n",
      "Norm: 7.73, NNZs: 1, Bias: 1.072158, T: 84, Avg. loss: 100.445581\n",
      "Total training time: 0.00 seconds.\n",
      "-- Epoch 22\n",
      "Norm: 7.84, NNZs: 1, Bias: 1.087583, T: 88, Avg. loss: 89.803280\n",
      "Total training time: 0.00 seconds.\n",
      "-- Epoch 23\n",
      "Norm: 7.95, NNZs: 1, Bias: 1.101949, T: 92, Avg. loss: 80.374620\n",
      "Total training time: 0.00 seconds.\n",
      "-- Epoch 24\n",
      "Norm: 8.05, NNZs: 1, Bias: 1.115462, T: 96, Avg. loss: 72.013858\n",
      "Total training time: 0.00 seconds.\n",
      "-- Epoch 25\n",
      "Norm: 8.14, NNZs: 1, Bias: 1.128073, T: 100, Avg. loss: 64.628043\n",
      "Total training time: 0.00 seconds.\n",
      "-- Epoch 26\n",
      "Norm: 8.23, NNZs: 1, Bias: 1.139853, T: 104, Avg. loss: 58.053685\n",
      "Total training time: 0.00 seconds.\n",
      "-- Epoch 27\n",
      "Norm: 8.31, NNZs: 1, Bias: 1.150965, T: 108, Avg. loss: 52.195624\n",
      "Total training time: 0.00 seconds.\n",
      "-- Epoch 28\n",
      "Norm: 8.39, NNZs: 1, Bias: 1.161361, T: 112, Avg. loss: 46.995710\n",
      "Total training time: 0.00 seconds.\n",
      "-- Epoch 29\n",
      "Norm: 8.46, NNZs: 1, Bias: 1.171094, T: 116, Avg. loss: 42.348885\n",
      "Total training time: 0.00 seconds.\n",
      "-- Epoch 30\n",
      "Norm: 8.53, NNZs: 1, Bias: 1.180298, T: 120, Avg. loss: 38.191423\n",
      "Total training time: 0.00 seconds.\n",
      "-- Epoch 31\n",
      "Norm: 8.59, NNZs: 1, Bias: 1.188924, T: 124, Avg. loss: 34.485980\n",
      "Total training time: 0.00 seconds.\n",
      "-- Epoch 32\n",
      "Norm: 8.65, NNZs: 1, Bias: 1.197017, T: 128, Avg. loss: 31.163567\n",
      "Total training time: 0.00 seconds.\n",
      "-- Epoch 33\n",
      "Norm: 8.71, NNZs: 1, Bias: 1.204684, T: 132, Avg. loss: 28.180606\n",
      "Total training time: 0.00 seconds.\n",
      "-- Epoch 34\n",
      "Norm: 8.76, NNZs: 1, Bias: 1.211882, T: 136, Avg. loss: 25.512600\n",
      "Total training time: 0.00 seconds.\n",
      "-- Epoch 35\n",
      "Norm: 8.81, NNZs: 1, Bias: 1.218645, T: 140, Avg. loss: 23.113446\n",
      "Total training time: 0.00 seconds.\n",
      "-- Epoch 36\n",
      "Norm: 8.86, NNZs: 1, Bias: 1.225063, T: 144, Avg. loss: 20.952812\n",
      "Total training time: 0.00 seconds.\n",
      "-- Epoch 37\n",
      "Norm: 8.90, NNZs: 1, Bias: 1.231096, T: 148, Avg. loss: 19.014340\n",
      "Total training time: 0.00 seconds.\n",
      "-- Epoch 38\n",
      "Norm: 8.95, NNZs: 1, Bias: 1.236772, T: 152, Avg. loss: 17.266778\n",
      "Total training time: 0.00 seconds.\n",
      "-- Epoch 39\n",
      "Norm: 8.99, NNZs: 1, Bias: 1.242167, T: 156, Avg. loss: 15.688686\n",
      "Total training time: 0.00 seconds.\n",
      "-- Epoch 40\n",
      "Norm: 9.03, NNZs: 1, Bias: 1.247242, T: 160, Avg. loss: 14.268975\n",
      "Total training time: 0.00 seconds.\n",
      "-- Epoch 41\n",
      "Norm: 9.06, NNZs: 1, Bias: 1.252023, T: 164, Avg. loss: 12.986210\n",
      "Total training time: 0.00 seconds.\n",
      "-- Epoch 42\n",
      "Norm: 9.10, NNZs: 1, Bias: 1.256572, T: 168, Avg. loss: 11.825026\n",
      "Total training time: 0.00 seconds.\n",
      "-- Epoch 43\n",
      "Norm: 9.13, NNZs: 1, Bias: 1.260855, T: 172, Avg. loss: 10.777810\n",
      "Total training time: 0.00 seconds.\n",
      "-- Epoch 44\n",
      "Norm: 9.16, NNZs: 1, Bias: 1.264893, T: 176, Avg. loss: 9.829714\n",
      "Total training time: 0.00 seconds.\n",
      "-- Epoch 45\n",
      "Norm: 9.19, NNZs: 1, Bias: 1.268740, T: 180, Avg. loss: 8.969594\n",
      "Total training time: 0.00 seconds.\n",
      "-- Epoch 46\n",
      "Norm: 9.22, NNZs: 1, Bias: 1.272364, T: 184, Avg. loss: 8.192162\n",
      "Total training time: 0.00 seconds.\n",
      "-- Epoch 47\n",
      "Norm: 9.25, NNZs: 1, Bias: 1.275782, T: 188, Avg. loss: 7.487052\n",
      "Total training time: 0.00 seconds.\n",
      "-- Epoch 48\n",
      "Norm: 9.27, NNZs: 1, Bias: 1.279041, T: 192, Avg. loss: 6.846089\n",
      "Total training time: 0.00 seconds.\n",
      "-- Epoch 49\n",
      "Norm: 9.29, NNZs: 1, Bias: 1.282113, T: 196, Avg. loss: 6.265562\n",
      "Total training time: 0.00 seconds.\n",
      "-- Epoch 50\n",
      "Norm: 9.32, NNZs: 1, Bias: 1.285012, T: 200, Avg. loss: 5.738190\n",
      "Total training time: 0.00 seconds.\n",
      "-- Epoch 51\n",
      "Norm: 9.34, NNZs: 1, Bias: 1.287778, T: 204, Avg. loss: 5.257910\n",
      "Total training time: 0.00 seconds.\n",
      "-- Epoch 52\n",
      "Norm: 9.36, NNZs: 1, Bias: 1.290386, T: 208, Avg. loss: 4.822098\n",
      "Total training time: 0.00 seconds.\n",
      "-- Epoch 53\n",
      "Norm: 9.38, NNZs: 1, Bias: 1.292848, T: 212, Avg. loss: 4.425613\n",
      "Total training time: 0.00 seconds.\n",
      "-- Epoch 54\n",
      "Norm: 9.40, NNZs: 1, Bias: 1.295198, T: 216, Avg. loss: 4.063916\n",
      "Total training time: 0.00 seconds.\n",
      "-- Epoch 55\n",
      "Norm: 9.42, NNZs: 1, Bias: 1.297414, T: 220, Avg. loss: 3.735136\n",
      "Total training time: 0.00 seconds.\n",
      "-- Epoch 56\n",
      "Norm: 9.43, NNZs: 1, Bias: 1.299505, T: 224, Avg. loss: 3.435628\n",
      "Total training time: 0.00 seconds.\n",
      "-- Epoch 57\n",
      "Norm: 9.45, NNZs: 1, Bias: 1.301504, T: 228, Avg. loss: 3.161964\n",
      "Total training time: 0.00 seconds.\n",
      "-- Epoch 58\n",
      "Norm: 9.46, NNZs: 1, Bias: 1.303387, T: 232, Avg. loss: 2.912800\n",
      "Total training time: 0.00 seconds.\n",
      "-- Epoch 59\n",
      "Norm: 9.48, NNZs: 1, Bias: 1.305165, T: 236, Avg. loss: 2.685549\n",
      "Total training time: 0.00 seconds.\n",
      "-- Epoch 60\n",
      "Norm: 9.49, NNZs: 1, Bias: 1.306863, T: 240, Avg. loss: 2.477596\n",
      "Total training time: 0.00 seconds.\n",
      "-- Epoch 61\n",
      "Norm: 9.51, NNZs: 1, Bias: 1.308464, T: 244, Avg. loss: 2.287971\n",
      "Total training time: 0.00 seconds.\n",
      "-- Epoch 62\n",
      "Norm: 9.52, NNZs: 1, Bias: 1.309974, T: 248, Avg. loss: 2.114834\n",
      "Total training time: 0.00 seconds.\n",
      "-- Epoch 63\n",
      "Norm: 9.53, NNZs: 1, Bias: 1.311418, T: 252, Avg. loss: 1.956177\n",
      "Total training time: 0.00 seconds.\n",
      "-- Epoch 64\n",
      "Norm: 9.54, NNZs: 1, Bias: 1.312778, T: 256, Avg. loss: 1.811293\n",
      "Total training time: 0.00 seconds.\n",
      "-- Epoch 65\n",
      "Norm: 9.55, NNZs: 1, Bias: 1.314059, T: 260, Avg. loss: 1.678877\n",
      "Total training time: 0.00 seconds.\n",
      "-- Epoch 66\n",
      "Norm: 9.57, NNZs: 1, Bias: 1.315285, T: 264, Avg. loss: 1.557374\n",
      "Total training time: 0.00 seconds.\n",
      "-- Epoch 67\n",
      "Norm: 9.58, NNZs: 1, Bias: 1.316438, T: 268, Avg. loss: 1.446265\n",
      "Total training time: 0.00 seconds.\n",
      "-- Epoch 68\n",
      "Norm: 9.59, NNZs: 1, Bias: 1.317524, T: 272, Avg. loss: 1.344628\n",
      "Total training time: 0.00 seconds.\n",
      "-- Epoch 69\n",
      "Norm: 9.59, NNZs: 1, Bias: 1.318562, T: 276, Avg. loss: 1.251247\n",
      "Total training time: 0.00 seconds.\n",
      "-- Epoch 70\n",
      "Norm: 9.60, NNZs: 1, Bias: 1.319538, T: 280, Avg. loss: 1.165743\n",
      "Total training time: 0.00 seconds.\n",
      "-- Epoch 71\n",
      "Norm: 9.61, NNZs: 1, Bias: 1.320456, T: 284, Avg. loss: 1.087465\n",
      "Total training time: 0.00 seconds.\n",
      "-- Epoch 72\n",
      "Norm: 9.62, NNZs: 1, Bias: 1.321334, T: 288, Avg. loss: 1.015458\n",
      "Total training time: 0.00 seconds.\n",
      "-- Epoch 73\n",
      "Norm: 9.63, NNZs: 1, Bias: 1.322157, T: 292, Avg. loss: 0.949442\n",
      "Total training time: 0.00 seconds.\n",
      "-- Epoch 74\n",
      "Norm: 9.64, NNZs: 1, Bias: 1.322931, T: 296, Avg. loss: 0.888960\n",
      "Total training time: 0.00 seconds.\n",
      "-- Epoch 75\n",
      "Norm: 9.64, NNZs: 1, Bias: 1.323670, T: 300, Avg. loss: 0.833259\n",
      "Total training time: 0.00 seconds.\n",
      "-- Epoch 76\n",
      "Norm: 9.65, NNZs: 1, Bias: 1.324362, T: 304, Avg. loss: 0.782129\n",
      "Total training time: 0.00 seconds.\n",
      "-- Epoch 77\n",
      "Norm: 9.66, NNZs: 1, Bias: 1.325010, T: 308, Avg. loss: 0.735256\n",
      "Total training time: 0.00 seconds.\n",
      "-- Epoch 78\n",
      "Norm: 9.66, NNZs: 1, Bias: 1.325630, T: 312, Avg. loss: 0.692038\n",
      "Total training time: 0.00 seconds.\n",
      "-- Epoch 79\n",
      "Norm: 9.67, NNZs: 1, Bias: 1.326209, T: 316, Avg. loss: 0.652320\n",
      "Total training time: 0.00 seconds.\n",
      "-- Epoch 80\n",
      "Norm: 9.67, NNZs: 1, Bias: 1.326749, T: 320, Avg. loss: 0.615888\n",
      "Total training time: 0.00 seconds.\n",
      "-- Epoch 81\n",
      "Norm: 9.68, NNZs: 1, Bias: 1.327266, T: 324, Avg. loss: 0.582259\n",
      "Total training time: 0.00 seconds.\n",
      "-- Epoch 82\n",
      "Norm: 9.68, NNZs: 1, Bias: 1.327746, T: 328, Avg. loss: 0.551317\n",
      "Total training time: 0.00 seconds.\n",
      "-- Epoch 83\n",
      "Norm: 9.69, NNZs: 1, Bias: 1.328193, T: 332, Avg. loss: 0.522921\n",
      "Total training time: 0.00 seconds.\n",
      "-- Epoch 84\n",
      "Norm: 9.69, NNZs: 1, Bias: 1.328620, T: 336, Avg. loss: 0.496683\n",
      "Total training time: 0.00 seconds.\n",
      "-- Epoch 85\n",
      "Norm: 9.70, NNZs: 1, Bias: 1.329015, T: 340, Avg. loss: 0.472512\n",
      "Total training time: 0.00 seconds.\n",
      "-- Epoch 86\n",
      "Norm: 9.70, NNZs: 1, Bias: 1.329381, T: 344, Avg. loss: 0.450320\n",
      "Total training time: 0.00 seconds.\n",
      "-- Epoch 87\n",
      "Norm: 9.71, NNZs: 1, Bias: 1.329730, T: 348, Avg. loss: 0.429793\n",
      "Total training time: 0.00 seconds.\n",
      "-- Epoch 88\n",
      "Norm: 9.71, NNZs: 1, Bias: 1.330051, T: 352, Avg. loss: 0.410862\n",
      "Total training time: 0.00 seconds.\n",
      "-- Epoch 89\n",
      "Norm: 9.72, NNZs: 1, Bias: 1.330347, T: 356, Avg. loss: 0.393474\n",
      "Total training time: 0.00 seconds.\n",
      "-- Epoch 90\n",
      "Norm: 9.72, NNZs: 1, Bias: 1.330628, T: 360, Avg. loss: 0.377373\n",
      "Total training time: 0.00 seconds.\n",
      "-- Epoch 91\n",
      "Norm: 9.72, NNZs: 1, Bias: 1.330885, T: 364, Avg. loss: 0.362507\n",
      "Total training time: 0.00 seconds.\n",
      "-- Epoch 92\n",
      "Norm: 9.73, NNZs: 1, Bias: 1.331119, T: 368, Avg. loss: 0.348849\n",
      "Total training time: 0.00 seconds.\n",
      "-- Epoch 93\n",
      "Norm: 9.73, NNZs: 1, Bias: 1.331342, T: 372, Avg. loss: 0.336189\n",
      "Total training time: 0.00 seconds.\n",
      "-- Epoch 94\n",
      "Norm: 9.73, NNZs: 1, Bias: 1.331542, T: 376, Avg. loss: 0.324486\n",
      "Total training time: 0.00 seconds.\n",
      "-- Epoch 95\n",
      "Norm: 9.74, NNZs: 1, Bias: 1.331723, T: 380, Avg. loss: 0.313731\n",
      "Total training time: 0.00 seconds.\n",
      "-- Epoch 96\n",
      "Norm: 9.74, NNZs: 1, Bias: 1.331895, T: 384, Avg. loss: 0.303752\n",
      "Total training time: 0.00 seconds.\n",
      "-- Epoch 97\n",
      "Norm: 9.74, NNZs: 1, Bias: 1.332046, T: 388, Avg. loss: 0.294517\n",
      "Total training time: 0.00 seconds.\n",
      "-- Epoch 98\n",
      "Norm: 9.74, NNZs: 1, Bias: 1.332181, T: 392, Avg. loss: 0.286027\n",
      "Total training time: 0.00 seconds.\n",
      "-- Epoch 99\n",
      "Norm: 9.75, NNZs: 1, Bias: 1.332307, T: 396, Avg. loss: 0.278142\n",
      "Total training time: 0.00 seconds.\n",
      "-- Epoch 100\n",
      "Norm: 9.75, NNZs: 1, Bias: 1.332417, T: 400, Avg. loss: 0.270836\n",
      "Total training time: 0.00 seconds.\n",
      "-- Epoch 101\n",
      "Norm: 9.75, NNZs: 1, Bias: 1.332510, T: 404, Avg. loss: 0.264118\n",
      "Total training time: 0.00 seconds.\n",
      "-- Epoch 102\n",
      "Norm: 9.75, NNZs: 1, Bias: 1.332598, T: 408, Avg. loss: 0.257873\n",
      "Total training time: 0.00 seconds.\n",
      "-- Epoch 103\n",
      "Norm: 9.76, NNZs: 1, Bias: 1.332670, T: 412, Avg. loss: 0.252079\n",
      "Total training time: 0.00 seconds.\n",
      "-- Epoch 104\n",
      "Norm: 9.76, NNZs: 1, Bias: 1.332728, T: 416, Avg. loss: 0.246750\n",
      "Total training time: 0.00 seconds.\n",
      "-- Epoch 105\n",
      "Norm: 9.76, NNZs: 1, Bias: 1.332781, T: 420, Avg. loss: 0.241791\n",
      "Total training time: 0.00 seconds.\n",
      "-- Epoch 106\n",
      "Norm: 9.76, NNZs: 1, Bias: 1.332820, T: 424, Avg. loss: 0.237185\n",
      "Total training time: 0.00 seconds.\n",
      "-- Epoch 107\n",
      "Norm: 9.76, NNZs: 1, Bias: 1.332848, T: 428, Avg. loss: 0.232948\n",
      "Total training time: 0.00 seconds.\n",
      "-- Epoch 108\n",
      "Norm: 9.77, NNZs: 1, Bias: 1.332871, T: 432, Avg. loss: 0.229001\n",
      "Total training time: 0.00 seconds.\n",
      "-- Epoch 109\n",
      "Norm: 9.77, NNZs: 1, Bias: 1.332882, T: 436, Avg. loss: 0.225330\n",
      "Total training time: 0.00 seconds.\n",
      "-- Epoch 110\n",
      "Norm: 9.77, NNZs: 1, Bias: 1.332882, T: 440, Avg. loss: 0.221952\n",
      "Total training time: 0.00 seconds.\n",
      "-- Epoch 111\n",
      "Norm: 9.77, NNZs: 1, Bias: 1.332879, T: 444, Avg. loss: 0.218803\n",
      "Total training time: 0.00 seconds.\n",
      "-- Epoch 112\n",
      "Norm: 9.77, NNZs: 1, Bias: 1.332864, T: 448, Avg. loss: 0.215869\n",
      "Total training time: 0.00 seconds.\n",
      "-- Epoch 113\n",
      "Norm: 9.77, NNZs: 1, Bias: 1.332840, T: 452, Avg. loss: 0.213170\n",
      "Total training time: 0.00 seconds.\n",
      "-- Epoch 114\n",
      "Norm: 9.78, NNZs: 1, Bias: 1.332814, T: 456, Avg. loss: 0.210650\n",
      "Total training time: 0.00 seconds.\n",
      "-- Epoch 115\n",
      "Norm: 9.78, NNZs: 1, Bias: 1.332778, T: 460, Avg. loss: 0.208299\n",
      "Total training time: 0.00 seconds.\n",
      "-- Epoch 116\n",
      "Norm: 9.78, NNZs: 1, Bias: 1.332734, T: 464, Avg. loss: 0.206135\n",
      "Total training time: 0.00 seconds.\n",
      "-- Epoch 117\n",
      "Norm: 9.78, NNZs: 1, Bias: 1.332687, T: 468, Avg. loss: 0.204114\n",
      "Total training time: 0.00 seconds.\n",
      "-- Epoch 118\n",
      "Norm: 9.78, NNZs: 1, Bias: 1.332632, T: 472, Avg. loss: 0.202225\n",
      "Total training time: 0.00 seconds.\n",
      "-- Epoch 119\n",
      "Norm: 9.78, NNZs: 1, Bias: 1.332569, T: 476, Avg. loss: 0.200486\n",
      "Total training time: 0.00 seconds.\n",
      "-- Epoch 120\n",
      "Norm: 9.78, NNZs: 1, Bias: 1.332505, T: 480, Avg. loss: 0.198859\n",
      "Total training time: 0.00 seconds.\n",
      "-- Epoch 121\n",
      "Norm: 9.78, NNZs: 1, Bias: 1.332433, T: 484, Avg. loss: 0.197336\n",
      "Total training time: 0.00 seconds.\n",
      "-- Epoch 122\n",
      "Norm: 9.78, NNZs: 1, Bias: 1.332354, T: 488, Avg. loss: 0.195934\n",
      "Total training time: 0.00 seconds.\n",
      "-- Epoch 123\n",
      "Norm: 9.79, NNZs: 1, Bias: 1.332274, T: 492, Avg. loss: 0.194621\n",
      "Total training time: 0.00 seconds.\n",
      "-- Epoch 124\n",
      "Norm: 9.79, NNZs: 1, Bias: 1.332188, T: 496, Avg. loss: 0.193390\n",
      "Total training time: 0.00 seconds.\n",
      "-- Epoch 125\n",
      "Norm: 9.79, NNZs: 1, Bias: 1.332094, T: 500, Avg. loss: 0.192255\n",
      "Total training time: 0.00 seconds.\n",
      "-- Epoch 126\n",
      "Norm: 9.79, NNZs: 1, Bias: 1.332001, T: 504, Avg. loss: 0.191191\n",
      "Total training time: 0.00 seconds.\n",
      "-- Epoch 127\n",
      "Norm: 9.79, NNZs: 1, Bias: 1.331901, T: 508, Avg. loss: 0.190192\n",
      "Total training time: 0.00 seconds.\n",
      "-- Epoch 128\n",
      "Norm: 9.79, NNZs: 1, Bias: 1.331796, T: 512, Avg. loss: 0.189270\n",
      "Total training time: 0.00 seconds.\n",
      "-- Epoch 129\n",
      "Norm: 9.79, NNZs: 1, Bias: 1.331691, T: 516, Avg. loss: 0.188406\n",
      "Total training time: 0.00 seconds.\n",
      "-- Epoch 130\n",
      "Norm: 9.79, NNZs: 1, Bias: 1.331579, T: 520, Avg. loss: 0.187592\n",
      "Total training time: 0.00 seconds.\n",
      "-- Epoch 131\n",
      "Norm: 9.79, NNZs: 1, Bias: 1.331463, T: 524, Avg. loss: 0.186840\n",
      "Total training time: 0.00 seconds.\n",
      "Convergence after 131 epochs took 0.00 seconds\n"
     ]
    },
    {
     "data": {
      "text/html": [
       "<style>#sk-container-id-3 {color: black;background-color: white;}#sk-container-id-3 pre{padding: 0;}#sk-container-id-3 div.sk-toggleable {background-color: white;}#sk-container-id-3 label.sk-toggleable__label {cursor: pointer;display: block;width: 100%;margin-bottom: 0;padding: 0.3em;box-sizing: border-box;text-align: center;}#sk-container-id-3 label.sk-toggleable__label-arrow:before {content: \"▸\";float: left;margin-right: 0.25em;color: #696969;}#sk-container-id-3 label.sk-toggleable__label-arrow:hover:before {color: black;}#sk-container-id-3 div.sk-estimator:hover label.sk-toggleable__label-arrow:before {color: black;}#sk-container-id-3 div.sk-toggleable__content {max-height: 0;max-width: 0;overflow: hidden;text-align: left;background-color: #f0f8ff;}#sk-container-id-3 div.sk-toggleable__content pre {margin: 0.2em;color: black;border-radius: 0.25em;background-color: #f0f8ff;}#sk-container-id-3 input.sk-toggleable__control:checked~div.sk-toggleable__content {max-height: 200px;max-width: 100%;overflow: auto;}#sk-container-id-3 input.sk-toggleable__control:checked~label.sk-toggleable__label-arrow:before {content: \"▾\";}#sk-container-id-3 div.sk-estimator input.sk-toggleable__control:checked~label.sk-toggleable__label {background-color: #d4ebff;}#sk-container-id-3 div.sk-label input.sk-toggleable__control:checked~label.sk-toggleable__label {background-color: #d4ebff;}#sk-container-id-3 input.sk-hidden--visually {border: 0;clip: rect(1px 1px 1px 1px);clip: rect(1px, 1px, 1px, 1px);height: 1px;margin: -1px;overflow: hidden;padding: 0;position: absolute;width: 1px;}#sk-container-id-3 div.sk-estimator {font-family: monospace;background-color: #f0f8ff;border: 1px dotted black;border-radius: 0.25em;box-sizing: border-box;margin-bottom: 0.5em;}#sk-container-id-3 div.sk-estimator:hover {background-color: #d4ebff;}#sk-container-id-3 div.sk-parallel-item::after {content: \"\";width: 100%;border-bottom: 1px solid gray;flex-grow: 1;}#sk-container-id-3 div.sk-label:hover label.sk-toggleable__label {background-color: #d4ebff;}#sk-container-id-3 div.sk-serial::before {content: \"\";position: absolute;border-left: 1px solid gray;box-sizing: border-box;top: 0;bottom: 0;left: 50%;z-index: 0;}#sk-container-id-3 div.sk-serial {display: flex;flex-direction: column;align-items: center;background-color: white;padding-right: 0.2em;padding-left: 0.2em;position: relative;}#sk-container-id-3 div.sk-item {position: relative;z-index: 1;}#sk-container-id-3 div.sk-parallel {display: flex;align-items: stretch;justify-content: center;background-color: white;position: relative;}#sk-container-id-3 div.sk-item::before, #sk-container-id-3 div.sk-parallel-item::before {content: \"\";position: absolute;border-left: 1px solid gray;box-sizing: border-box;top: 0;bottom: 0;left: 50%;z-index: -1;}#sk-container-id-3 div.sk-parallel-item {display: flex;flex-direction: column;z-index: 1;position: relative;background-color: white;}#sk-container-id-3 div.sk-parallel-item:first-child::after {align-self: flex-end;width: 50%;}#sk-container-id-3 div.sk-parallel-item:last-child::after {align-self: flex-start;width: 50%;}#sk-container-id-3 div.sk-parallel-item:only-child::after {width: 0;}#sk-container-id-3 div.sk-dashed-wrapped {border: 1px dashed gray;margin: 0 0.4em 0.5em 0.4em;box-sizing: border-box;padding-bottom: 0.4em;background-color: white;}#sk-container-id-3 div.sk-label label {font-family: monospace;font-weight: bold;display: inline-block;line-height: 1.2em;}#sk-container-id-3 div.sk-label-container {text-align: center;}#sk-container-id-3 div.sk-container {/* jupyter's `normalize.less` sets `[hidden] { display: none; }` but bootstrap.min.css set `[hidden] { display: none !important; }` so we also need the `!important` here to be able to override the default hidden behavior on the sphinx rendered scikit-learn.org. See: https://github.com/scikit-learn/scikit-learn/issues/21755 */display: inline-block !important;position: relative;}#sk-container-id-3 div.sk-text-repr-fallback {display: none;}</style><div id=\"sk-container-id-3\" class=\"sk-top-container\"><div class=\"sk-text-repr-fallback\"><pre>SGDRegressor(eta0=0.001, max_iter=5000, verbose=1)</pre><b>In a Jupyter environment, please rerun this cell to show the HTML representation or trust the notebook. <br />On GitHub, the HTML representation is unable to render, please try loading this page with nbviewer.org.</b></div><div class=\"sk-container\" hidden><div class=\"sk-item\"><div class=\"sk-estimator sk-toggleable\"><input class=\"sk-toggleable__control sk-hidden--visually\" id=\"sk-estimator-id-3\" type=\"checkbox\" checked><label for=\"sk-estimator-id-3\" class=\"sk-toggleable__label sk-toggleable__label-arrow\">SGDRegressor</label><div class=\"sk-toggleable__content\"><pre>SGDRegressor(eta0=0.001, max_iter=5000, verbose=1)</pre></div></div></div></div></div>"
      ],
      "text/plain": [
       "SGDRegressor(eta0=0.001, max_iter=5000, verbose=1)"
      ]
     },
     "execution_count": 33,
     "metadata": {},
     "output_type": "execute_result"
    }
   ],
   "source": [
    "from sklearn.linear_model import SGDRegressor\n",
    "\n",
    "#모델 생성 및 하이퍼 파라미터 설정\n",
    "    \n",
    "sgd_model = SGDRegressor(max_iter=5000, # 가중치 업데이트\n",
    "                          eta0=0.001,  # 학습률(learning rate)\n",
    "                          verbose =1) \n",
    " \n",
    "#학습\n",
    "sgd_model.fit(data[['시간']],data['성적'])\n"
   ]
  },
  {
   "cell_type": "code",
   "execution_count": 34,
   "id": "4c435ce2",
   "metadata": {},
   "outputs": [
    {
     "name": "stderr",
     "output_type": "stream",
     "text": [
      "C:\\Users\\gjaischool\\anaconda3\\lib\\site-packages\\sklearn\\base.py:420: UserWarning: X does not have valid feature names, but SGDRegressor was fitted with feature names\n",
      "  warnings.warn(\n"
     ]
    },
    {
     "data": {
      "text/plain": [
       "array([69.88177928])"
      ]
     },
     "execution_count": 34,
     "metadata": {},
     "output_type": "execute_result"
    }
   ],
   "source": [
    "# 예측\n",
    "sgd_model.predict([[7]])"
   ]
  },
  {
   "cell_type": "code",
   "execution_count": 35,
   "id": "66a07472",
   "metadata": {},
   "outputs": [
    {
     "name": "stdout",
     "output_type": "stream",
     "text": [
      "[9.79290234]\n",
      "[1.33146292]\n"
     ]
    }
   ],
   "source": [
    "# 가중치(w), 편향(b) 확인하기\n",
    "print(sgd_model.coef_)\n",
    "print(sgd_model.intercept_)"
   ]
  },
  {
   "cell_type": "code",
   "execution_count": 36,
   "id": "34eb5ce4",
   "metadata": {},
   "outputs": [
    {
     "data": {
      "text/plain": [
       "0.9995469433774614"
      ]
     },
     "execution_count": 36,
     "metadata": {},
     "output_type": "execute_result"
    }
   ],
   "source": [
    "sgd_model.score(data[['시간']],data['성적'])\n",
    "# 1에 가까울수록 모델이 예측 성능이 높다고 판단."
   ]
  },
  {
   "cell_type": "markdown",
   "id": "84b04bae",
   "metadata": {},
   "source": []
  },
  {
   "cell_type": "code",
   "execution_count": null,
   "id": "e20f1e58",
   "metadata": {},
   "outputs": [],
   "source": []
  },
  {
   "cell_type": "code",
   "execution_count": null,
   "id": "cd690a0f",
   "metadata": {},
   "outputs": [],
   "source": []
  },
  {
   "cell_type": "code",
   "execution_count": null,
   "id": "f22ee381",
   "metadata": {},
   "outputs": [],
   "source": []
  },
  {
   "cell_type": "code",
   "execution_count": null,
   "id": "a90a5b04",
   "metadata": {},
   "outputs": [],
   "source": []
  },
  {
   "cell_type": "code",
   "execution_count": null,
   "id": "a933808c",
   "metadata": {},
   "outputs": [],
   "source": []
  },
  {
   "cell_type": "code",
   "execution_count": null,
   "id": "d57f6801",
   "metadata": {},
   "outputs": [],
   "source": []
  },
  {
   "cell_type": "code",
   "execution_count": null,
   "id": "e350b184",
   "metadata": {},
   "outputs": [],
   "source": []
  },
  {
   "cell_type": "code",
   "execution_count": null,
   "id": "9e502c34",
   "metadata": {},
   "outputs": [],
   "source": []
  },
  {
   "cell_type": "code",
   "execution_count": null,
   "id": "ccf60aec",
   "metadata": {},
   "outputs": [],
   "source": []
  }
 ],
 "metadata": {
  "kernelspec": {
   "display_name": "Python 3 (ipykernel)",
   "language": "python",
   "name": "python3"
  },
  "language_info": {
   "codemirror_mode": {
    "name": "ipython",
    "version": 3
   },
   "file_extension": ".py",
   "mimetype": "text/x-python",
   "name": "python",
   "nbconvert_exporter": "python",
   "pygments_lexer": "ipython3",
   "version": "3.10.9"
  }
 },
 "nbformat": 4,
 "nbformat_minor": 5
}
