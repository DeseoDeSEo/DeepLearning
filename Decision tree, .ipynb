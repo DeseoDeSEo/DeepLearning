{
 "cells": [
  {
   "cell_type": "markdown",
   "id": "26a9c193",
   "metadata": {},
   "source": [
    "# decision tree: 의사결정나무\n",
    "- 스무고개 하듯이 예/ 아니오 질문을 반복하며 학습.\n",
    "- 특정 기준(질문, 문제 데이터(특성)에 따라 데이터를 구분하는 모델\n",
    "- 분류와 회귀에 모두 사용 가능.\n",
    "\n",
    "- root node -> decision node -> leaf node\n",
    "-  (제일 최상위 질문, 뿌리 노드 ) -> ( 중간 질문, 결정노드 ) -> ( 잎사귀 노드)\n",
    "- 깊이 = depth\n",
    "( 깊이가 깊다 = 규칙이 많다 = 과대 적합? )\n",
    "- Decision boundary (= 결정 경계)\n",
    ": 불순도가 낮을 수록 더 좋은 의사결정나무\n",
    "- 최적의 의사결정 나무 : 불순도가 낮아지는 방향 (= 동일한 카테고리끼리 있음.)\n",
    "- 불순도 측정 : 지니계수(Gini index)  \n",
    " \n",
    "#  \n",
    "-\n",
    "\n",
    "\n",
    "#\n"
   ]
  }
 ],
 "metadata": {
  "kernelspec": {
   "display_name": "Python 3 (ipykernel)",
   "language": "python",
   "name": "python3"
  },
  "language_info": {
   "codemirror_mode": {
    "name": "ipython",
    "version": 3
   },
   "file_extension": ".py",
   "mimetype": "text/x-python",
   "name": "python",
   "nbconvert_exporter": "python",
   "pygments_lexer": "ipython3",
   "version": "3.10.9"
  }
 },
 "nbformat": 4,
 "nbformat_minor": 5
}
