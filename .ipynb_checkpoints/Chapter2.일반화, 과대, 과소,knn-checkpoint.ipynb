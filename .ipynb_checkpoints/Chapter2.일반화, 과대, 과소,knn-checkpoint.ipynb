{
 "cells": [
  {
   "cell_type": "markdown",
   "id": "e611e495",
   "metadata": {},
   "source": [
    "# :모델의 신뢰도를 측정하고 성능을 확인하기 위한 개념들..\n",
    "- 과대적합 : 과하게 설명(?!) - Overfitting, 과하게 학습되었다.\n",
    "            - train학습을 너무 맞춰서 하다보니 규칙이 복잡해져서 test에 대한 성능은 떨어지는 상태(test예측을 못하는 상태)\n",
    "- 과소 적합 : 공의 특징은 다양하지만 단순하게 설명 - underfitting\n",
    "          - train 학습이 제대로 되지 않아서 test성능도 떨어지는 상태(예측을 못하는 상태)\n",
    "- 일반화: train에 대한 학습도 적당히 잘되고 test대한 성능도 어느정도 잘 나오는 상태 => 어떤 데이터가 들어와도 예측이 잘 됨.        \n",
    "\n",
    "### 목표:일반화 구간을 찾는 것\n",
    "\n",
    "## < 모델의 복잡도 해결 = 일반화 구간을 찾는 것. >\n",
    "-  일반적으로 데이터 양이 많으면 일반화에 도움이 됨.\n",
    "- 편중된 데이터를 많이 모으는 것보다 다양한 데이터포인트를 골고루 나타내기\n",
    " \n",
    "### KNN( K-nearest Neighbors)\n",
    " #### : k-최근접 이웃 알고리즘\n",
    " #### : k개의 최근접 이웃 알고리즘\n",
    " - 유사한 점이 서로 가까이에서 발견될 수 있다는 가정.\n",
    "-  분류와 회귀에 모두 사용 가능. 특정 데이터 포인트와 가장 가까운 이웃 데이터 포인트를 찾아 이웃과 동일한 클래스로 분류.\n",
    " \n",
    " - k값이 작을수록 모델의 복잡도가 상대적으로 증가\n",
    " - 반대로 k값이 커질수록 모델의 복잡도가 낮아짐. (= 성능이 떨어짐.)\n",
    " - 복잡도가 증가(=> 복잡하다. 과대적합)\n",
    " - k는 이웃의 수를 의미\n",
    " - 이웃의 수 값이 작으면 과대적합이 높음.\n",
    " - 적당한 이웃의 수를 찾아야함. --> 일반화!\n",
    " \n",
    " \n",
    " 새로운 테스트 데이터 세트가 들어오면 훈련 데이터 세트와의 거리를 계산.\n",
    " metrics : 유클리디안 거리 방식. n_neighbors: 이웃의수\n",
    " 오류 데이터가 결과값에 크게 영향을 미치지 않음.\n",
    " 훈련 데이터 세트가 크면(특성, 샘플의 수) 예측이 느려짐.\n",
    " \n",
    " < train_test_split 도구 >\n",
    " \n",
    "  - train, test 분할 1. 섞어줌. 2. 비율대로 분리 ..> 랜덤 샘플링\n",
    "  \n",
    " \n",
    " \n",
    " \n",
    " "
   ]
  },
  {
   "cell_type": "code",
   "execution_count": null,
   "id": "3d74e9d3",
   "metadata": {},
   "outputs": [],
   "source": []
  },
  {
   "cell_type": "code",
   "execution_count": null,
   "id": "ff2b71e7",
   "metadata": {},
   "outputs": [],
   "source": []
  },
  {
   "cell_type": "code",
   "execution_count": null,
   "id": "e0f36e26",
   "metadata": {},
   "outputs": [],
   "source": []
  },
  {
   "cell_type": "code",
   "execution_count": null,
   "id": "a20cc183",
   "metadata": {},
   "outputs": [],
   "source": []
  },
  {
   "cell_type": "code",
   "execution_count": null,
   "id": "f21793e9",
   "metadata": {},
   "outputs": [],
   "source": []
  },
  {
   "cell_type": "code",
   "execution_count": null,
   "id": "e00da1f3",
   "metadata": {},
   "outputs": [],
   "source": []
  },
  {
   "cell_type": "code",
   "execution_count": null,
   "id": "4dd9e13b",
   "metadata": {},
   "outputs": [],
   "source": []
  }
 ],
 "metadata": {
  "kernelspec": {
   "display_name": "Python 3 (ipykernel)",
   "language": "python",
   "name": "python3"
  },
  "language_info": {
   "codemirror_mode": {
    "name": "ipython",
    "version": 3
   },
   "file_extension": ".py",
   "mimetype": "text/x-python",
   "name": "python",
   "nbconvert_exporter": "python",
   "pygments_lexer": "ipython3",
   "version": "3.10.9"
  }
 },
 "nbformat": 4,
 "nbformat_minor": 5
}
