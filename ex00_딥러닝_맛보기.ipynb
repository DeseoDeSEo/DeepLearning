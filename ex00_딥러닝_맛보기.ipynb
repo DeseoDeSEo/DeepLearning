{
  "nbformat": 4,
  "nbformat_minor": 0,
  "metadata": {
    "colab": {
      "provenance": [],
      "toc_visible": true,
      "mount_file_id": "1ejmh3ZWSW_EK34vbWy6o4drbbMo4HePg",
      "authorship_tag": "ABX9TyMyKdvRY+syWmlu7D6c1L6f",
      "include_colab_link": true
    },
    "kernelspec": {
      "name": "python3",
      "display_name": "Python 3"
    },
    "language_info": {
      "name": "python"
    }
  },
  "cells": [
    {
      "cell_type": "markdown",
      "metadata": {
        "id": "view-in-github",
        "colab_type": "text"
      },
      "source": [
        "<a href=\"https://colab.research.google.com/github/DeseoDeSEo/DeepLearning/blob/master/ex00_%EB%94%A5%EB%9F%AC%EB%8B%9D_%EB%A7%9B%EB%B3%B4%EA%B8%B0.ipynb\" target=\"_parent\"><img src=\"https://colab.research.google.com/assets/colab-badge.svg\" alt=\"Open In Colab\"/></a>"
      ]
    },
    {
      "cell_type": "markdown",
      "source": [
        "### ➤ 단축 키 사용 법\n",
        "- 실행 단축 키\n",
        "  - ctrl + enter : 실행 후, 커서가 그대로 위치\n",
        "  - shift + enter : 실행 후, 커서가 아래의 셀로 이동됨\n",
        "  -  alt +  enter : 실행 후, 아래 셀을 생성해서 아래로 이동됨.\n",
        "- 마크 다운으로 변환( 코드 ➜  텍스트 )\n",
        "  - ctrl + m + m\n",
        "- 코드 모드로 변환( 텍스트 ➜  코드 셀 )\n",
        " - ctrl + m + y\n",
        "\n",
        "- 셀 아래에 추가하기\n",
        "  - ctrl + m + b\n",
        "- 셀 위에 추가하기\n",
        "  - ctrl + m + a\n"
      ],
      "metadata": {
        "id": "WYgfR106gRpx"
      }
    },
    {
      "cell_type": "markdown",
      "source": [
        "### ⛤ 딥 러닝 맛보기\n",
        "- 딥러닝 이란?\n",
        "  - 인간의 신경망을 모방하여 학습하고 예측하는 기술\n",
        "  - 대량의 데이터에서 복잡한 패턴이나 규칙을 찾아내는 능력이 뛰어남.\n",
        "  - 머신러닝에 비해 조금 더 유연한 사고를 한다.\n",
        "  - 인간의 뉴런 == 딥러닝에서 '선형모델'\n",
        "  - 주로, 영상, 음성, 이미지 처리에 사용된다 ~\n",
        "\n",
        "- tensorflow\n",
        "  - 구글이 만든 딥러닝을 위한 라이브러리\n",
        "\n",
        "-keras\n",
        "  - tensorflow 위에서 동작하는 라이브러리로 사용자 친화적 라이브러리.\n",
        "\n",
        "-"
      ],
      "metadata": {
        "id": "N-awKBSOhXmB"
      }
    },
    {
      "cell_type": "markdown",
      "source": [],
      "metadata": {
        "id": "dDLJic6SiobQ"
      }
    },
    {
      "cell_type": "code",
      "source": [
        "!top"
      ],
      "metadata": {
        "colab": {
          "base_uri": "https://localhost:8080/"
        },
        "id": "4_w0RCmpikMc",
        "outputId": "82055f53-a105-4069-edac-78514a1db152"
      },
      "execution_count": null,
      "outputs": [
        {
          "output_type": "stream",
          "name": "stdout",
          "text": [
            "\u001b[?1h\u001b=\u001b[H\u001b[2J\u001b[mtop - 05:14:42 up 10 min,  0 users,  load average: 1.00, 0.69, 0.40\u001b[m\u001b[m\u001b[m\u001b[m\u001b[K\n",
            "Tasks:\u001b[m\u001b[m\u001b[1m  25 \u001b[m\u001b[mtotal,\u001b[m\u001b[m\u001b[1m   1 \u001b[m\u001b[mrunning,\u001b[m\u001b[m\u001b[1m  22 \u001b[m\u001b[msleeping,\u001b[m\u001b[m\u001b[1m   0 \u001b[m\u001b[mstopped,\u001b[m\u001b[m\u001b[1m   2 \u001b[m\u001b[mzombie\u001b[m\u001b[m\u001b[m\u001b[m\u001b[K\n",
            "%Cpu(s):\u001b[m\u001b[m\u001b[1m 10.3 \u001b[m\u001b[mus,\u001b[m\u001b[m\u001b[1m  3.4 \u001b[m\u001b[msy,\u001b[m\u001b[m\u001b[1m  0.0 \u001b[m\u001b[mni,\u001b[m\u001b[m\u001b[1m 86.2 \u001b[m\u001b[mid,\u001b[m\u001b[m\u001b[1m  0.0 \u001b[m\u001b[mwa,\u001b[m\u001b[m\u001b[1m  0.0 \u001b[m\u001b[mhi,\u001b[m\u001b[m\u001b[1m  0.0 \u001b[m\u001b[msi,\u001b[m\u001b[m\u001b[1m  0.0 \u001b[m\u001b[mst\u001b[m\u001b[m\u001b[m\u001b[m\u001b[K\n",
            "MiB Mem :\u001b[m\u001b[m\u001b[1m  12982.7 \u001b[m\u001b[mtotal,\u001b[m\u001b[m\u001b[1m   8745.6 \u001b[m\u001b[mfree,\u001b[m\u001b[m\u001b[1m   1017.7 \u001b[m\u001b[mused,\u001b[m\u001b[m\u001b[1m   3219.3 \u001b[m\u001b[mbuff/cache\u001b[m\u001b[m\u001b[m\u001b[m\u001b[K\n",
            "MiB Swap:\u001b[m\u001b[m\u001b[1m      0.0 \u001b[m\u001b[mtotal,\u001b[m\u001b[m\u001b[1m      0.0 \u001b[m\u001b[mfree,\u001b[m\u001b[m\u001b[1m      0.0 \u001b[m\u001b[mused.\u001b[m\u001b[m\u001b[1m  11678.1 \u001b[m\u001b[mavail Mem \u001b[m\u001b[m\u001b[m\u001b[m\u001b[K\n",
            "\u001b[K\n",
            "\u001b[7m    PID USER      PR  NI    VIRT    RES    SHR S  %CPU  %MEM     TIME+ COMMAND  \u001b[m\u001b[m\u001b[K\n",
            "\u001b[m      7 root      20   0  886656  50196  30964 S   6.7   0.4   0:02.35 node     \u001b[m\u001b[m\u001b[K\n",
            "\u001b[m     83 root      20   0  559500 164772  53824 S   6.7   1.2   0:05.24 jupyter+ \u001b[m\u001b[m\u001b[K\n",
            "\u001b[m      1 root      20   0    1040      8      0 S   0.0   0.0   0:00.07 docker-+ \u001b[m\u001b[m\u001b[K\n",
            "\u001b[m     19 root      20   0    5804   1020    928 S   0.0   0.0   0:00.08 tail     \u001b[m\u001b[m\u001b[K\n",
            "\u001b[m     30 root      20   0    7372   3480   3180 S   0.0   0.0   0:00.30 oom_mon+ \u001b[m\u001b[m\u001b[K\n",
            "\u001b[m     32 root      20   0    7372   1912   1628 S   0.0   0.0   0:00.00 run.sh   \u001b[m\u001b[m\u001b[K\n",
            "\u001b[m     33 root      20   0 1237828  14468   8276 S   0.0   0.1   0:00.62 kernel_+ \u001b[m\u001b[m\u001b[K\n",
            "\u001b[m     61 root      20   0       0      0      0 Z   0.0   0.0   0:07.65 python3  \u001b[m\u001b[m\u001b[K\n",
            "\u001b[m     62 root      20   0   66312  51304  18600 S   0.0   0.4   0:00.93 colab-f+ \u001b[m\u001b[m\u001b[K\n",
            "\u001b[m     84 root      20   0 1229316   8596   2928 S   0.0   0.1   0:00.44 dap_mul+ \u001b[m\u001b[m\u001b[K\n",
            "\u001b[m   1132 root      20   0 2811512 574232 286372 S   0.0   4.3   0:10.42 python3  \u001b[m\u001b[m\u001b[K\n",
            "\u001b[m   1175 root      20   0  539312  14096   5080 S   0.0   0.1   0:00.87 python3  \u001b[m\u001b[m\u001b[K\n",
            "\u001b[m   1229 root      20   0    4360    272      0 S   0.0   0.0   0:00.00 bash     \u001b[m\u001b[m\u001b[K\n",
            "\u001b[m   1230 root      20   0 2183992  28516  22016 S   0.0   0.2   0:00.05 drive    \u001b[m\u001b[m\u001b[K\n",
            "\u001b[m   1231 root      20   0    3628   1612   1504 S   0.0   0.0   0:00.00 grep     \u001b[m\u001b[m\u001b[K\n",
            "\u001b[m   1322 root      20   0 2695860  73772  40784 S   0.0   0.6   0:00.57 drive    \u001b[m\u001b[m\u001b[K\n",
            "\u001b[m   1351 root      20   0       0      0      0 Z   0.0   0.0   0:00.43 fusermo+ \u001b[m\u001b[m\u001b[K\u001b[H\u001b[mtop - 05:14:45 up 10 min,  0 users,  load average: 1.00, 0.69, 0.40\u001b[m\u001b[m\u001b[m\u001b[m\u001b[K\n",
            "\n",
            "%Cpu(s):\u001b[m\u001b[m\u001b[1m  2.8 \u001b[m\u001b[mus,\u001b[m\u001b[m\u001b[1m  1.2 \u001b[m\u001b[msy,\u001b[m\u001b[m\u001b[1m  0.0 \u001b[m\u001b[mni,\u001b[m\u001b[m\u001b[1m 95.5 \u001b[m\u001b[mid,\u001b[m\u001b[m\u001b[1m  0.2 \u001b[m\u001b[mwa,\u001b[m\u001b[m\u001b[1m  0.0 \u001b[m\u001b[mhi,\u001b[m\u001b[m\u001b[1m  0.3 \u001b[m\u001b[msi,\u001b[m\u001b[m\u001b[1m  0.0 \u001b[m\u001b[mst\u001b[m\u001b[m\u001b[m\u001b[m\u001b[K\n",
            "MiB Mem :\u001b[m\u001b[m\u001b[1m  12982.7 \u001b[m\u001b[mtotal,\u001b[m\u001b[m\u001b[1m   8744.1 \u001b[m\u001b[mfree,\u001b[m\u001b[m\u001b[1m   1019.1 \u001b[m\u001b[mused,\u001b[m\u001b[m\u001b[1m   3219.4 \u001b[m\u001b[mbuff/cache\u001b[m\u001b[m\u001b[m\u001b[m\u001b[K\n",
            "MiB Swap:\u001b[m\u001b[m\u001b[1m      0.0 \u001b[m\u001b[mtotal,\u001b[m\u001b[m\u001b[1m      0.0 \u001b[m\u001b[mfree,\u001b[m\u001b[m\u001b[1m      0.0 \u001b[m\u001b[mused.\u001b[m\u001b[m\u001b[1m  11676.7 \u001b[m\u001b[mavail Mem \u001b[m\u001b[m\u001b[m\u001b[m\u001b[K\n",
            "\u001b[K\n",
            "\n",
            "\u001b[m      7 root      20   0  886656  50196  30964 S   1.0   0.4   0:02.38 node     \u001b[m\u001b[m\u001b[K\n",
            "\u001b[m   1132 root      20   0 2811512 574232 286372 S   0.7   4.3   0:10.44 python3  \u001b[m\u001b[m\u001b[K\n",
            "\u001b[m   1175 root      20   0  539312  14600   5080 S   0.7   0.1   0:00.89 python3  \u001b[m\u001b[m\u001b[K\n",
            "\u001b[m     33 root      20   0 1237828  14468   8276 S   0.3   0.1   0:00.63 kernel_+ \u001b[m\u001b[m\u001b[K\n",
            "\u001b[m     83 root      20   0  559500 164772  53824 S   0.3   1.2   0:05.25 jupyter+ \u001b[m\u001b[m\u001b[K\n",
            "\u001b[m     84 root      20   0 1229316   8596   2928 S   0.3   0.1   0:00.45 dap_mul+ \u001b[m\u001b[m\u001b[K\n",
            "\u001b[m   1459 root      20   0 1237256  14332   7500 S   0.3   0.1   0:00.28 languag+ \u001b[m\u001b[m\u001b[K\n",
            "\u001b[m      1 root      20   0    1040      8      0 S   0.0   0.0   0:00.07 docker-+ \u001b[m\u001b[m\u001b[K\n",
            "\u001b[m     19 root      20   0    5804   1020    928 S   0.0   0.0   0:00.08 tail     \u001b[m\u001b[m\u001b[K\n",
            "\u001b[m     30 root      20   0    7372   3480   3180 S   0.0   0.0   0:00.30 oom_mon+ \u001b[m\u001b[m\u001b[K\n",
            "\u001b[m     32 root      20   0    7372   1912   1628 S   0.0   0.0   0:00.00 run.sh   \u001b[m\u001b[m\u001b[K\n",
            "\u001b[m     61 root      20   0       0      0      0 Z   0.0   0.0   0:07.65 python3  \u001b[m\u001b[m\u001b[K\n",
            "\u001b[m     62 root      20   0   66312  51304  18600 S   0.0   0.4   0:00.93 colab-f+ \u001b[m\u001b[m\u001b[K\n",
            "\u001b[m   1229 root      20   0    4360    272      0 S   0.0   0.0   0:00.00 bash     \u001b[m\u001b[m\u001b[K\n",
            "\u001b[m   1230 root      20   0 2183992  28516  22016 S   0.0   0.2   0:00.05 drive    \u001b[m\u001b[m\u001b[K\n",
            "\u001b[m   1231 root      20   0    3628   1612   1504 S   0.0   0.0   0:00.00 grep     \u001b[m\u001b[m\u001b[K\n",
            "\u001b[m   1322 root      20   0 2695860  73772  40784 S   0.0   0.6   0:00.57 drive    \u001b[m\u001b[m\u001b[K\u001b[H\u001b[mtop - 05:14:48 up 10 min,  0 users,  load average: 0.92, 0.68, 0.40\u001b[m\u001b[m\u001b[m\u001b[m\u001b[K\n",
            "\n",
            "%Cpu(s):\u001b[m\u001b[m\u001b[1m 33.3 \u001b[m\u001b[mus,\u001b[m\u001b[m\u001b[1m  5.0 \u001b[m\u001b[msy,\u001b[m\u001b[m\u001b[1m  0.0 \u001b[m\u001b[mni,\u001b[m\u001b[m\u001b[1m 61.2 \u001b[m\u001b[mid,\u001b[m\u001b[m\u001b[1m  0.2 \u001b[m\u001b[mwa,\u001b[m\u001b[m\u001b[1m  0.0 \u001b[m\u001b[mhi,\u001b[m\u001b[m\u001b[1m  0.2 \u001b[m\u001b[msi,\u001b[m\u001b[m\u001b[1m  0.2 \u001b[m\u001b[mst\u001b[m\u001b[m\u001b[m\u001b[m\u001b[K\n",
            "MiB Mem :\u001b[m\u001b[m\u001b[1m  12982.7 \u001b[m\u001b[mtotal,\u001b[m\u001b[m\u001b[1m   8728.6 \u001b[m\u001b[mfree,\u001b[m\u001b[m\u001b[1m   1034.5 \u001b[m\u001b[mused,\u001b[m\u001b[m\u001b[1m   3219.5 \u001b[m\u001b[mbuff/cache\u001b[m\u001b[m\u001b[m\u001b[m\u001b[K\n",
            "MiB Swap:\u001b[m\u001b[m\u001b[1m      0.0 \u001b[m\u001b[mtotal,\u001b[m\u001b[m\u001b[1m      0.0 \u001b[m\u001b[mfree,\u001b[m\u001b[m\u001b[1m      0.0 \u001b[m\u001b[mused.\u001b[m\u001b[m\u001b[1m  11661.2 \u001b[m\u001b[mavail Mem \u001b[m\u001b[m\u001b[m\u001b[m\u001b[K\n",
            "\u001b[K\n",
            "\n",
            "\u001b[m   1132 root      20   0 2811512 574232 286372 S   1.3   4.3   0:10.48 python3  \u001b[m\u001b[m\u001b[K\n",
            "\u001b[m      7 root      20   0  886656  50196  30964 S   0.7   0.4   0:02.40 node     \u001b[m\u001b[m\u001b[K\n",
            "\u001b[m   1175 root      20   0  540336  14864   5080 S   0.7   0.1   0:00.91 python3  \u001b[m\u001b[m\u001b[K\n",
            "\u001b[m     84 root      20   0 1229316   8596   2928 S   0.3   0.1   0:00.46 dap_mul+ \u001b[m\u001b[m\u001b[K\n",
            "\u001b[m      1 root      20   0    1040      8      0 S   0.0   0.0   0:00.07 docker-+ \u001b[m\u001b[m\u001b[K\n",
            "\u001b[m     19 root      20   0    5804   1020    928 S   0.0   0.0   0:00.08 tail     \u001b[m\u001b[m\u001b[K\n",
            "\u001b[m     30 root      20   0    7372   3480   3180 S   0.0   0.0   0:00.30 oom_mon+ \u001b[m\u001b[m\u001b[K\n",
            "\u001b[m     32 root      20   0    7372   1912   1628 S   0.0   0.0   0:00.00 run.sh   \u001b[m\u001b[m\u001b[K\n",
            "\u001b[m     33 root      20   0 1237828  14468   8276 S   0.0   0.1   0:00.63 kernel_+ \u001b[m\u001b[m\u001b[K\n",
            "\u001b[m     61 root      20   0       0      0      0 Z   0.0   0.0   0:07.65 python3  \u001b[m\u001b[m\u001b[K\n",
            "\u001b[m     62 root      20   0   66312  51304  18600 S   0.0   0.4   0:00.93 colab-f+ \u001b[m\u001b[m\u001b[K\n",
            "\u001b[m     83 root      20   0  559500 164772  53824 S   0.0   1.2   0:05.25 jupyter+ \u001b[m\u001b[m\u001b[K\n",
            "\u001b[m   1229 root      20   0    4360    272      0 S   0.0   0.0   0:00.00 bash     \u001b[m\u001b[m\u001b[K\n",
            "\u001b[m   1230 root      20   0 2183992  28516  22016 S   0.0   0.2   0:00.05 drive    \u001b[m\u001b[m\u001b[K\n",
            "\u001b[m   1231 root      20   0    3628   1612   1504 S   0.0   0.0   0:00.00 grep     \u001b[m\u001b[m\u001b[K\n",
            "\u001b[m   1322 root      20   0 2695860  73844  40784 S   0.0   0.6   0:00.57 drive    \u001b[m\u001b[m\u001b[K\n",
            "\u001b[m   1351 root      20   0       0      0      0 Z   0.0   0.0   0:00.43 fusermo+ \u001b[m\u001b[m\u001b[K\u001b[H\u001b[mtop - 05:14:51 up 10 min,  0 users,  load average: 0.85, 0.67, 0.39\u001b[m\u001b[m\u001b[m\u001b[m\u001b[K\n",
            "\n",
            "%Cpu(s):\u001b[m\u001b[m\u001b[1m 10.9 \u001b[m\u001b[mus,\u001b[m\u001b[m\u001b[1m  3.7 \u001b[m\u001b[msy,\u001b[m\u001b[m\u001b[1m  0.0 \u001b[m\u001b[mni,\u001b[m\u001b[m\u001b[1m 85.3 \u001b[m\u001b[mid,\u001b[m\u001b[m\u001b[1m  0.0 \u001b[m\u001b[mwa,\u001b[m\u001b[m\u001b[1m  0.0 \u001b[m\u001b[mhi,\u001b[m\u001b[m\u001b[1m  0.2 \u001b[m\u001b[msi,\u001b[m\u001b[m\u001b[1m  0.0 \u001b[m\u001b[mst\u001b[m\u001b[m\u001b[m\u001b[m\u001b[K\n",
            "MiB Mem :\u001b[m\u001b[m\u001b[1m  12982.7 \u001b[m\u001b[mtotal,\u001b[m\u001b[m\u001b[1m   8728.1 \u001b[m\u001b[mfree,\u001b[m\u001b[m\u001b[1m   1034.9 \u001b[m\u001b[mused,\u001b[m\u001b[m\u001b[1m   3219.6 \u001b[m\u001b[mbuff/cache\u001b[m\u001b[m\u001b[m\u001b[m\u001b[K\n",
            "MiB Swap:\u001b[m\u001b[m\u001b[1m      0.0 \u001b[m\u001b[mtotal,\u001b[m\u001b[m\u001b[1m      0.0 \u001b[m\u001b[mfree,\u001b[m\u001b[m\u001b[1m      0.0 \u001b[m\u001b[mused.\u001b[m\u001b[m\u001b[1m  11660.9 \u001b[m\u001b[mavail Mem \u001b[m\u001b[m\u001b[m\u001b[m\u001b[K\n",
            "\u001b[K\n",
            "\n",
            "\u001b[m   1132 root      20   0 2811512 574232 286372 S   1.0   4.3   0:10.51 python3  \u001b[m\u001b[m\u001b[K\n",
            "\u001b[m      7 root      20   0  886656  49248  30964 S   0.3   0.4   0:02.41 node     \u001b[m\u001b[m\u001b[K\n",
            "\u001b[m      1 root      20   0    1040      8      0 S   0.0   0.0   0:00.07 docker-+ \u001b[m\u001b[m\u001b[K\n",
            "\u001b[m     19 root      20   0    5804   1020    928 S   0.0   0.0   0:00.08 tail     \u001b[m\u001b[m\u001b[K\n",
            "\u001b[m     30 root      20   0    7372   3480   3180 S   0.0   0.0   0:00.30 oom_mon+ \u001b[m\u001b[m\u001b[K\n",
            "\u001b[m     32 root      20   0    7372   1912   1628 S   0.0   0.0   0:00.00 run.sh   \u001b[m\u001b[m\u001b[K\n",
            "\u001b[m     33 root      20   0 1237828  14468   8276 S   0.0   0.1   0:00.63 kernel_+ \u001b[m\u001b[m\u001b[K\n",
            "\u001b[m     61 root      20   0       0      0      0 Z   0.0   0.0   0:07.65 python3  \u001b[m\u001b[m\u001b[K\n",
            "\u001b[m     62 root      20   0   66312  51304  18600 S   0.0   0.4   0:00.93 colab-f+ \u001b[m\u001b[m\u001b[K\n",
            "\u001b[m     83 root      20   0  559500 164772  53824 S   0.0   1.2   0:05.25 jupyter+ \u001b[m\u001b[m\u001b[K\n",
            "\u001b[m     84 root      20   0 1229316   8596   2928 S   0.0   0.1   0:00.46 dap_mul+ \u001b[m\u001b[m\u001b[K\n",
            "\u001b[m   1175 root      20   0  540336  15392   5080 S   0.0   0.1   0:00.91 python3  \u001b[m\u001b[m\u001b[K\n",
            "\n",
            "\n",
            "\n",
            "\n",
            "\u001b[H\u001b[mtop - 05:14:54 up 10 min,  0 users,  load average: 0.85, 0.67, 0.39\u001b[m\u001b[m\u001b[m\u001b[m\u001b[K\n",
            "\n",
            "%Cpu(s):\u001b[m\u001b[m\u001b[1m  2.8 \u001b[m\u001b[mus,\u001b[m\u001b[m\u001b[1m  1.0 \u001b[m\u001b[msy,\u001b[m\u001b[m\u001b[1m  0.0 \u001b[m\u001b[mni,\u001b[m\u001b[m\u001b[1m 96.0 \u001b[m\u001b[mid,\u001b[m\u001b[m\u001b[1m  0.0 \u001b[m\u001b[mwa,\u001b[m\u001b[m\u001b[1m  0.0 \u001b[m\u001b[mhi,\u001b[m\u001b[m\u001b[1m  0.2 \u001b[m\u001b[msi,\u001b[m\u001b[m\u001b[1m  0.0 \u001b[m\u001b[mst\u001b[m\u001b[m\u001b[m\u001b[m\u001b[K\n",
            "\n",
            "\n",
            "\u001b[K\n",
            "\n",
            "\u001b[m      7 root      20   0  886656  49248  30964 S   0.7   0.4   0:02.43 node     \u001b[m\u001b[m\u001b[K\n",
            "\u001b[m   1132 root      20   0 2811512 574232 286372 S   0.7   4.3   0:10.53 python3  \u001b[m\u001b[m\u001b[K\n",
            "\u001b[m     30 root      20   0    7372   3480   3180 S   0.3   0.0   0:00.31 oom_mon+ \u001b[m\u001b[m\u001b[K\n",
            "\u001b[m     33 root      20   0 1237828  14468   8276 S   0.3   0.1   0:00.64 kernel_+ \u001b[m\u001b[m\u001b[K\n",
            "\u001b[m     84 root      20   0 1229316   8596   2928 S   0.3   0.1   0:00.47 dap_mul+ \u001b[m\u001b[m\u001b[K\n",
            "\u001b[m   1175 root      20   0  541360  15656   5080 S   0.3   0.1   0:00.92 python3  \u001b[m\u001b[m\u001b[K\n",
            "\u001b[m      1 root      20   0    1040      8      0 S   0.0   0.0   0:00.07 docker-+ \u001b[m\u001b[m\u001b[K\n",
            "\u001b[m     19 root      20   0    5804   1020    928 S   0.0   0.0   0:00.08 tail     \u001b[m\u001b[m\u001b[K\n",
            "\u001b[m     32 root      20   0    7372   1912   1628 S   0.0   0.0   0:00.00 run.sh   \u001b[m\u001b[m\u001b[K\n",
            "\u001b[m     61 root      20   0       0      0      0 Z   0.0   0.0   0:07.65 python3  \u001b[m\u001b[m\u001b[K\n",
            "\u001b[m     62 root      20   0   66312  51304  18600 S   0.0   0.4   0:00.93 colab-f+ \u001b[m\u001b[m\u001b[K\n",
            "\u001b[m     83 root      20   0  559500 164772  53824 S   0.0   1.2   0:05.25 jupyter+ \u001b[m\u001b[m\u001b[K\n",
            "\n",
            "\n",
            "\n",
            "\n",
            "\u001b[H\u001b[mtop - 05:14:57 up 10 min,  0 users,  load average: 0.94, 0.69, 0.40\u001b[m\u001b[m\u001b[m\u001b[m\u001b[K\n",
            "\n",
            "%Cpu(s):\u001b[m\u001b[m\u001b[1m  2.7 \u001b[m\u001b[mus,\u001b[m\u001b[m\u001b[1m  1.3 \u001b[m\u001b[msy,\u001b[m\u001b[m\u001b[1m  0.0 \u001b[m\u001b[mni,\u001b[m\u001b[m\u001b[1m 95.8 \u001b[m\u001b[mid,\u001b[m\u001b[m\u001b[1m  0.2 \u001b[m\u001b[mwa,\u001b[m\u001b[m\u001b[1m  0.0 \u001b[m\u001b[mhi,\u001b[m\u001b[m\u001b[1m  0.0 \u001b[m\u001b[msi,\u001b[m\u001b[m\u001b[1m  0.0 \u001b[m\u001b[mst\u001b[m\u001b[m\u001b[m\u001b[m\u001b[K\n",
            "MiB Mem :\u001b[m\u001b[m\u001b[1m  12982.7 \u001b[m\u001b[mtotal,\u001b[m\u001b[m\u001b[1m   8727.9 \u001b[m\u001b[mfree,\u001b[m\u001b[m\u001b[1m   1035.1 \u001b[m\u001b[mused,\u001b[m\u001b[m\u001b[1m   3219.7 \u001b[m\u001b[mbuff/cache\u001b[m\u001b[m\u001b[m\u001b[m\u001b[K\n",
            "MiB Swap:\u001b[m\u001b[m\u001b[1m      0.0 \u001b[m\u001b[mtotal,\u001b[m\u001b[m\u001b[1m      0.0 \u001b[m\u001b[mfree,\u001b[m\u001b[m\u001b[1m      0.0 \u001b[m\u001b[mused.\u001b[m\u001b[m\u001b[1m  11660.7 \u001b[m\u001b[mavail Mem \u001b[m\u001b[m\u001b[m\u001b[m\u001b[K\n",
            "\u001b[K\n",
            "\n",
            "\u001b[m   1132 root      20   0 2811512 574232 286372 S   1.0   4.3   0:10.56 python3  \u001b[m\u001b[m\u001b[K\n",
            "\u001b[m      7 root      20   0  886656  48716  30964 S   0.7   0.4   0:02.45 node     \u001b[m\u001b[m\u001b[K\n",
            "\u001b[m     83 root      20   0  559500 164772  53824 S   0.3   1.2   0:05.26 jupyter+ \u001b[m\u001b[m\u001b[K\n",
            "\u001b[m   1175 root      20   0  541360  15920   5080 S   0.3   0.1   0:00.93 python3  \u001b[m\u001b[m\u001b[K\n",
            "\u001b[m      1 root      20   0    1040      8      0 S   0.0   0.0   0:00.07 docker-+ \u001b[m\u001b[m\u001b[K\n",
            "\u001b[m     19 root      20   0    5804   1020    928 S   0.0   0.0   0:00.08 tail     \u001b[m\u001b[m\u001b[K\n",
            "\u001b[m     30 root      20   0    7372   3480   3180 S   0.0   0.0   0:00.31 oom_mon+ \u001b[m\u001b[m\u001b[K\n",
            "\u001b[m     32 root      20   0    7372   1912   1628 S   0.0   0.0   0:00.00 run.sh   \u001b[m\u001b[m\u001b[K\n",
            "\u001b[m     33 root      20   0 1237828  14468   8276 S   0.0   0.1   0:00.64 kernel_+ \u001b[m\u001b[m\u001b[K\n",
            "\n",
            "\n",
            "\u001b[m     84 root      20   0 1229316   8596   2928 S   0.0   0.1   0:00.47 dap_mul+ \u001b[m\u001b[m\u001b[K\n",
            "\n",
            "\n",
            "\n",
            "\n",
            "\u001b[H\u001b[mtop - 05:15:00 up 10 min,  0 users,  load average: 0.94, 0.69, 0.40\u001b[m\u001b[m\u001b[m\u001b[m\u001b[K\n",
            "\n",
            "%Cpu(s):\u001b[m\u001b[m\u001b[1m 22.4 \u001b[m\u001b[mus,\u001b[m\u001b[m\u001b[1m  4.2 \u001b[m\u001b[msy,\u001b[m\u001b[m\u001b[1m  0.0 \u001b[m\u001b[mni,\u001b[m\u001b[m\u001b[1m 73.3 \u001b[m\u001b[mid,\u001b[m\u001b[m\u001b[1m  0.0 \u001b[m\u001b[mwa,\u001b[m\u001b[m\u001b[1m  0.0 \u001b[m\u001b[mhi,\u001b[m\u001b[m\u001b[1m  0.0 \u001b[m\u001b[msi,\u001b[m\u001b[m\u001b[1m  0.2 \u001b[m\u001b[mst\u001b[m\u001b[m\u001b[m\u001b[m\u001b[K\n",
            "MiB Mem :\u001b[m\u001b[m\u001b[1m  12982.7 \u001b[m\u001b[mtotal,\u001b[m\u001b[m\u001b[1m   8726.4 \u001b[m\u001b[mfree,\u001b[m\u001b[m\u001b[1m   1036.6 \u001b[m\u001b[mused,\u001b[m\u001b[m\u001b[1m   3219.7 \u001b[m\u001b[mbuff/cache\u001b[m\u001b[m\u001b[m\u001b[m\u001b[K\n",
            "MiB Swap:\u001b[m\u001b[m\u001b[1m      0.0 \u001b[m\u001b[mtotal,\u001b[m\u001b[m\u001b[1m      0.0 \u001b[m\u001b[mfree,\u001b[m\u001b[m\u001b[1m      0.0 \u001b[m\u001b[mused.\u001b[m\u001b[m\u001b[1m  11659.2 \u001b[m\u001b[mavail Mem \u001b[m\u001b[m\u001b[m\u001b[m\u001b[K\n",
            "\u001b[K\n",
            "\n",
            "\u001b[m   1132 root      20   0 2811512 574232 286372 S   1.0   4.3   0:10.59 python3  \u001b[m\u001b[m\u001b[K\n",
            "\u001b[m   1175 root      20   0  541360  16448   5080 S   0.7   0.1   0:00.95 python3  \u001b[m\u001b[m\u001b[K\n",
            "\u001b[m     30 root      20   0    7372   3480   3180 S   0.3   0.0   0:00.32 oom_mon+ \u001b[m\u001b[m\u001b[K\n",
            "\u001b[m   1322 root      20   0 2695860  73844  40784 S   0.3   0.6   0:00.58 drive    \u001b[m\u001b[m\u001b[K\n",
            "\n",
            "\u001b[m      7 root      20   0  886656  48716  30964 S   0.0   0.4   0:02.45 node     \u001b[m\u001b[m\u001b[K\n",
            "\u001b[m     19 root      20   0    5804   1020    928 S   0.0   0.0   0:00.08 tail     \u001b[m\u001b[m\u001b[K\n",
            "\n",
            "\u001b[m     33 root      20   0 1237828  14712   8276 S   0.0   0.1   0:00.64 kernel_+ \u001b[m\u001b[m\u001b[K\n",
            "\n",
            "\n",
            "\u001b[m     83 root      20   0  559500 164772  53824 S   0.0   1.2   0:05.26 jupyter+ \u001b[m\u001b[m\u001b[K\n",
            "\u001b[m     84 root      20   0 1229316   8596   2928 S   0.0   0.1   0:00.47 dap_mul+ \u001b[m\u001b[m\u001b[K\n",
            "\u001b[m   1229 root      20   0    4360    272      0 S   0.0   0.0   0:00.00 bash     \u001b[m\u001b[m\u001b[K\n",
            "\u001b[m   1230 root      20   0 2183992  28516  22016 S   0.0   0.2   0:00.05 drive    \u001b[m\u001b[m\u001b[K\n",
            "\u001b[m   1231 root      20   0    3628   1612   1504 S   0.0   0.0   0:00.00 grep     \u001b[m\u001b[m\u001b[K\n",
            "\u001b[H\u001b[mtop - 05:15:03 up 10 min,  0 users,  load average: 0.94, 0.70, 0.41\u001b[m\u001b[m\u001b[m\u001b[m\u001b[K\n",
            "Tasks:\u001b[m\u001b[m\u001b[1m  25 \u001b[m\u001b[mtotal,\u001b[m\u001b[m\u001b[1m   2 \u001b[m\u001b[mrunning,\u001b[m\u001b[m\u001b[1m  21 \u001b[m\u001b[msleeping,\u001b[m\u001b[m\u001b[1m   0 \u001b[m\u001b[mstopped,\u001b[m\u001b[m\u001b[1m   2 \u001b[m\u001b[mzombie\u001b[m\u001b[m\u001b[m\u001b[m\u001b[K\n",
            "%Cpu(s):\u001b[m\u001b[m\u001b[1m 38.4 \u001b[m\u001b[mus,\u001b[m\u001b[m\u001b[1m  6.2 \u001b[m\u001b[msy,\u001b[m\u001b[m\u001b[1m  0.0 \u001b[m\u001b[mni,\u001b[m\u001b[m\u001b[1m 55.3 \u001b[m\u001b[mid,\u001b[m\u001b[m\u001b[1m  0.0 \u001b[m\u001b[mwa,\u001b[m\u001b[m\u001b[1m  0.0 \u001b[m\u001b[mhi,\u001b[m\u001b[m\u001b[1m  0.2 \u001b[m\u001b[msi,\u001b[m\u001b[m\u001b[1m  0.0 \u001b[m\u001b[mst\u001b[m\u001b[m\u001b[m\u001b[m\u001b[K\n",
            "MiB Mem :\u001b[m\u001b[m\u001b[1m  12982.7 \u001b[m\u001b[mtotal,\u001b[m\u001b[m\u001b[1m   8704.6 \u001b[m\u001b[mfree,\u001b[m\u001b[m\u001b[1m   1058.4 \u001b[m\u001b[mused,\u001b[m\u001b[m\u001b[1m   3219.7 \u001b[m\u001b[mbuff/cache\u001b[m\u001b[m\u001b[m\u001b[m\u001b[K\n",
            "MiB Swap:\u001b[m\u001b[m\u001b[1m      0.0 \u001b[m\u001b[mtotal,\u001b[m\u001b[m\u001b[1m      0.0 \u001b[m\u001b[mfree,\u001b[m\u001b[m\u001b[1m      0.0 \u001b[m\u001b[mused.\u001b[m\u001b[m\u001b[1m  11637.3 \u001b[m\u001b[mavail Mem \u001b[m\u001b[m\u001b[m\u001b[m\u001b[K\n",
            "\u001b[K\n",
            "\n",
            "\u001b[m\u001b[1m   1464 root      20   0 1067576 315596  30380 R  40.7   2.4   1:04.93 node     \u001b[m\u001b[m\u001b[K\n",
            "\u001b[m   1132 root      20   0 2811512 574232 286372 S   1.0   4.3   0:10.62 python3  \u001b[m\u001b[m\u001b[K\n",
            "\u001b[m      7 root      20   0  886656  49240  30964 S   0.7   0.4   0:02.47 node     \u001b[m\u001b[m\u001b[K\n",
            "\u001b[m     83 root      20   0  559500 164772  53824 S   0.3   1.2   0:05.27 jupyter+ \u001b[m\u001b[m\u001b[K\n",
            "\u001b[m     84 root      20   0 1229316   8596   2928 S   0.3   0.1   0:00.48 dap_mul+ \u001b[m\u001b[m\u001b[K\n",
            "\u001b[m   1175 root      20   0  541360  16448   5080 S   0.3   0.1   0:00.96 python3  \u001b[m\u001b[m\u001b[K\n",
            "\u001b[m      1 root      20   0    1040      8      0 S   0.0   0.0   0:00.07 docker-+ \u001b[m\u001b[m\u001b[K\n",
            "\u001b[m     19 root      20   0    5804   1020    928 S   0.0   0.0   0:00.08 tail     \u001b[m\u001b[m\u001b[K\n",
            "\u001b[m     30 root      20   0    7372   3480   3180 S   0.0   0.0   0:00.32 oom_mon+ \u001b[m\u001b[m\u001b[K\n",
            "\u001b[m     32 root      20   0    7372   1912   1628 S   0.0   0.0   0:00.00 run.sh   \u001b[m\u001b[m\u001b[K\n",
            "\u001b[m     33 root      20   0 1237828  14712   8276 S   0.0   0.1   0:00.64 kernel_+ \u001b[m\u001b[m\u001b[K\n",
            "\u001b[m     61 root      20   0       0      0      0 Z   0.0   0.0   0:07.65 python3  \u001b[m\u001b[m\u001b[K\n",
            "\u001b[m     62 root      20   0   66312  51304  18600 S   0.0   0.4   0:00.93 colab-f+ \u001b[m\u001b[m\u001b[K\n",
            "\n",
            "\n",
            "\n",
            "\u001b[m   1322 root      20   0 2695860  73844  40784 S   0.0   0.6   0:00.58 drive    \u001b[m\u001b[m\u001b[K\u001b[H\u001b[mtop - 05:15:06 up 10 min,  0 users,  load average: 0.87, 0.69, 0.40\u001b[m\u001b[m\u001b[m\u001b[m\u001b[K\n",
            "\n",
            "%Cpu(s):\u001b[m\u001b[m\u001b[1m 41.1 \u001b[m\u001b[mus,\u001b[m\u001b[m\u001b[1m  2.7 \u001b[m\u001b[msy,\u001b[m\u001b[m\u001b[1m  0.0 \u001b[m\u001b[mni,\u001b[m\u001b[m\u001b[1m 55.9 \u001b[m\u001b[mid,\u001b[m\u001b[m\u001b[1m  0.2 \u001b[m\u001b[mwa,\u001b[m\u001b[m\u001b[1m  0.0 \u001b[m\u001b[mhi,\u001b[m\u001b[m\u001b[1m  0.2 \u001b[m\u001b[msi,\u001b[m\u001b[m\u001b[1m  0.0 \u001b[m\u001b[mst\u001b[m\u001b[m\u001b[m\u001b[m\u001b[K\n",
            "MiB Mem :\u001b[m\u001b[m\u001b[1m  12982.7 \u001b[m\u001b[mtotal,\u001b[m\u001b[m\u001b[1m   8684.6 \u001b[m\u001b[mfree,\u001b[m\u001b[m\u001b[1m   1077.9 \u001b[m\u001b[mused,\u001b[m\u001b[m\u001b[1m   3220.1 \u001b[m\u001b[mbuff/cache\u001b[m\u001b[m\u001b[m\u001b[m\u001b[K\n",
            "MiB Swap:\u001b[m\u001b[m\u001b[1m      0.0 \u001b[m\u001b[mtotal,\u001b[m\u001b[m\u001b[1m      0.0 \u001b[m\u001b[mfree,\u001b[m\u001b[m\u001b[1m      0.0 \u001b[m\u001b[mused.\u001b[m\u001b[m\u001b[1m  11617.8 \u001b[m\u001b[mavail Mem \u001b[m\u001b[m\u001b[m\u001b[m\u001b[K\n",
            "\u001b[K\n",
            "\n",
            "\u001b[m\u001b[1m   1464 root      20   0 1081764 351036  30380 R  75.1   2.6   1:07.19 node     \u001b[m\u001b[m\u001b[K\n",
            "\u001b[m      7 root      20   0  886656  48584  30964 S   1.7   0.4   0:02.52 node     \u001b[m\u001b[m\u001b[K\n",
            "\u001b[m   1132 root      20   0 2811512 574232 286372 S   0.7   4.3   0:10.64 python3  \u001b[m\u001b[m\u001b[K\n",
            "\u001b[m   1459 root      20   0 1237256  14332   7500 S   0.7   0.1   0:00.30 languag+ \u001b[m\u001b[m\u001b[K\n",
            "\u001b[m      1 root      20   0    1040      8      0 S   0.0   0.0   0:00.07 docker-+ \u001b[m\u001b[m\u001b[K\n",
            "\u001b[m     19 root      20   0    5804   1020    928 S   0.0   0.0   0:00.08 tail     \u001b[m\u001b[m\u001b[K\n",
            "\u001b[m     30 root      20   0    7372   3480   3180 S   0.0   0.0   0:00.32 oom_mon+ \u001b[m\u001b[m\u001b[K\n",
            "\u001b[m     32 root      20   0    7372   1912   1628 S   0.0   0.0   0:00.00 run.sh   \u001b[m\u001b[m\u001b[K\n",
            "\u001b[m     33 root      20   0 1237828  14712   8276 S   0.0   0.1   0:00.64 kernel_+ \u001b[m\u001b[m\u001b[K\n",
            "\u001b[m     61 root      20   0       0      0      0 Z   0.0   0.0   0:07.65 python3  \u001b[m\u001b[m\u001b[K\n",
            "\u001b[m     62 root      20   0   66312  51304  18600 S   0.0   0.4   0:00.93 colab-f+ \u001b[m\u001b[m\u001b[K\n",
            "\u001b[m     83 root      20   0  559500 164772  53824 S   0.0   1.2   0:05.27 jupyter+ \u001b[m\u001b[m\u001b[K\n",
            "\u001b[m     84 root      20   0 1229316   8596   2928 S   0.0   0.1   0:00.48 dap_mul+ \u001b[m\u001b[m\u001b[K\n",
            "\u001b[m   1175 root      20   0  541360  16448   5080 S   0.0   0.1   0:00.96 python3  \u001b[m\u001b[m\u001b[K\n",
            "\u001b[m   1229 root      20   0    4360    272      0 S   0.0   0.0   0:00.00 bash     \u001b[m\u001b[m\u001b[K\n",
            "\u001b[m   1230 root      20   0 2183992  28516  22016 S   0.0   0.2   0:00.05 drive    \u001b[m\u001b[m\u001b[K\n",
            "\u001b[m   1231 root      20   0    3628   1612   1504 S   0.0   0.0   0:00.00 grep     \u001b[m\u001b[m\u001b[K\u001b[H\u001b[mtop - 05:15:09 up 10 min,  0 users,  load average: 0.87, 0.69, 0.40\u001b[m\u001b[m\u001b[m\u001b[m\u001b[K\n",
            "Tasks:\u001b[m\u001b[m\u001b[1m  25 \u001b[m\u001b[mtotal,\u001b[m\u001b[m\u001b[1m   1 \u001b[m\u001b[mrunning,\u001b[m\u001b[m\u001b[1m  22 \u001b[m\u001b[msleeping,\u001b[m\u001b[m\u001b[1m   0 \u001b[m\u001b[mstopped,\u001b[m\u001b[m\u001b[1m   2 \u001b[m\u001b[mzombie\u001b[m\u001b[m\u001b[m\u001b[m\u001b[K\n",
            "%Cpu(s):\u001b[m\u001b[m\u001b[1m 48.4 \u001b[m\u001b[mus,\u001b[m\u001b[m\u001b[1m  8.9 \u001b[m\u001b[msy,\u001b[m\u001b[m\u001b[1m  0.0 \u001b[m\u001b[mni,\u001b[m\u001b[m\u001b[1m 41.3 \u001b[m\u001b[mid,\u001b[m\u001b[m\u001b[1m  1.2 \u001b[m\u001b[mwa,\u001b[m\u001b[m\u001b[1m  0.0 \u001b[m\u001b[mhi,\u001b[m\u001b[m\u001b[1m  0.2 \u001b[m\u001b[msi,\u001b[m\u001b[m\u001b[1m  0.0 \u001b[m\u001b[mst\u001b[m\u001b[m\u001b[m\u001b[m\u001b[K\n",
            "MiB Mem :\u001b[m\u001b[m\u001b[1m  12982.7 \u001b[m\u001b[mtotal,\u001b[m\u001b[m\u001b[1m   8636.0 \u001b[m\u001b[mfree,\u001b[m\u001b[m\u001b[1m   1115.6 \u001b[m\u001b[mused,\u001b[m\u001b[m\u001b[1m   3231.1 \u001b[m\u001b[mbuff/cache\u001b[m\u001b[m\u001b[m\u001b[m\u001b[K\n",
            "MiB Swap:\u001b[m\u001b[m\u001b[1m      0.0 \u001b[m\u001b[mtotal,\u001b[m\u001b[m\u001b[1m      0.0 \u001b[m\u001b[mfree,\u001b[m\u001b[m\u001b[1m      0.0 \u001b[m\u001b[mused.\u001b[m\u001b[m\u001b[1m  11579.8 \u001b[m\u001b[mavail Mem \u001b[m\u001b[m\u001b[m\u001b[m\u001b[K\n",
            "\u001b[K\n",
            "\n",
            "\u001b[m   1464 root      20   0 1104748 394140  30380 S 101.7   3.0   1:10.25 node     \u001b[m\u001b[m\u001b[K\n",
            "\u001b[m      7 root      20   0  887044  48764  30964 S   1.3   0.4   0:02.56 node     \u001b[m\u001b[m\u001b[K\n",
            "\u001b[m   1132 root      20   0 2811512 574232 286372 S   0.7   4.3   0:10.66 python3  \u001b[m\u001b[m\u001b[K\n",
            "\u001b[m     33 root      20   0 1237828  14712   8276 S   0.3   0.1   0:00.65 kernel_+ \u001b[m\u001b[m\u001b[K\n",
            "\u001b[m     83 root      20   0  559500 164772  53824 S   0.3   1.2   0:05.28 jupyter+ \u001b[m\u001b[m\u001b[K\n",
            "\u001b[m     84 root      20   0 1229316   8596   2928 S   0.3   0.1   0:00.49 dap_mul+ \u001b[m\u001b[m\u001b[K\n",
            "\u001b[m   1175 root      20   0  541360  16448   5080 S   0.3   0.1   0:00.97 python3  \u001b[m\u001b[m\u001b[K\n",
            "\u001b[m   1459 root      20   0 1237256  14332   7500 S   0.3   0.1   0:00.31 languag+ \u001b[m\u001b[m\u001b[K\n",
            "\u001b[m\u001b[1m   2643 root      20   0   10348   3912   3324 R   0.3   0.0   0:00.01 top      \u001b[m\u001b[m\u001b[K\n",
            "\u001b[m      1 root      20   0    1040      8      0 S   0.0   0.0   0:00.07 docker-+ \u001b[m\u001b[m\u001b[K\n",
            "\u001b[m     19 root      20   0    5804   1020    928 S   0.0   0.0   0:00.08 tail     \u001b[m\u001b[m\u001b[K\n",
            "\u001b[m     30 root      20   0    7372   3480   3180 S   0.0   0.0   0:00.32 oom_mon+ \u001b[m\u001b[m\u001b[K\n",
            "\u001b[m     32 root      20   0    7372   1912   1628 S   0.0   0.0   0:00.00 run.sh   \u001b[m\u001b[m\u001b[K\n",
            "\u001b[m     61 root      20   0       0      0      0 Z   0.0   0.0   0:07.65 python3  \u001b[m\u001b[m\u001b[K\n",
            "\u001b[m     62 root      20   0   66312  51304  18600 S   0.0   0.4   0:00.93 colab-f+ \u001b[m\u001b[m\u001b[K\n",
            "\u001b[m   1229 root      20   0    4360    272      0 S   0.0   0.0   0:00.00 bash     \u001b[m\u001b[m\u001b[K\n",
            "\u001b[m   1230 root      20   0 2183992  28516  22016 S   0.0   0.2   0:00.05 drive    \u001b[m\u001b[m\u001b[K\u001b[H\u001b[mtop - 05:15:12 up 10 min,  0 users,  load average: 1.36, 0.79, 0.44\u001b[m\u001b[m\u001b[m\u001b[m\u001b[K\n",
            "\n",
            "%Cpu(s):\u001b[m\u001b[m\u001b[1m 43.1 \u001b[m\u001b[mus,\u001b[m\u001b[m\u001b[1m  4.0 \u001b[m\u001b[msy,\u001b[m\u001b[m\u001b[1m  0.0 \u001b[m\u001b[mni,\u001b[m\u001b[m\u001b[1m 52.6 \u001b[m\u001b[mid,\u001b[m\u001b[m\u001b[1m  0.0 \u001b[m\u001b[mwa,\u001b[m\u001b[m\u001b[1m  0.0 \u001b[m\u001b[mhi,\u001b[m\u001b[m\u001b[1m  0.2 \u001b[m\u001b[msi,\u001b[m\u001b[m\u001b[1m  0.2 \u001b[m\u001b[mst\u001b[m\u001b[m\u001b[m\u001b[m\u001b[K\n",
            "MiB Mem :\u001b[m\u001b[m\u001b[1m  12982.7 \u001b[m\u001b[mtotal,\u001b[m\u001b[m\u001b[1m   8615.3 \u001b[m\u001b[mfree,\u001b[m\u001b[m\u001b[1m   1135.9 \u001b[m\u001b[mused,\u001b[m\u001b[m\u001b[1m   3231.4 \u001b[m\u001b[mbuff/cache\u001b[m\u001b[m\u001b[m\u001b[m\u001b[K\n",
            "MiB Swap:\u001b[m\u001b[m\u001b[1m      0.0 \u001b[m\u001b[mtotal,\u001b[m\u001b[m\u001b[1m      0.0 \u001b[m\u001b[mfree,\u001b[m\u001b[m\u001b[1m      0.0 \u001b[m\u001b[mused.\u001b[m\u001b[m\u001b[1m  11559.4 \u001b[m\u001b[mavail Mem \u001b[m\u001b[m\u001b[m\u001b[m\u001b[K\n",
            "\u001b[K\n",
            "\n",
            "\u001b[m   1464 root      20   0 1105656 396076  30380 S  51.7   3.0   1:11.80 node     \u001b[m\u001b[m\u001b[K\n",
            "\u001b[m      7 root      20   0  887044  49096  30964 S   2.0   0.4   0:02.62 node     \u001b[m\u001b[m\u001b[K\n",
            "\u001b[m   1132 root      20   0 2811512 574232 286372 S   1.0   4.3   0:10.69 python3  \u001b[m\u001b[m\u001b[K\n",
            "\u001b[m   1459 root      20   0 1237256  14332   7500 S   0.7   0.1   0:00.33 languag+ \u001b[m\u001b[m\u001b[K\n",
            "\u001b[m     84 root      20   0 1229316   8596   2928 S   0.3   0.1   0:00.50 dap_mul+ \u001b[m\u001b[m\u001b[K\n",
            "\u001b[m   1175 root      20   0  541360  16448   5080 S   0.3   0.1   0:00.98 python3  \u001b[m\u001b[m\u001b[K\n",
            "\u001b[m      1 root      20   0    1040      8      0 S   0.0   0.0   0:00.07 docker-+ \u001b[m\u001b[m\u001b[K\n",
            "\u001b[m     19 root      20   0    5804   1020    928 S   0.0   0.0   0:00.08 tail     \u001b[m\u001b[m\u001b[K\n",
            "\u001b[m     30 root      20   0    7372   3480   3180 S   0.0   0.0   0:00.32 oom_mon+ \u001b[m\u001b[m\u001b[K\n",
            "\u001b[m     32 root      20   0    7372   1912   1628 S   0.0   0.0   0:00.00 run.sh   \u001b[m\u001b[m\u001b[K\n",
            "\u001b[m     33 root      20   0 1237828  14712   8276 S   0.0   0.1   0:00.65 kernel_+ \u001b[m\u001b[m\u001b[K\n",
            "\u001b[m     61 root      20   0       0      0      0 Z   0.0   0.0   0:07.65 python3  \u001b[m\u001b[m\u001b[K\n",
            "\u001b[m     62 root      20   0   66312  51304  18600 S   0.0   0.4   0:00.93 colab-f+ \u001b[m\u001b[m\u001b[K\n",
            "\u001b[m     83 root      20   0  559500 164772  53824 S   0.0   1.2   0:05.28 jupyter+ \u001b[m\u001b[m\u001b[K\n",
            "\u001b[m   1229 root      20   0    4360    272      0 S   0.0   0.0   0:00.00 bash     \u001b[m\u001b[m\u001b[K\n",
            "\u001b[m   1230 root      20   0 2183992  28516  22016 S   0.0   0.2   0:00.05 drive    \u001b[m\u001b[m\u001b[K\n",
            "\u001b[m   1231 root      20   0    3628   1612   1504 S   0.0   0.0   0:00.00 grep     \u001b[m\u001b[m\u001b[K\u001b[H\u001b[mtop - 05:15:15 up 10 min,  0 users,  load average: 1.36, 0.79, 0.44\u001b[m\u001b[m\u001b[m\u001b[m\u001b[K\n",
            "\n",
            "%Cpu(s):\u001b[m\u001b[m\u001b[1m 43.0 \u001b[m\u001b[mus,\u001b[m\u001b[m\u001b[1m  6.2 \u001b[m\u001b[msy,\u001b[m\u001b[m\u001b[1m  0.0 \u001b[m\u001b[mni,\u001b[m\u001b[m\u001b[1m 50.7 \u001b[m\u001b[mid,\u001b[m\u001b[m\u001b[1m  0.0 \u001b[m\u001b[mwa,\u001b[m\u001b[m\u001b[1m  0.0 \u001b[m\u001b[mhi,\u001b[m\u001b[m\u001b[1m  0.2 \u001b[m\u001b[msi,\u001b[m\u001b[m\u001b[1m  0.0 \u001b[m\u001b[mst\u001b[m\u001b[m\u001b[m\u001b[m\u001b[K\n",
            "MiB Mem :\u001b[m\u001b[m\u001b[1m  12982.7 \u001b[m\u001b[mtotal,\u001b[m\u001b[m\u001b[1m   8614.1 \u001b[m\u001b[mfree,\u001b[m\u001b[m\u001b[1m   1137.1 \u001b[m\u001b[mused,\u001b[m\u001b[m\u001b[1m   3231.5 \u001b[m\u001b[mbuff/cache\u001b[m\u001b[m\u001b[m\u001b[m\u001b[K\n",
            "MiB Swap:\u001b[m\u001b[m\u001b[1m      0.0 \u001b[m\u001b[mtotal,\u001b[m\u001b[m\u001b[1m      0.0 \u001b[m\u001b[mfree,\u001b[m\u001b[m\u001b[1m      0.0 \u001b[m\u001b[mused.\u001b[m\u001b[m\u001b[1m  11558.2 \u001b[m\u001b[mavail Mem \u001b[m\u001b[m\u001b[m\u001b[m\u001b[K\n",
            "\u001b[K\n",
            "\n",
            "\u001b[m   1464 root      20   0 1105656 394664  30380 S  17.7   3.0   1:12.33 node     \u001b[m\u001b[m\u001b[K\n",
            "\u001b[m      7 root      20   0  887044  48780  30964 S   1.3   0.4   0:02.66 node     \u001b[m\u001b[m\u001b[K\n",
            "\u001b[m   1132 root      20   0 2811512 574232 286372 S   0.7   4.3   0:10.71 python3  \u001b[m\u001b[m\u001b[K\n",
            "\u001b[m   1175 root      20   0  541360  16448   5080 S   0.3   0.1   0:00.99 python3  \u001b[m\u001b[m\u001b[K\n",
            "\u001b[m   1322 root      20   0 2695860  73844  40784 S   0.3   0.6   0:00.59 drive    \u001b[m\u001b[m\u001b[K\n",
            "\u001b[m      1 root      20   0    1040      8      0 S   0.0   0.0   0:00.07 docker-+ \u001b[m\u001b[m\u001b[K\n",
            "\u001b[m     19 root      20   0    5804   1020    928 S   0.0   0.0   0:00.08 tail     \u001b[m\u001b[m\u001b[K\n",
            "\u001b[m     30 root      20   0    7372   3480   3180 S   0.0   0.0   0:00.32 oom_mon+ \u001b[m\u001b[m\u001b[K\n",
            "\u001b[m     32 root      20   0    7372   1912   1628 S   0.0   0.0   0:00.00 run.sh   \u001b[m\u001b[m\u001b[K\n",
            "\u001b[m     33 root      20   0 1237828  14712   8276 S   0.0   0.1   0:00.65 kernel_+ \u001b[m\u001b[m\u001b[K\n",
            "\u001b[m     61 root      20   0       0      0      0 Z   0.0   0.0   0:07.65 python3  \u001b[m\u001b[m\u001b[K\n",
            "\u001b[m     62 root      20   0   66312  51304  18600 S   0.0   0.4   0:00.93 colab-f+ \u001b[m\u001b[m\u001b[K\n",
            "\u001b[m     83 root      20   0  559500 164772  53824 S   0.0   1.2   0:05.28 jupyter+ \u001b[m\u001b[m\u001b[K\n",
            "\u001b[m     84 root      20   0 1229316   8596   2928 S   0.0   0.1   0:00.50 dap_mul+ \u001b[m\u001b[m\u001b[K\n",
            "\n",
            "\n",
            "\u001b[H\u001b[mtop - 05:15:18 up 10 min,  0 users,  load average: 1.49, 0.83, 0.45\u001b[m\u001b[m\u001b[m\u001b[m\u001b[K\n",
            "\n",
            "%Cpu(s):\u001b[m\u001b[m\u001b[1m 19.6 \u001b[m\u001b[mus,\u001b[m\u001b[m\u001b[1m  2.0 \u001b[m\u001b[msy,\u001b[m\u001b[m\u001b[1m  0.0 \u001b[m\u001b[mni,\u001b[m\u001b[m\u001b[1m 78.1 \u001b[m\u001b[mid,\u001b[m\u001b[m\u001b[1m  0.0 \u001b[m\u001b[mwa,\u001b[m\u001b[m\u001b[1m  0.0 \u001b[m\u001b[mhi,\u001b[m\u001b[m\u001b[1m  0.3 \u001b[m\u001b[msi,\u001b[m\u001b[m\u001b[1m  0.0 \u001b[m\u001b[mst\u001b[m\u001b[m\u001b[m\u001b[m\u001b[K\n",
            "MiB Mem :\u001b[m\u001b[m\u001b[1m  12982.7 \u001b[m\u001b[mtotal,\u001b[m\u001b[m\u001b[1m   8613.9 \u001b[m\u001b[mfree,\u001b[m\u001b[m\u001b[1m   1137.0 \u001b[m\u001b[mused,\u001b[m\u001b[m\u001b[1m   3231.8 \u001b[m\u001b[mbuff/cache\u001b[m\u001b[m\u001b[m\u001b[m\u001b[K\n",
            "\n",
            "\u001b[K\n",
            "\n",
            "\u001b[m   1464 root      20   0 1108128 401016  30380 S  29.9   3.0   1:13.23 node     \u001b[m\u001b[m\u001b[K\n",
            "\u001b[m      7 root      20   0  887044  49536  30968 S   2.3   0.4   0:02.73 node     \u001b[m\u001b[m\u001b[K\n",
            "\u001b[m   1459 root      20   0 1237256  14332   7500 S   1.0   0.1   0:00.36 languag+ \u001b[m\u001b[m\u001b[K\n",
            "\u001b[m   1132 root      20   0 2811512 574232 286372 S   0.7   4.3   0:10.73 python3  \u001b[m\u001b[m\u001b[K\n",
            "\u001b[m     19 root      20   0    5804   1020    928 S   0.3   0.0   0:00.09 tail     \u001b[m\u001b[m\u001b[K\n",
            "\u001b[m     83 root      20   0  559500 164772  53824 S   0.3   1.2   0:05.29 jupyter+ \u001b[m\u001b[m\u001b[K\n",
            "\u001b[m      1 root      20   0    1040      8      0 S   0.0   0.0   0:00.07 docker-+ \u001b[m\u001b[m\u001b[K\n",
            "\n",
            "\n",
            "\n",
            "\n",
            "\n",
            "\u001b[m     84 root      20   0 1229316   8596   2928 S   0.0   0.1   0:00.50 dap_mul+ \u001b[m\u001b[m\u001b[K\n",
            "\u001b[m   1175 root      20   0  541360  16448   5080 S   0.0   0.1   0:00.99 python3  \u001b[m\u001b[m\u001b[K\n",
            "\n",
            "\n",
            "\u001b[H\u001b[mtop - 05:15:21 up 10 min,  0 users,  load average: 1.45, 0.83, 0.46\u001b[m\u001b[m\u001b[m\u001b[m\u001b[K\n",
            "Tasks:\u001b[m\u001b[m\u001b[1m  25 \u001b[m\u001b[mtotal,\u001b[m\u001b[m\u001b[1m   2 \u001b[m\u001b[mrunning,\u001b[m\u001b[m\u001b[1m  21 \u001b[m\u001b[msleeping,\u001b[m\u001b[m\u001b[1m   0 \u001b[m\u001b[mstopped,\u001b[m\u001b[m\u001b[1m   2 \u001b[m\u001b[mzombie\u001b[m\u001b[m\u001b[m\u001b[m\u001b[K\n",
            "%Cpu(s):\u001b[m\u001b[m\u001b[1m 34.6 \u001b[m\u001b[mus,\u001b[m\u001b[m\u001b[1m  3.8 \u001b[m\u001b[msy,\u001b[m\u001b[m\u001b[1m  0.0 \u001b[m\u001b[mni,\u001b[m\u001b[m\u001b[1m 61.3 \u001b[m\u001b[mid,\u001b[m\u001b[m\u001b[1m  0.0 \u001b[m\u001b[mwa,\u001b[m\u001b[m\u001b[1m  0.0 \u001b[m\u001b[mhi,\u001b[m\u001b[m\u001b[1m  0.2 \u001b[m\u001b[msi,\u001b[m\u001b[m\u001b[1m  0.2 \u001b[m\u001b[mst\u001b[m\u001b[m\u001b[m\u001b[m\u001b[K\n",
            "MiB Mem :\u001b[m\u001b[m\u001b[1m  12982.7 \u001b[m\u001b[mtotal,\u001b[m\u001b[m\u001b[1m   8610.4 \u001b[m\u001b[mfree,\u001b[m\u001b[m\u001b[1m   1140.5 \u001b[m\u001b[mused,\u001b[m\u001b[m\u001b[1m   3231.8 \u001b[m\u001b[mbuff/cache\u001b[m\u001b[m\u001b[m\u001b[m\u001b[K\n",
            "MiB Swap:\u001b[m\u001b[m\u001b[1m      0.0 \u001b[m\u001b[mtotal,\u001b[m\u001b[m\u001b[1m      0.0 \u001b[m\u001b[mfree,\u001b[m\u001b[m\u001b[1m      0.0 \u001b[m\u001b[mused.\u001b[m\u001b[m\u001b[1m  11554.8 \u001b[m\u001b[mavail Mem \u001b[m\u001b[m\u001b[m\u001b[m\u001b[K\n",
            "\u001b[K\n",
            "\n",
            "\u001b[m\u001b[1m   1464 root      20   0 1120980 413912  30380 R  65.0   3.1   1:15.18 node     \u001b[m\u001b[m\u001b[K\n",
            "\u001b[m      7 root      20   0  887300  49400  30968 S   1.0   0.4   0:02.76 node     \u001b[m\u001b[m\u001b[K\n",
            "\u001b[m   1132 root      20   0 2811512 574232 286372 S   1.0   4.3   0:10.76 python3  \u001b[m\u001b[m\u001b[K\n",
            "\u001b[m     84 root      20   0 1229316   8596   2928 S   0.3   0.1   0:00.51 dap_mul+ \u001b[m\u001b[m\u001b[K\n",
            "\u001b[m   1175 root      20   0  541360  16448   5080 S   0.3   0.1   0:01.00 python3  \u001b[m\u001b[m\u001b[K\n",
            "\u001b[m   1459 root      20   0 1237256  14572   7500 S   0.3   0.1   0:00.37 languag+ \u001b[m\u001b[m\u001b[K\n",
            "\n",
            "\u001b[m     19 root      20   0    5804   1020    928 S   0.0   0.0   0:00.09 tail     \u001b[m\u001b[m\u001b[K\n",
            "\u001b[m     30 root      20   0    7372   3480   3180 S   0.0   0.0   0:00.32 oom_mon+ \u001b[m\u001b[m\u001b[K\n",
            "\u001b[m     32 root      20   0    7372   1912   1628 S   0.0   0.0   0:00.00 run.sh   \u001b[m\u001b[m\u001b[K\n",
            "\u001b[m     33 root      20   0 1237828  14712   8276 S   0.0   0.1   0:00.65 kernel_+ \u001b[m\u001b[m\u001b[K\n",
            "\u001b[m     61 root      20   0       0      0      0 Z   0.0   0.0   0:07.65 python3  \u001b[m\u001b[m\u001b[K\n",
            "\u001b[m     62 root      20   0   66312  51304  18600 S   0.0   0.4   0:00.93 colab-f+ \u001b[m\u001b[m\u001b[K\n",
            "\u001b[m     83 root      20   0  559500 164772  53824 S   0.0   1.2   0:05.29 jupyter+ \u001b[m\u001b[m\u001b[K\n",
            "\n",
            "\n",
            "\u001b[H\u001b[mtop - 05:15:24 up 10 min,  0 users,  load average: 1.45, 0.83, 0.46\u001b[m\u001b[m\u001b[m\u001b[m\u001b[K\n",
            "\n",
            "%Cpu(s):\u001b[m\u001b[m\u001b[1m 41.2 \u001b[m\u001b[mus,\u001b[m\u001b[m\u001b[1m 16.8 \u001b[m\u001b[msy,\u001b[m\u001b[m\u001b[1m  0.0 \u001b[m\u001b[mni,\u001b[m\u001b[m\u001b[1m 33.8 \u001b[m\u001b[mid,\u001b[m\u001b[m\u001b[1m  7.7 \u001b[m\u001b[mwa,\u001b[m\u001b[m\u001b[1m  0.0 \u001b[m\u001b[mhi,\u001b[m\u001b[m\u001b[1m  0.5 \u001b[m\u001b[msi,\u001b[m\u001b[m\u001b[1m  0.0 \u001b[m\u001b[mst\u001b[m\u001b[m\u001b[m\u001b[m\u001b[K\n",
            "MiB Mem :\u001b[m\u001b[m\u001b[1m  12982.7 \u001b[m\u001b[mtotal,\u001b[m\u001b[m\u001b[1m   8528.6 \u001b[m\u001b[mfree,\u001b[m\u001b[m\u001b[1m   1196.1 \u001b[m\u001b[mused,\u001b[m\u001b[m\u001b[1m   3258.0 \u001b[m\u001b[mbuff/cache\u001b[m\u001b[m\u001b[m\u001b[m\u001b[K\n",
            "MiB Swap:\u001b[m\u001b[m\u001b[1m      0.0 \u001b[m\u001b[mtotal,\u001b[m\u001b[m\u001b[1m      0.0 \u001b[m\u001b[mfree,\u001b[m\u001b[m\u001b[1m      0.0 \u001b[m\u001b[mused.\u001b[m\u001b[m\u001b[1m  11497.7 \u001b[m\u001b[mavail Mem \u001b[m\u001b[m\u001b[m\u001b[m\u001b[K\n",
            "\u001b[K\n",
            "\n",
            "\u001b[m\u001b[1m   1464 root      20   0 1165012 458588  30380 R 103.0   3.4   1:18.28 node     \u001b[m\u001b[m\u001b[K\n",
            "\u001b[m      7 root      20   0  887300  49040  30968 S   1.7   0.4   0:02.81 node     \u001b[m\u001b[m\u001b[K\n",
            "\u001b[m   1132 root      20   0 2811512 574232 286372 S   0.7   4.3   0:10.78 python3  \u001b[m\u001b[m\u001b[K\n",
            "\u001b[m   1175 root      20   0  541360  16448   5080 S   0.7   0.1   0:01.02 python3  \u001b[m\u001b[m\u001b[K\n",
            "\u001b[m   1459 root      20   0 1237256  15560   7576 S   0.7   0.1   0:00.39 languag+ \u001b[m\u001b[m\u001b[K\n",
            "\u001b[m     30 root      20   0    7372   3480   3180 S   0.3   0.0   0:00.33 oom_mon+ \u001b[m\u001b[m\u001b[K\n",
            "\u001b[m     83 root      20   0  559500 164772  53824 S   0.3   1.2   0:05.30 jupyter+ \u001b[m\u001b[m\u001b[K\n",
            "\u001b[m      1 root      20   0    1040      8      0 S   0.0   0.0   0:00.07 docker-+ \u001b[m\u001b[m\u001b[K\n",
            "\u001b[m     19 root      20   0    5804   1020    928 S   0.0   0.0   0:00.09 tail     \u001b[m\u001b[m\u001b[K\n",
            "\n",
            "\n",
            "\n",
            "\n",
            "\u001b[m     84 root      20   0 1229316   8596   2928 S   0.0   0.1   0:00.51 dap_mul+ \u001b[m\u001b[m\u001b[K\n",
            "\n",
            "\n",
            "\u001b[H\u001b[mtop - 05:15:27 up 10 min,  0 users,  load average: 1.41, 0.83, 0.46\u001b[m\u001b[m\u001b[m\u001b[m\u001b[K\n",
            "Tasks:\u001b[m\u001b[m\u001b[1m  25 \u001b[m\u001b[mtotal,\u001b[m\u001b[m\u001b[1m   1 \u001b[m\u001b[mrunning,\u001b[m\u001b[m\u001b[1m  22 \u001b[m\u001b[msleeping,\u001b[m\u001b[m\u001b[1m   0 \u001b[m\u001b[mstopped,\u001b[m\u001b[m\u001b[1m   2 \u001b[m\u001b[mzombie\u001b[m\u001b[m\u001b[m\u001b[m\u001b[K\n",
            "%Cpu(s):\u001b[m\u001b[m\u001b[1m 59.8 \u001b[m\u001b[mus,\u001b[m\u001b[m\u001b[1m  9.3 \u001b[m\u001b[msy,\u001b[m\u001b[m\u001b[1m  0.0 \u001b[m\u001b[mni,\u001b[m\u001b[m\u001b[1m 30.7 \u001b[m\u001b[mid,\u001b[m\u001b[m\u001b[1m  0.0 \u001b[m\u001b[mwa,\u001b[m\u001b[m\u001b[1m  0.0 \u001b[m\u001b[mhi,\u001b[m\u001b[m\u001b[1m  0.2 \u001b[m\u001b[msi,\u001b[m\u001b[m\u001b[1m  0.0 \u001b[m\u001b[mst\u001b[m\u001b[m\u001b[m\u001b[m\u001b[K\n",
            "MiB Mem :\u001b[m\u001b[m\u001b[1m  12982.7 \u001b[m\u001b[mtotal,\u001b[m\u001b[m\u001b[1m   8517.3 \u001b[m\u001b[mfree,\u001b[m\u001b[m\u001b[1m   1207.2 \u001b[m\u001b[mused,\u001b[m\u001b[m\u001b[1m   3258.2 \u001b[m\u001b[mbuff/cache\u001b[m\u001b[m\u001b[m\u001b[m\u001b[K\n",
            "MiB Swap:\u001b[m\u001b[m\u001b[1m      0.0 \u001b[m\u001b[mtotal,\u001b[m\u001b[m\u001b[1m      0.0 \u001b[m\u001b[mfree,\u001b[m\u001b[m\u001b[1m      0.0 \u001b[m\u001b[mused.\u001b[m\u001b[m\u001b[1m  11486.5 \u001b[m\u001b[mavail Mem \u001b[m\u001b[m\u001b[m\u001b[m\u001b[K\n",
            "\u001b[K\n",
            "\n",
            "\u001b[m   1464 root      20   0 1171356 466804  30380 S  26.3   3.5   1:19.07 node     \u001b[m\u001b[m\u001b[K\n",
            "\u001b[m      7 root      20   0  887300  48684  30968 S   2.3   0.4   0:02.88 node     \u001b[m\u001b[m\u001b[K\n",
            "\u001b[m   1132 root      20   0 2811512 574232 286372 S   1.3   4.3   0:10.82 python3  \u001b[m\u001b[m\u001b[K\n",
            "\u001b[m     33 root      20   0 1237828  14712   8276 S   0.7   0.1   0:00.67 kernel_+ \u001b[m\u001b[m\u001b[K\n",
            "\u001b[m   1459 root      20   0 1237256  15560   7576 S   0.7   0.1   0:00.41 languag+ \u001b[m\u001b[m\u001b[K\n",
            "\u001b[m     83 root      20   0  559500 164772  53824 S   0.3   1.2   0:05.31 jupyter+ \u001b[m\u001b[m\u001b[K\n",
            "\u001b[m   1175 root      20   0  541360  16448   5080 S   0.3   0.1   0:01.03 python3  \u001b[m\u001b[m\u001b[K\n",
            "\u001b[m   1322 root      20   0 2695860  73844  40784 S   0.3   0.6   0:00.60 drive    \u001b[m\u001b[m\u001b[K\n",
            "\u001b[m      1 root      20   0    1040      8      0 S   0.0   0.0   0:00.07 docker-+ \u001b[m\u001b[m\u001b[K\n",
            "\u001b[m     19 root      20   0    5804   1020    928 S   0.0   0.0   0:00.09 tail     \u001b[m\u001b[m\u001b[K\n",
            "\u001b[m     30 root      20   0    7372   3480   3180 S   0.0   0.0   0:00.33 oom_mon+ \u001b[m\u001b[m\u001b[K\n",
            "\u001b[m     32 root      20   0    7372   1912   1628 S   0.0   0.0   0:00.00 run.sh   \u001b[m\u001b[m\u001b[K\n",
            "\u001b[m     61 root      20   0       0      0      0 Z   0.0   0.0   0:07.65 python3  \u001b[m\u001b[m\u001b[K\n",
            "\u001b[m     62 root      20   0   66312  51304  18600 S   0.0   0.4   0:00.93 colab-f+ \u001b[m\u001b[m\u001b[K\n",
            "\u001b[m     84 root      20   0 1229316   8596   2928 S   0.0   0.1   0:00.51 dap_mul+ \u001b[m\u001b[m\u001b[K\n",
            "\u001b[m   1229 root      20   0    4360    272      0 S   0.0   0.0   0:00.00 bash     \u001b[m\u001b[m\u001b[K\n",
            "\u001b[m   1230 root      20   0 2183992  28516  22016 S   0.0   0.2   0:00.05 drive    \u001b[m\u001b[m\u001b[K\u001b[H\u001b[mtop - 05:15:30 up 10 min,  0 users,  load average: 1.41, 0.83, 0.46\u001b[m\u001b[m\u001b[m\u001b[m\u001b[K\n",
            "\n",
            "%Cpu(s):\u001b[m\u001b[m\u001b[1m 27.2 \u001b[m\u001b[mus,\u001b[m\u001b[m\u001b[1m  2.2 \u001b[m\u001b[msy,\u001b[m\u001b[m\u001b[1m  0.0 \u001b[m\u001b[mni,\u001b[m\u001b[m\u001b[1m 69.8 \u001b[m\u001b[mid,\u001b[m\u001b[m\u001b[1m  0.5 \u001b[m\u001b[mwa,\u001b[m\u001b[m\u001b[1m  0.0 \u001b[m\u001b[mhi,\u001b[m\u001b[m\u001b[1m  0.2 \u001b[m\u001b[msi,\u001b[m\u001b[m\u001b[1m  0.2 \u001b[m\u001b[mst\u001b[m\u001b[m\u001b[m\u001b[m\u001b[K\n",
            "MiB Mem :\u001b[m\u001b[m\u001b[1m  12982.7 \u001b[m\u001b[mtotal,\u001b[m\u001b[m\u001b[1m   8507.9 \u001b[m\u001b[mfree,\u001b[m\u001b[m\u001b[1m   1216.1 \u001b[m\u001b[mused,\u001b[m\u001b[m\u001b[1m   3258.6 \u001b[m\u001b[mbuff/cache\u001b[m\u001b[m\u001b[m\u001b[m\u001b[K\n",
            "MiB Swap:\u001b[m\u001b[m\u001b[1m      0.0 \u001b[m\u001b[mtotal,\u001b[m\u001b[m\u001b[1m      0.0 \u001b[m\u001b[mfree,\u001b[m\u001b[m\u001b[1m      0.0 \u001b[m\u001b[mused.\u001b[m\u001b[m\u001b[1m  11477.6 \u001b[m\u001b[mavail Mem \u001b[m\u001b[m\u001b[m\u001b[m\u001b[K\n",
            "\u001b[K\n",
            "\n",
            "\u001b[m   1464 root      20   0 1185292 481552  30380 S  46.3   3.6   1:20.46 node     \u001b[m\u001b[m\u001b[K\n",
            "\u001b[m      7 root      20   0  887300  49052  30968 S   2.3   0.4   0:02.95 node     \u001b[m\u001b[m\u001b[K\n",
            "\u001b[m   1459 root      20   0 1237256  15824   7576 S   1.0   0.1   0:00.44 languag+ \u001b[m\u001b[m\u001b[K\n",
            "\u001b[m   1132 root      20   0 2811512 574232 286372 S   0.7   4.3   0:10.84 python3  \u001b[m\u001b[m\u001b[K\n",
            "\u001b[m     84 root      20   0 1229316   8596   2928 S   0.3   0.1   0:00.52 dap_mul+ \u001b[m\u001b[m\u001b[K\n",
            "\u001b[m   1175 root      20   0  541360  16448   5080 S   0.3   0.1   0:01.04 python3  \u001b[m\u001b[m\u001b[K\n",
            "\u001b[m\u001b[1m   2643 root      20   0   10348   3912   3324 R   0.3   0.0   0:00.02 top      \u001b[m\u001b[m\u001b[K\n",
            "\u001b[m      1 root      20   0    1040      8      0 S   0.0   0.0   0:00.07 docker-+ \u001b[m\u001b[m\u001b[K\n",
            "\u001b[m     19 root      20   0    5804   1020    928 S   0.0   0.0   0:00.09 tail     \u001b[m\u001b[m\u001b[K\n",
            "\u001b[m     30 root      20   0    7372   3480   3180 S   0.0   0.0   0:00.33 oom_mon+ \u001b[m\u001b[m\u001b[K\n",
            "\u001b[m     32 root      20   0    7372   1912   1628 S   0.0   0.0   0:00.00 run.sh   \u001b[m\u001b[m\u001b[K\n",
            "\u001b[m     33 root      20   0 1237828  14712   8276 S   0.0   0.1   0:00.67 kernel_+ \u001b[m\u001b[m\u001b[K\n",
            "\n",
            "\n",
            "\u001b[m     83 root      20   0  559500 164772  53824 S   0.0   1.2   0:05.31 jupyter+ \u001b[m\u001b[m\u001b[K\n",
            "\n",
            "\u001b[H\u001b[mtop - 05:15:33 up 10 min,  0 users,  load average: 1.30, 0.82, 0.46\u001b[m\u001b[m\u001b[m\u001b[m\u001b[K\n",
            "\n",
            "%Cpu(s):\u001b[m\u001b[m\u001b[1m 19.6 \u001b[m\u001b[mus,\u001b[m\u001b[m\u001b[1m  1.5 \u001b[m\u001b[msy,\u001b[m\u001b[m\u001b[1m  0.0 \u001b[m\u001b[mni,\u001b[m\u001b[m\u001b[1m 78.7 \u001b[m\u001b[mid,\u001b[m\u001b[m\u001b[1m  0.0 \u001b[m\u001b[mwa,\u001b[m\u001b[m\u001b[1m  0.0 \u001b[m\u001b[mhi,\u001b[m\u001b[m\u001b[1m  0.2 \u001b[m\u001b[msi,\u001b[m\u001b[m\u001b[1m  0.0 \u001b[m\u001b[mst\u001b[m\u001b[m\u001b[m\u001b[m\u001b[K\n",
            "MiB Mem :\u001b[m\u001b[m\u001b[1m  12982.7 \u001b[m\u001b[mtotal,\u001b[m\u001b[m\u001b[1m   8503.0 \u001b[m\u001b[mfree,\u001b[m\u001b[m\u001b[1m   1221.0 \u001b[m\u001b[mused,\u001b[m\u001b[m\u001b[1m   3258.7 \u001b[m\u001b[mbuff/cache\u001b[m\u001b[m\u001b[m\u001b[m\u001b[K\n",
            "MiB Swap:\u001b[m\u001b[m\u001b[1m      0.0 \u001b[m\u001b[mtotal,\u001b[m\u001b[m\u001b[1m      0.0 \u001b[m\u001b[mfree,\u001b[m\u001b[m\u001b[1m      0.0 \u001b[m\u001b[mused.\u001b[m\u001b[m\u001b[1m  11472.7 \u001b[m\u001b[mavail Mem \u001b[m\u001b[m\u001b[m\u001b[m\u001b[K\n",
            "\u001b[K\n",
            "\n",
            "\u001b[m   1464 root      20   0 1193908 489380  30380 S  32.2   3.7   1:21.43 node     \u001b[m\u001b[m\u001b[K\n",
            "\u001b[m      7 root      20   0  887300  49288  30968 S   1.3   0.4   0:02.99 node     \u001b[m\u001b[m\u001b[K\n",
            "\u001b[m   1132 root      20   0 2811512 574232 286372 S   0.7   4.3   0:10.86 python3  \u001b[m\u001b[m\u001b[K\n",
            "\u001b[m     83 root      20   0  559500 164772  53824 S   0.3   1.2   0:05.32 jupyter+ \u001b[m\u001b[m\u001b[K\n",
            "\u001b[m      1 root      20   0    1040      8      0 S   0.0   0.0   0:00.07 docker-+ \u001b[m\u001b[m\u001b[K\n",
            "\u001b[m     19 root      20   0    5804   1020    928 S   0.0   0.0   0:00.09 tail     \u001b[m\u001b[m\u001b[K\n",
            "\u001b[m     30 root      20   0    7372   3480   3180 S   0.0   0.0   0:00.33 oom_mon+ \u001b[m\u001b[m\u001b[K\n",
            "\u001b[m     32 root      20   0    7372   1912   1628 S   0.0   0.0   0:00.00 run.sh   \u001b[m\u001b[m\u001b[K\n",
            "\u001b[m     33 root      20   0 1237828  14712   8276 S   0.0   0.1   0:00.67 kernel_+ \u001b[m\u001b[m\u001b[K\n",
            "\u001b[m     61 root      20   0       0      0      0 Z   0.0   0.0   0:07.65 python3  \u001b[m\u001b[m\u001b[K\n",
            "\u001b[m     62 root      20   0   66312  51304  18600 S   0.0   0.4   0:00.93 colab-f+ \u001b[m\u001b[m\u001b[K\n",
            "\u001b[m     84 root      20   0 1229316   8596   2928 S   0.0   0.1   0:00.52 dap_mul+ \u001b[m\u001b[m\u001b[K\n",
            "\u001b[m   1175 root      20   0  541360  16448   5080 S   0.0   0.1   0:01.04 python3  \u001b[m\u001b[m\u001b[K\n",
            "\u001b[m   1229 root      20   0    4360    272      0 S   0.0   0.0   0:00.00 bash     \u001b[m\u001b[m\u001b[K\n",
            "\u001b[m   1230 root      20   0 2183992  28516  22016 S   0.0   0.2   0:00.05 drive    \u001b[m\u001b[m\u001b[K\n",
            "\u001b[m   1231 root      20   0    3628   1612   1504 S   0.0   0.0   0:00.00 grep     \u001b[m\u001b[m\u001b[K\n",
            "\u001b[m   1322 root      20   0 2695860  73844  40784 S   0.0   0.6   0:00.60 drive    \u001b[m\u001b[m\u001b[K\u001b[H\u001b[mtop - 05:15:36 up 10 min,  0 users,  load average: 1.20, 0.81, 0.45\u001b[m\u001b[m\u001b[m\u001b[m\u001b[K\n",
            "\n",
            "%Cpu(s):\u001b[m\u001b[m\u001b[1m 22.7 \u001b[m\u001b[mus,\u001b[m\u001b[m\u001b[1m  1.7 \u001b[m\u001b[msy,\u001b[m\u001b[m\u001b[1m  0.0 \u001b[m\u001b[mni,\u001b[m\u001b[m\u001b[1m 75.5 \u001b[m\u001b[mid,\u001b[m\u001b[m\u001b[1m  0.0 \u001b[m\u001b[mwa,\u001b[m\u001b[m\u001b[1m  0.0 \u001b[m\u001b[mhi,\u001b[m\u001b[m\u001b[1m  0.2 \u001b[m\u001b[msi,\u001b[m\u001b[m\u001b[1m  0.0 \u001b[m\u001b[mst\u001b[m\u001b[m\u001b[m\u001b[m\u001b[K\n",
            "MiB Mem :\u001b[m\u001b[m\u001b[1m  12982.7 \u001b[m\u001b[mtotal,\u001b[m\u001b[m\u001b[1m   8497.3 \u001b[m\u001b[mfree,\u001b[m\u001b[m\u001b[1m   1226.3 \u001b[m\u001b[mused,\u001b[m\u001b[m\u001b[1m   3259.0 \u001b[m\u001b[mbuff/cache\u001b[m\u001b[m\u001b[m\u001b[m\u001b[K\n",
            "MiB Swap:\u001b[m\u001b[m\u001b[1m      0.0 \u001b[m\u001b[mtotal,\u001b[m\u001b[m\u001b[1m      0.0 \u001b[m\u001b[mfree,\u001b[m\u001b[m\u001b[1m      0.0 \u001b[m\u001b[mused.\u001b[m\u001b[m\u001b[1m  11467.3 \u001b[m\u001b[mavail Mem \u001b[m\u001b[m\u001b[m\u001b[m\u001b[K\n",
            "\u001b[K\n",
            "\n",
            "\u001b[m   1464 root      20   0 1204200 500312  30380 S  39.7   3.8   1:22.62 node     \u001b[m\u001b[m\u001b[K\n",
            "\u001b[m   1132 root      20   0 2811512 574232 286372 S   1.3   4.3   0:10.90 python3  \u001b[m\u001b[m\u001b[K\n",
            "\u001b[m      7 root      20   0  887300  48900  30968 S   0.7   0.4   0:03.01 node     \u001b[m\u001b[m\u001b[K\n",
            "\u001b[m     84 root      20   0 1229316   8596   2928 S   0.3   0.1   0:00.53 dap_mul+ \u001b[m\u001b[m\u001b[K\n",
            "\u001b[m   1175 root      20   0  541360  16448   5080 S   0.3   0.1   0:01.05 python3  \u001b[m\u001b[m\u001b[K\n",
            "\u001b[m   1322 root      20   0 2695860  73844  40784 S   0.3   0.6   0:00.61 drive    \u001b[m\u001b[m\u001b[K\n",
            "\u001b[m      1 root      20   0    1040      8      0 S   0.0   0.0   0:00.07 docker-+ \u001b[m\u001b[m\u001b[K\n",
            "\u001b[m     19 root      20   0    5804   1020    928 S   0.0   0.0   0:00.09 tail     \u001b[m\u001b[m\u001b[K\n",
            "\u001b[m     30 root      20   0    7372   3480   3180 S   0.0   0.0   0:00.33 oom_mon+ \u001b[m\u001b[m\u001b[K\n",
            "\u001b[m     32 root      20   0    7372   1912   1628 S   0.0   0.0   0:00.00 run.sh   \u001b[m\u001b[m\u001b[K\n",
            "\u001b[m     33 root      20   0 1237828  14712   8276 S   0.0   0.1   0:00.67 kernel_+ \u001b[m\u001b[m\u001b[K\n",
            "\u001b[m     61 root      20   0       0      0      0 Z   0.0   0.0   0:07.65 python3  \u001b[m\u001b[m\u001b[K\n",
            "\u001b[m     62 root      20   0   66312  51304  18600 S   0.0   0.4   0:00.93 colab-f+ \u001b[m\u001b[m\u001b[K\n",
            "\u001b[m     83 root      20   0  559500 164772  53824 S   0.0   1.2   0:05.32 jupyter+ \u001b[m\u001b[m\u001b[K\n",
            "\u001b[m   1229 root      20   0    4360    272      0 S   0.0   0.0   0:00.00 bash     \u001b[m\u001b[m\u001b[K\n",
            "\u001b[m   1230 root      20   0 2183992  28516  22016 S   0.0   0.2   0:00.05 drive    \u001b[m\u001b[m\u001b[K\n",
            "\u001b[m   1231 root      20   0    3628   1612   1504 S   0.0   0.0   0:00.00 grep     \u001b[m\u001b[m\u001b[K\u001b[H\u001b[mtop - 05:15:39 up 10 min,  0 users,  load average: 1.20, 0.81, 0.45\u001b[m\u001b[m\u001b[m\u001b[m\u001b[K\n",
            "\n",
            "%Cpu(s):\u001b[m\u001b[m\u001b[1m 63.5 \u001b[m\u001b[mus,\u001b[m\u001b[m\u001b[1m  6.2 \u001b[m\u001b[msy,\u001b[m\u001b[m\u001b[1m  0.0 \u001b[m\u001b[mni,\u001b[m\u001b[m\u001b[1m 30.0 \u001b[m\u001b[mid,\u001b[m\u001b[m\u001b[1m  0.0 \u001b[m\u001b[mwa,\u001b[m\u001b[m\u001b[1m  0.0 \u001b[m\u001b[mhi,\u001b[m\u001b[m\u001b[1m  0.2 \u001b[m\u001b[msi,\u001b[m\u001b[m\u001b[1m  0.2 \u001b[m\u001b[mst\u001b[m\u001b[m\u001b[m\u001b[m\u001b[K\n",
            "MiB Mem :\u001b[m\u001b[m\u001b[1m  12982.7 \u001b[m\u001b[mtotal,\u001b[m\u001b[m\u001b[1m   8467.8 \u001b[m\u001b[mfree,\u001b[m\u001b[m\u001b[1m   1255.9 \u001b[m\u001b[mused,\u001b[m\u001b[m\u001b[1m   3259.0 \u001b[m\u001b[mbuff/cache\u001b[m\u001b[m\u001b[m\u001b[m\u001b[K\n",
            "MiB Swap:\u001b[m\u001b[m\u001b[1m      0.0 \u001b[m\u001b[mtotal,\u001b[m\u001b[m\u001b[1m      0.0 \u001b[m\u001b[mfree,\u001b[m\u001b[m\u001b[1m      0.0 \u001b[m\u001b[mused.\u001b[m\u001b[m\u001b[1m  11437.8 \u001b[m\u001b[mavail Mem \u001b[m\u001b[m\u001b[m\u001b[m\u001b[K\n",
            "\u001b[K\n",
            "\n",
            "\u001b[m   1464 root      20   0 1218556 515520  30380 S  62.5   3.9   1:24.50 node     \u001b[m\u001b[m\u001b[K\n",
            "\u001b[m      7 root      20   0  887300  48656  30968 S   1.3   0.4   0:03.05 node     \u001b[m\u001b[m\u001b[K\n",
            "\u001b[m   1132 root      20   0 2811512 574232 286372 S   0.7   4.3   0:10.92 python3  \u001b[m\u001b[m\u001b[K\n",
            "\u001b[m   1175 root      20   0  541360  16448   5080 S   0.7   0.1   0:01.07 python3  \u001b[m\u001b[m\u001b[K\n",
            "\u001b[m   1459 root      20   0 1237256  15824   7576 S   0.7   0.1   0:00.46 languag+ \u001b[m\u001b[m\u001b[K\n",
            "\u001b[m     83 root      20   0  559500 164772  53824 S   0.3   1.2   0:05.33 jupyter+ \u001b[m\u001b[m\u001b[K\n",
            "\u001b[m     84 root      20   0 1229316   8596   2928 S   0.3   0.1   0:00.54 dap_mul+ \u001b[m\u001b[m\u001b[K\n",
            "\u001b[m      1 root      20   0    1040      8      0 S   0.0   0.0   0:00.07 docker-+ \u001b[m\u001b[m\u001b[K\n",
            "\u001b[m     19 root      20   0    5804   1020    928 S   0.0   0.0   0:00.09 tail     \u001b[m\u001b[m\u001b[K\n",
            "\u001b[m     30 root      20   0    7372   3480   3180 S   0.0   0.0   0:00.33 oom_mon+ \u001b[m\u001b[m\u001b[K\n",
            "\u001b[m     32 root      20   0    7372   1912   1628 S   0.0   0.0   0:00.00 run.sh   \u001b[m\u001b[m\u001b[K\n",
            "\u001b[m     33 root      20   0 1237828  14712   8276 S   0.0   0.1   0:00.67 kernel_+ \u001b[m\u001b[m\u001b[K\n",
            "\u001b[m     61 root      20   0       0      0      0 Z   0.0   0.0   0:07.65 python3  \u001b[m\u001b[m\u001b[K\n",
            "\u001b[m     62 root      20   0   66312  51304  18600 S   0.0   0.4   0:00.93 colab-f+ \u001b[m\u001b[m\u001b[K\n",
            "\n",
            "\n",
            "\u001b[H\u001b[mtop - 05:15:42 up 11 min,  0 users,  load average: 1.10, 0.79, 0.45\u001b[m\u001b[m\u001b[m\u001b[m\u001b[K\n",
            "\n",
            "%Cpu(s):\u001b[m\u001b[m\u001b[1m 44.8 \u001b[m\u001b[mus,\u001b[m\u001b[m\u001b[1m  5.2 \u001b[m\u001b[msy,\u001b[m\u001b[m\u001b[1m  0.0 \u001b[m\u001b[mni,\u001b[m\u001b[m\u001b[1m 49.7 \u001b[m\u001b[mid,\u001b[m\u001b[m\u001b[1m  0.2 \u001b[m\u001b[mwa,\u001b[m\u001b[m\u001b[1m  0.0 \u001b[m\u001b[mhi,\u001b[m\u001b[m\u001b[1m  0.2 \u001b[m\u001b[msi,\u001b[m\u001b[m\u001b[1m  0.0 \u001b[m\u001b[mst\u001b[m\u001b[m\u001b[m\u001b[m\u001b[K\n",
            "MiB Mem :\u001b[m\u001b[m\u001b[1m  12982.7 \u001b[m\u001b[mtotal,\u001b[m\u001b[m\u001b[1m   8461.2 \u001b[m\u001b[mfree,\u001b[m\u001b[m\u001b[1m   1262.5 \u001b[m\u001b[mused,\u001b[m\u001b[m\u001b[1m   3259.0 \u001b[m\u001b[mbuff/cache\u001b[m\u001b[m\u001b[m\u001b[m\u001b[K\n",
            "MiB Swap:\u001b[m\u001b[m\u001b[1m      0.0 \u001b[m\u001b[mtotal,\u001b[m\u001b[m\u001b[1m      0.0 \u001b[m\u001b[mfree,\u001b[m\u001b[m\u001b[1m      0.0 \u001b[m\u001b[mused.\u001b[m\u001b[m\u001b[1m  11431.2 \u001b[m\u001b[mavail Mem \u001b[m\u001b[m\u001b[m\u001b[m\u001b[K\n",
            "\u001b[K\n",
            "\n",
            "\u001b[m   1464 root      20   0 1224100 521576  30380 S  39.2   3.9   1:25.68 node     \u001b[m\u001b[m\u001b[K\n",
            "\u001b[m      7 root      20   0  887300  49184  30968 S   1.0   0.4   0:03.08 node     \u001b[m\u001b[m\u001b[K\n",
            "\u001b[m   1132 root      20   0 2811512 574232 286372 S   0.7   4.3   0:10.94 python3  \u001b[m\u001b[m\u001b[K\n",
            "\u001b[m     33 root      20   0 1237828  14712   8276 S   0.3   0.1   0:00.68 kernel_+ \u001b[m\u001b[m\u001b[K\n",
            "\u001b[m   1175 root      20   0  541360  16448   5080 S   0.3   0.1   0:01.08 python3  \u001b[m\u001b[m\u001b[K\n",
            "\u001b[m      1 root      20   0    1040      8      0 S   0.0   0.0   0:00.07 docker-+ \u001b[m\u001b[m\u001b[K\n",
            "\u001b[m     19 root      20   0    5804   1020    928 S   0.0   0.0   0:00.09 tail     \u001b[m\u001b[m\u001b[K\n",
            "\u001b[m     30 root      20   0    7372   3480   3180 S   0.0   0.0   0:00.33 oom_mon+ \u001b[m\u001b[m\u001b[K\n",
            "\u001b[m     32 root      20   0    7372   1912   1628 S   0.0   0.0   0:00.00 run.sh   \u001b[m\u001b[m\u001b[K\n",
            "\u001b[m     61 root      20   0       0      0      0 Z   0.0   0.0   0:07.65 python3  \u001b[m\u001b[m\u001b[K\n",
            "\u001b[m     62 root      20   0   66312  51304  18600 S   0.0   0.4   0:00.93 colab-f+ \u001b[m\u001b[m\u001b[K\n",
            "\u001b[m     83 root      20   0  559500 164772  53824 S   0.0   1.2   0:05.33 jupyter+ \u001b[m\u001b[m\u001b[K\n",
            "\u001b[m     84 root      20   0 1229316   8596   2928 S   0.0   0.1   0:00.54 dap_mul+ \u001b[m\u001b[m\u001b[K\n",
            "\u001b[m   1229 root      20   0    4360    272      0 S   0.0   0.0   0:00.00 bash     \u001b[m\u001b[m\u001b[K\n",
            "\u001b[m   1230 root      20   0 2183992  28516  22016 S   0.0   0.2   0:00.05 drive    \u001b[m\u001b[m\u001b[K\n",
            "\u001b[m   1231 root      20   0    3628   1612   1504 S   0.0   0.0   0:00.00 grep     \u001b[m\u001b[m\u001b[K\n",
            "\u001b[m   1322 root      20   0 2695860  73844  40784 S   0.0   0.6   0:00.61 drive    \u001b[m\u001b[m\u001b[K\u001b[H\u001b[mtop - 05:15:45 up 11 min,  0 users,  load average: 1.10, 0.79, 0.45\u001b[m\u001b[m\u001b[m\u001b[m\u001b[K\n",
            "\n",
            "%Cpu(s):\u001b[m\u001b[m\u001b[1m  1.3 \u001b[m\u001b[mus,\u001b[m\u001b[m\u001b[1m  1.0 \u001b[m\u001b[msy,\u001b[m\u001b[m\u001b[1m  0.0 \u001b[m\u001b[mni,\u001b[m\u001b[m\u001b[1m 97.7 \u001b[m\u001b[mid,\u001b[m\u001b[m\u001b[1m  0.0 \u001b[m\u001b[mwa,\u001b[m\u001b[m\u001b[1m  0.0 \u001b[m\u001b[mhi,\u001b[m\u001b[m\u001b[1m  0.0 \u001b[m\u001b[msi,\u001b[m\u001b[m\u001b[1m  0.0 \u001b[m\u001b[mst\u001b[m\u001b[m\u001b[m\u001b[m\u001b[K\n",
            "MiB Mem :\u001b[m\u001b[m\u001b[1m  12982.7 \u001b[m\u001b[mtotal,\u001b[m\u001b[m\u001b[1m   8461.2 \u001b[m\u001b[mfree,\u001b[m\u001b[m\u001b[1m   1262.4 \u001b[m\u001b[mused,\u001b[m\u001b[m\u001b[1m   3259.1 \u001b[m\u001b[mbuff/cache\u001b[m\u001b[m\u001b[m\u001b[m\u001b[K\n",
            "MiB Swap:\u001b[m\u001b[m\u001b[1m      0.0 \u001b[m\u001b[mtotal,\u001b[m\u001b[m\u001b[1m      0.0 \u001b[m\u001b[mfree,\u001b[m\u001b[m\u001b[1m      0.0 \u001b[m\u001b[mused.\u001b[m\u001b[m\u001b[1m  11431.3 \u001b[m\u001b[mavail Mem \u001b[m\u001b[m\u001b[m\u001b[m\u001b[K\n",
            "\u001b[K\n",
            "\n",
            "\u001b[m   1132 root      20   0 2811512 574232 286372 S   1.3   4.3   0:10.98 python3  \u001b[m\u001b[m\u001b[K\n",
            "\u001b[m      7 root      20   0  887300  49184  30968 S   0.3   0.4   0:03.09 node     \u001b[m\u001b[m\u001b[K\n",
            "\u001b[m     83 root      20   0  559500 164772  53824 S   0.3   1.2   0:05.34 jupyter+ \u001b[m\u001b[m\u001b[K\n",
            "\u001b[m     84 root      20   0 1229316   8596   2928 S   0.3   0.1   0:00.55 dap_mul+ \u001b[m\u001b[m\u001b[K\n",
            "\u001b[m      1 root      20   0    1040      8      0 S   0.0   0.0   0:00.07 docker-+ \u001b[m\u001b[m\u001b[K\n",
            "\u001b[m     19 root      20   0    5804   1020    928 S   0.0   0.0   0:00.09 tail     \u001b[m\u001b[m\u001b[K\n",
            "\u001b[m     30 root      20   0    7372   3480   3180 S   0.0   0.0   0:00.33 oom_mon+ \u001b[m\u001b[m\u001b[K\n",
            "\u001b[m     32 root      20   0    7372   1912   1628 S   0.0   0.0   0:00.00 run.sh   \u001b[m\u001b[m\u001b[K\n",
            "\u001b[m     33 root      20   0 1237828  14712   8276 S   0.0   0.1   0:00.68 kernel_+ \u001b[m\u001b[m\u001b[K\n",
            "\n",
            "\n",
            "\u001b[m   1175 root      20   0  541360  16448   5080 S   0.0   0.1   0:01.08 python3  \u001b[m\u001b[m\u001b[K\n",
            "\u001b[m   1229 root      20   0    4360    272      0 S   0.0   0.0   0:00.00 bash     \u001b[m\u001b[m\u001b[K\n",
            "\u001b[m   1230 root      20   0 2183992  28516  22016 S   0.0   0.2   0:00.05 drive    \u001b[m\u001b[m\u001b[K\n",
            "\u001b[m   1231 root      20   0    3628   1612   1504 S   0.0   0.0   0:00.00 grep     \u001b[m\u001b[m\u001b[K\n",
            "\u001b[m   1322 root      20   0 2695860  73844  40784 S   0.0   0.6   0:00.61 drive    \u001b[m\u001b[m\u001b[K\n",
            "\u001b[m   1351 root      20   0       0      0      0 Z   0.0   0.0   0:00.43 fusermo+ \u001b[m\u001b[m\u001b[K\u001b[H\u001b[mtop - 05:15:48 up 11 min,  0 users,  load average: 1.01, 0.78, 0.45\u001b[m\u001b[m\u001b[m\u001b[m\u001b[K\n",
            "\n",
            "%Cpu(s):\u001b[m\u001b[m\u001b[1m  3.5 \u001b[m\u001b[mus,\u001b[m\u001b[m\u001b[1m  1.3 \u001b[m\u001b[msy,\u001b[m\u001b[m\u001b[1m  0.0 \u001b[m\u001b[mni,\u001b[m\u001b[m\u001b[1m 95.0 \u001b[m\u001b[mid,\u001b[m\u001b[m\u001b[1m  0.0 \u001b[m\u001b[mwa,\u001b[m\u001b[m\u001b[1m  0.0 \u001b[m\u001b[mhi,\u001b[m\u001b[m\u001b[1m  0.2 \u001b[m\u001b[msi,\u001b[m\u001b[m\u001b[1m  0.0 \u001b[m\u001b[mst\u001b[m\u001b[m\u001b[m\u001b[m\u001b[K\n",
            "\n",
            "\n",
            "\u001b[K\n",
            "\n",
            "\u001b[m      7 root      20   0  887300  49012  30968 S   1.0   0.4   0:03.12 node     \u001b[m\u001b[m\u001b[K\n",
            "\u001b[m   1132 root      20   0 2811512 574232 286372 S   0.7   4.3   0:11.00 python3  \u001b[m\u001b[m\u001b[K\n",
            "\u001b[m   1175 root      20   0  541360  16448   5080 S   0.3   0.1   0:01.09 python3  \u001b[m\u001b[m\u001b[K\n",
            "\u001b[m   1459 root      20   0 1237256  15824   7576 S   0.3   0.1   0:00.47 languag+ \u001b[m\u001b[m\u001b[K\n",
            "\u001b[m   1464 root      20   0 1224100 521576  30380 S   0.3   3.9   1:25.69 node     \u001b[m\u001b[m\u001b[K\n",
            "\u001b[m      1 root      20   0    1040      8      0 S   0.0   0.0   0:00.07 docker-+ \u001b[m\u001b[m\u001b[K\n",
            "\u001b[m     19 root      20   0    5804   1020    928 S   0.0   0.0   0:00.09 tail     \u001b[m\u001b[m\u001b[K\n",
            "\u001b[m     30 root      20   0    7372   3480   3180 S   0.0   0.0   0:00.33 oom_mon+ \u001b[m\u001b[m\u001b[K\n",
            "\u001b[m     32 root      20   0    7372   1912   1628 S   0.0   0.0   0:00.00 run.sh   \u001b[m\u001b[m\u001b[K\n",
            "\u001b[m     33 root      20   0 1237828  14712   8276 S   0.0   0.1   0:00.68 kernel_+ \u001b[m\u001b[m\u001b[K\n",
            "\u001b[m     61 root      20   0       0      0      0 Z   0.0   0.0   0:07.65 python3  \u001b[m\u001b[m\u001b[K\n",
            "\u001b[m     62 root      20   0   66312  51304  18600 S   0.0   0.4   0:00.93 colab-f+ \u001b[m\u001b[m\u001b[K\n",
            "\u001b[m     83 root      20   0  559500 164772  53824 S   0.0   1.2   0:05.34 jupyter+ \u001b[m\u001b[m\u001b[K\n",
            "\u001b[m     84 root      20   0 1229316   8596   2928 S   0.0   0.1   0:00.55 dap_mul+ \u001b[m\u001b[m\u001b[K\n",
            "\u001b[m   1229 root      20   0    4360    272      0 S   0.0   0.0   0:00.00 bash     \u001b[m\u001b[m\u001b[K\n",
            "\u001b[m   1230 root      20   0 2183992  28516  22016 S   0.0   0.2   0:00.05 drive    \u001b[m\u001b[m\u001b[K\n",
            "\u001b[m   1231 root      20   0    3628   1612   1504 S   0.0   0.0   0:00.00 grep     \u001b[m\u001b[m\u001b[K\u001b[H\u001b[mtop - 05:15:51 up 11 min,  0 users,  load average: 1.01, 0.78, 0.45\u001b[m\u001b[m\u001b[m\u001b[m\u001b[K\n",
            "\n",
            "%Cpu(s):\u001b[m\u001b[m\u001b[1m  7.2 \u001b[m\u001b[mus,\u001b[m\u001b[m\u001b[1m  2.7 \u001b[m\u001b[msy,\u001b[m\u001b[m\u001b[1m  0.0 \u001b[m\u001b[mni,\u001b[m\u001b[m\u001b[1m 89.8 \u001b[m\u001b[mid,\u001b[m\u001b[m\u001b[1m  0.2 \u001b[m\u001b[mwa,\u001b[m\u001b[m\u001b[1m  0.0 \u001b[m\u001b[mhi,\u001b[m\u001b[m\u001b[1m  0.2 \u001b[m\u001b[msi,\u001b[m\u001b[m\u001b[1m  0.0 \u001b[m\u001b[mst\u001b[m\u001b[m\u001b[m\u001b[m\u001b[K\n",
            "MiB Mem :\u001b[m\u001b[m\u001b[1m  12982.7 \u001b[m\u001b[mtotal,\u001b[m\u001b[m\u001b[1m   8459.7 \u001b[m\u001b[mfree,\u001b[m\u001b[m\u001b[1m   1263.8 \u001b[m\u001b[mused,\u001b[m\u001b[m\u001b[1m   3259.2 \u001b[m\u001b[mbuff/cache\u001b[m\u001b[m\u001b[m\u001b[m\u001b[K\n",
            "MiB Swap:\u001b[m\u001b[m\u001b[1m      0.0 \u001b[m\u001b[mtotal,\u001b[m\u001b[m\u001b[1m      0.0 \u001b[m\u001b[mfree,\u001b[m\u001b[m\u001b[1m      0.0 \u001b[m\u001b[mused.\u001b[m\u001b[m\u001b[1m  11429.9 \u001b[m\u001b[mavail Mem \u001b[m\u001b[m\u001b[m\u001b[m\u001b[K\n",
            "\u001b[K\n",
            "\n",
            "\u001b[m   1132 root      20   0 2811512 574232 286372 S   1.0   4.3   0:11.03 python3  \u001b[m\u001b[m\u001b[K\n",
            "\u001b[m      7 root      20   0  887300  49276  30968 S   0.3   0.4   0:03.13 node     \u001b[m\u001b[m\u001b[K\n",
            "\u001b[m     30 root      20   0    7372   3480   3180 S   0.3   0.0   0:00.34 oom_mon+ \u001b[m\u001b[m\u001b[K\n",
            "\u001b[m     33 root      20   0 1237828  14712   8276 S   0.3   0.1   0:00.69 kernel_+ \u001b[m\u001b[m\u001b[K\n",
            "\u001b[m     84 root      20   0 1229316   8596   2928 S   0.3   0.1   0:00.56 dap_mul+ \u001b[m\u001b[m\u001b[K\n",
            "\u001b[m   1175 root      20   0  541360  16448   5080 S   0.3   0.1   0:01.10 python3  \u001b[m\u001b[m\u001b[K\n",
            "\u001b[m   1322 root      20   0 2695860  73844  40784 S   0.3   0.6   0:00.62 drive    \u001b[m\u001b[m\u001b[K\n",
            "\u001b[m      1 root      20   0    1040      8      0 S   0.0   0.0   0:00.07 docker-+ \u001b[m\u001b[m\u001b[K\n",
            "\u001b[m     19 root      20   0    5804   1020    928 S   0.0   0.0   0:00.09 tail     \u001b[m\u001b[m\u001b[K\n",
            "\u001b[m     32 root      20   0    7372   1912   1628 S   0.0   0.0   0:00.00 run.sh   \u001b[m\u001b[m\u001b[K\n",
            "\n",
            "\n",
            "\n",
            "\u001b[m   1229 root      20   0    4360    272      0 S   0.0   0.0   0:00.00 bash     \u001b[m\u001b[m\u001b[K\n",
            "\u001b[m   1230 root      20   0 2183992  28516  22016 S   0.0   0.2   0:00.05 drive    \u001b[m\u001b[m\u001b[K\n",
            "\u001b[m   1231 root      20   0    3628   1612   1504 S   0.0   0.0   0:00.00 grep     \u001b[m\u001b[m\u001b[K\n",
            "\u001b[m   1351 root      20   0       0      0      0 Z   0.0   0.0   0:00.43 fusermo+ \u001b[m\u001b[m\u001b[K\u001b[H\u001b[mtop - 05:15:54 up 11 min,  0 users,  load average: 1.01, 0.78, 0.45\u001b[m\u001b[m\u001b[m\u001b[m\u001b[K\n",
            "\n",
            "%Cpu(s):\u001b[m\u001b[m\u001b[1m 35.4 \u001b[m\u001b[mus,\u001b[m\u001b[m\u001b[1m  6.3 \u001b[m\u001b[msy,\u001b[m\u001b[m\u001b[1m  0.0 \u001b[m\u001b[mni,\u001b[m\u001b[m\u001b[1m 58.3 \u001b[m\u001b[mid,\u001b[m\u001b[m\u001b[1m  0.0 \u001b[m\u001b[mwa,\u001b[m\u001b[m\u001b[1m  0.0 \u001b[m\u001b[mhi,\u001b[m\u001b[m\u001b[1m  0.0 \u001b[m\u001b[msi,\u001b[m\u001b[m\u001b[1m  0.0 \u001b[m\u001b[mst\u001b[m\u001b[m\u001b[m\u001b[m\u001b[K\n",
            "MiB Mem :\u001b[m\u001b[m\u001b[1m  12982.7 \u001b[m\u001b[mtotal,\u001b[m\u001b[m\u001b[1m   8457.7 \u001b[m\u001b[mfree,\u001b[m\u001b[m\u001b[1m   1265.8 \u001b[m\u001b[mused,\u001b[m\u001b[m\u001b[1m   3259.2 \u001b[m\u001b[mbuff/cache\u001b[m\u001b[m\u001b[m\u001b[m\u001b[K\n",
            "MiB Swap:\u001b[m\u001b[m\u001b[1m      0.0 \u001b[m\u001b[mtotal,\u001b[m\u001b[m\u001b[1m      0.0 \u001b[m\u001b[mfree,\u001b[m\u001b[m\u001b[1m      0.0 \u001b[m\u001b[mused.\u001b[m\u001b[m\u001b[1m  11427.9 \u001b[m\u001b[mavail Mem \u001b[m\u001b[m\u001b[m\u001b[m\u001b[K\n",
            "\u001b[K\n",
            "\n",
            "\u001b[m   1132 root      20   0 2811512 574232 286372 S   0.7   4.3   0:11.05 python3  \u001b[m\u001b[m\u001b[K\n",
            "\u001b[m      7 root      20   0  887300  49536  30968 S   0.3   0.4   0:03.14 node     \u001b[m\u001b[m\u001b[K\n",
            "\u001b[m     83 root      20   0  559500 164772  53824 S   0.3   1.2   0:05.35 jupyter+ \u001b[m\u001b[m\u001b[K\n",
            "\u001b[m   1175 root      20   0  541360  16448   5080 S   0.3   0.1   0:01.11 python3  \u001b[m\u001b[m\u001b[K\n",
            "\u001b[m      1 root      20   0    1040      8      0 S   0.0   0.0   0:00.07 docker-+ \u001b[m\u001b[m\u001b[K\n",
            "\u001b[m     19 root      20   0    5804   1020    928 S   0.0   0.0   0:00.09 tail     \u001b[m\u001b[m\u001b[K\n",
            "\u001b[m     30 root      20   0    7372   3480   3180 S   0.0   0.0   0:00.34 oom_mon+ \u001b[m\u001b[m\u001b[K\n",
            "\u001b[m     32 root      20   0    7372   1912   1628 S   0.0   0.0   0:00.00 run.sh   \u001b[m\u001b[m\u001b[K\n",
            "\u001b[m     33 root      20   0 1237828  14712   8276 S   0.0   0.1   0:00.69 kernel_+ \u001b[m\u001b[m\u001b[K\n",
            "\u001b[m     61 root      20   0       0      0      0 Z   0.0   0.0   0:07.65 python3  \u001b[m\u001b[m\u001b[K\n",
            "\u001b[m     62 root      20   0   66312  51304  18600 S   0.0   0.4   0:00.93 colab-f+ \u001b[m\u001b[m\u001b[K\n",
            "\u001b[m     84 root      20   0 1229316   8596   2928 S   0.0   0.1   0:00.56 dap_mul+ \u001b[m\u001b[m\u001b[K\n",
            "\u001b[m   1229 root      20   0    4360    272      0 S   0.0   0.0   0:00.00 bash     \u001b[m\u001b[m\u001b[K\n",
            "\u001b[m   1230 root      20   0 2183992  28516  22016 S   0.0   0.2   0:00.05 drive    \u001b[m\u001b[m\u001b[K\n",
            "\u001b[m   1231 root      20   0    3628   1612   1504 S   0.0   0.0   0:00.00 grep     \u001b[m\u001b[m\u001b[K\n",
            "\u001b[m   1322 root      20   0 2695860  73844  40784 S   0.0   0.6   0:00.62 drive    \u001b[m\u001b[m\u001b[K\n",
            "\u001b[H\u001b[mtop - 05:15:57 up 11 min,  0 users,  load average: 0.93, 0.77, 0.45\u001b[m\u001b[m\u001b[m\u001b[m\u001b[K\n",
            "\n",
            "%Cpu(s):\u001b[m\u001b[m\u001b[1m  2.0 \u001b[m\u001b[mus,\u001b[m\u001b[m\u001b[1m  1.2 \u001b[m\u001b[msy,\u001b[m\u001b[m\u001b[1m  0.0 \u001b[m\u001b[mni,\u001b[m\u001b[m\u001b[1m 96.5 \u001b[m\u001b[mid,\u001b[m\u001b[m\u001b[1m  0.2 \u001b[m\u001b[mwa,\u001b[m\u001b[m\u001b[1m  0.0 \u001b[m\u001b[mhi,\u001b[m\u001b[m\u001b[1m  0.0 \u001b[m\u001b[msi,\u001b[m\u001b[m\u001b[1m  0.2 \u001b[m\u001b[mst\u001b[m\u001b[m\u001b[m\u001b[m\u001b[K\n",
            "MiB Mem :\u001b[m\u001b[m\u001b[1m  12982.7 \u001b[m\u001b[mtotal,\u001b[m\u001b[m\u001b[1m   8457.5 \u001b[m\u001b[mfree,\u001b[m\u001b[m\u001b[1m   1265.8 \u001b[m\u001b[mused,\u001b[m\u001b[m\u001b[1m   3259.3 \u001b[m\u001b[mbuff/cache\u001b[m\u001b[m\u001b[m\u001b[m\u001b[K\n",
            "MiB Swap:\u001b[m\u001b[m\u001b[1m      0.0 \u001b[m\u001b[mtotal,\u001b[m\u001b[m\u001b[1m      0.0 \u001b[m\u001b[mfree,\u001b[m\u001b[m\u001b[1m      0.0 \u001b[m\u001b[mused.\u001b[m\u001b[m\u001b[1m  11427.8 \u001b[m\u001b[mavail Mem \u001b[m\u001b[m\u001b[m\u001b[m\u001b[K\n",
            "\u001b[K\n",
            "\n",
            "\u001b[m   1132 root      20   0 2811512 574232 286372 S   1.0   4.3   0:11.08 python3  \u001b[m\u001b[m\u001b[K\n",
            "\u001b[m      7 root      20   0  887300  49536  30968 S   0.3   0.4   0:03.15 node     \u001b[m\u001b[m\u001b[K\n",
            "\u001b[m     83 root      20   0  559500 164772  53824 S   0.3   1.2   0:05.36 jupyter+ \u001b[m\u001b[m\u001b[K\n",
            "\u001b[m   1175 root      20   0  541360  16448   5080 S   0.3   0.1   0:01.12 python3  \u001b[m\u001b[m\u001b[K\n",
            "\n",
            "\n",
            "\n",
            "\n",
            "\u001b[m     33 root      20   0 1237828  14808   8276 S   0.0   0.1   0:00.69 kernel_+ \u001b[m\u001b[m\u001b[K\n",
            "\n",
            "\n",
            "\n",
            "\n",
            "\n",
            "\n",
            "\n",
            "\u001b[H\u001b[mtop - 05:16:00 up 11 min,  0 users,  load average: 0.93, 0.77, 0.45\u001b[m\u001b[m\u001b[m\u001b[m\u001b[K\n",
            "\n",
            "%Cpu(s):\u001b[m\u001b[m\u001b[1m  3.8 \u001b[m\u001b[mus,\u001b[m\u001b[m\u001b[1m  1.2 \u001b[m\u001b[msy,\u001b[m\u001b[m\u001b[1m  0.0 \u001b[m\u001b[mni,\u001b[m\u001b[m\u001b[1m 94.8 \u001b[m\u001b[mid,\u001b[m\u001b[m\u001b[1m  0.0 \u001b[m\u001b[mwa,\u001b[m\u001b[m\u001b[1m  0.0 \u001b[m\u001b[mhi,\u001b[m\u001b[m\u001b[1m  0.2 \u001b[m\u001b[msi,\u001b[m\u001b[m\u001b[1m  0.0 \u001b[m\u001b[mst\u001b[m\u001b[m\u001b[m\u001b[m\u001b[K\n",
            "MiB Mem :\u001b[m\u001b[m\u001b[1m  12982.7 \u001b[m\u001b[mtotal,\u001b[m\u001b[m\u001b[1m   8552.9 \u001b[m\u001b[mfree,\u001b[m\u001b[m\u001b[1m   1170.4 \u001b[m\u001b[mused,\u001b[m\u001b[m\u001b[1m   3259.4 \u001b[m\u001b[mbuff/cache\u001b[m\u001b[m\u001b[m\u001b[m\u001b[K\n",
            "MiB Swap:\u001b[m\u001b[m\u001b[1m      0.0 \u001b[m\u001b[mtotal,\u001b[m\u001b[m\u001b[1m      0.0 \u001b[m\u001b[mfree,\u001b[m\u001b[m\u001b[1m      0.0 \u001b[m\u001b[mused.\u001b[m\u001b[m\u001b[1m  11523.2 \u001b[m\u001b[mavail Mem \u001b[m\u001b[m\u001b[m\u001b[m\u001b[K\n",
            "\u001b[K\n",
            "\n",
            "\u001b[m   1464 root      20   0 1155492 410228  30380 S   5.3   3.1   1:25.85 node     \u001b[m\u001b[m\u001b[K\n",
            "\u001b[m   1132 root      20   0 2811512 574232 286372 S   1.0   4.3   0:11.11 python3  \u001b[m\u001b[m\u001b[K\n",
            "\u001b[m     33 root      20   0 1237828  14808   8276 S   0.3   0.1   0:00.70 kernel_+ \u001b[m\u001b[m\u001b[K\n",
            "\u001b[m     84 root      20   0 1229316   8596   2928 S   0.3   0.1   0:00.57 dap_mul+ \u001b[m\u001b[m\u001b[K\n",
            "\u001b[m   1175 root      20   0  541360  16448   5080 S   0.3   0.1   0:01.13 python3  \u001b[m\u001b[m\u001b[K\n",
            "\u001b[m      1 root      20   0    1040      8      0 S   0.0   0.0   0:00.07 docker-+ \u001b[m\u001b[m\u001b[K\n",
            "\u001b[m      7 root      20   0  887300  48784  30968 S   0.0   0.4   0:03.15 node     \u001b[m\u001b[m\u001b[K\n",
            "\u001b[m     19 root      20   0    5804   1020    928 S   0.0   0.0   0:00.09 tail     \u001b[m\u001b[m\u001b[K\n",
            "\u001b[m     30 root      20   0    7372   3480   3180 S   0.0   0.0   0:00.34 oom_mon+ \u001b[m\u001b[m\u001b[K\n",
            "\u001b[m     32 root      20   0    7372   1912   1628 S   0.0   0.0   0:00.00 run.sh   \u001b[m\u001b[m\u001b[K\n",
            "\u001b[m     61 root      20   0       0      0      0 Z   0.0   0.0   0:07.65 python3  \u001b[m\u001b[m\u001b[K\n",
            "\u001b[m     62 root      20   0   66312  51304  18600 S   0.0   0.4   0:00.93 colab-f+ \u001b[m\u001b[m\u001b[K\n",
            "\u001b[m     83 root      20   0  559500 164772  53824 S   0.0   1.2   0:05.36 jupyter+ \u001b[m\u001b[m\u001b[K\n",
            "\u001b[m   1229 root      20   0    4360    272      0 S   0.0   0.0   0:00.00 bash     \u001b[m\u001b[m\u001b[K\n",
            "\u001b[m   1230 root      20   0 2183992  28516  22016 S   0.0   0.2   0:00.05 drive    \u001b[m\u001b[m\u001b[K\n",
            "\u001b[m   1231 root      20   0    3628   1612   1504 S   0.0   0.0   0:00.00 grep     \u001b[m\u001b[m\u001b[K\n",
            "\u001b[m   1322 root      20   0 2695860  73844  40784 S   0.0   0.6   0:00.62 drive    \u001b[m\u001b[m\u001b[K\u001b[H\u001b[mtop - 05:16:03 up 11 min,  0 users,  load average: 0.85, 0.76, 0.45\u001b[m\u001b[m\u001b[m\u001b[m\u001b[K\n",
            "\n",
            "%Cpu(s):\u001b[m\u001b[m\u001b[1m  6.5 \u001b[m\u001b[mus,\u001b[m\u001b[m\u001b[1m  1.2 \u001b[m\u001b[msy,\u001b[m\u001b[m\u001b[1m  0.0 \u001b[m\u001b[mni,\u001b[m\u001b[m\u001b[1m 92.3 \u001b[m\u001b[mid,\u001b[m\u001b[m\u001b[1m  0.0 \u001b[m\u001b[mwa,\u001b[m\u001b[m\u001b[1m  0.0 \u001b[m\u001b[mhi,\u001b[m\u001b[m\u001b[1m  0.0 \u001b[m\u001b[msi,\u001b[m\u001b[m\u001b[1m  0.0 \u001b[m\u001b[mst\u001b[m\u001b[m\u001b[m\u001b[m\u001b[K\n",
            "MiB Mem :\u001b[m\u001b[m\u001b[1m  12982.7 \u001b[m\u001b[mtotal,\u001b[m\u001b[m\u001b[1m   8552.3 \u001b[m\u001b[mfree,\u001b[m\u001b[m\u001b[1m   1171.0 \u001b[m\u001b[mused,\u001b[m\u001b[m\u001b[1m   3259.4 \u001b[m\u001b[mbuff/cache\u001b[m\u001b[m\u001b[m\u001b[m\u001b[K\n",
            "MiB Swap:\u001b[m\u001b[m\u001b[1m      0.0 \u001b[m\u001b[mtotal,\u001b[m\u001b[m\u001b[1m      0.0 \u001b[m\u001b[mfree,\u001b[m\u001b[m\u001b[1m      0.0 \u001b[m\u001b[mused.\u001b[m\u001b[m\u001b[1m  11522.7 \u001b[m\u001b[mavail Mem \u001b[m\u001b[m\u001b[m\u001b[m\u001b[K\n",
            "\u001b[K\n",
            "\n",
            "\u001b[m   1464 root      20   0 1138852 403112  30380 S   9.3   3.0   1:26.13 node     \u001b[m\u001b[m\u001b[K\n",
            "\u001b[m   1132 root      20   0 2811512 574796 286724 S   0.7   4.3   0:11.13 python3  \u001b[m\u001b[m\u001b[K\n",
            "\u001b[m      7 root      20   0  887300  49048  30968 S   0.3   0.4   0:03.16 node     \u001b[m\u001b[m\u001b[K\n",
            "\u001b[m   1175 root      20   0  541360  16448   5080 S   0.3   0.1   0:01.14 python3  \u001b[m\u001b[m\u001b[K\n",
            "\u001b[m      1 root      20   0    1040      8      0 S   0.0   0.0   0:00.07 docker-+ \u001b[m\u001b[m\u001b[K\n",
            "\u001b[m     19 root      20   0    5804   1020    928 S   0.0   0.0   0:00.09 tail     \u001b[m\u001b[m\u001b[K\n",
            "\u001b[m     30 root      20   0    7372   3480   3180 S   0.0   0.0   0:00.34 oom_mon+ \u001b[m\u001b[m\u001b[K\n",
            "\u001b[m     32 root      20   0    7372   1912   1628 S   0.0   0.0   0:00.00 run.sh   \u001b[m\u001b[m\u001b[K\n",
            "\u001b[m     33 root      20   0 1237828  14808   8276 S   0.0   0.1   0:00.70 kernel_+ \u001b[m\u001b[m\u001b[K\n",
            "\u001b[m     61 root      20   0       0      0      0 Z   0.0   0.0   0:07.65 python3  \u001b[m\u001b[m\u001b[K\n",
            "\u001b[m     62 root      20   0   66312  51304  18600 S   0.0   0.4   0:00.93 colab-f+ \u001b[m\u001b[m\u001b[K\n",
            "\u001b[m     83 root      20   0  559500 164772  53824 S   0.0   1.2   0:05.36 jupyter+ \u001b[m\u001b[m\u001b[K\n",
            "\u001b[m     84 root      20   0 1229316   8596   2928 S   0.0   0.1   0:00.57 dap_mul+ \u001b[m\u001b[m\u001b[K\n",
            "\n",
            "\n",
            "\n",
            "\u001b[H\u001b[mtop - 05:16:06 up 11 min,  0 users,  load average: 0.95, 0.78, 0.46\u001b[m\u001b[m\u001b[m\u001b[m\u001b[K\n",
            "\n",
            "%Cpu(s):\u001b[m\u001b[m\u001b[1m 38.5 \u001b[m\u001b[mus,\u001b[m\u001b[m\u001b[1m  7.5 \u001b[m\u001b[msy,\u001b[m\u001b[m\u001b[1m  0.0 \u001b[m\u001b[mni,\u001b[m\u001b[m\u001b[1m 53.9 \u001b[m\u001b[mid,\u001b[m\u001b[m\u001b[1m  0.0 \u001b[m\u001b[mwa,\u001b[m\u001b[m\u001b[1m  0.0 \u001b[m\u001b[mhi,\u001b[m\u001b[m\u001b[1m  0.0 \u001b[m\u001b[msi,\u001b[m\u001b[m\u001b[1m  0.0 \u001b[m\u001b[mst\u001b[m\u001b[m\u001b[m\u001b[m\u001b[K\n",
            "MiB Mem :\u001b[m\u001b[m\u001b[1m  12982.7 \u001b[m\u001b[mtotal,\u001b[m\u001b[m\u001b[1m   8562.9 \u001b[m\u001b[mfree,\u001b[m\u001b[m\u001b[1m   1160.4 \u001b[m\u001b[mused,\u001b[m\u001b[m\u001b[1m   3259.4 \u001b[m\u001b[mbuff/cache\u001b[m\u001b[m\u001b[m\u001b[m\u001b[K\n",
            "MiB Swap:\u001b[m\u001b[m\u001b[1m      0.0 \u001b[m\u001b[mtotal,\u001b[m\u001b[m\u001b[1m      0.0 \u001b[m\u001b[mfree,\u001b[m\u001b[m\u001b[1m      0.0 \u001b[m\u001b[mused.\u001b[m\u001b[m\u001b[1m  11533.3 \u001b[m\u001b[mavail Mem \u001b[m\u001b[m\u001b[m\u001b[m\u001b[K\n",
            "\u001b[K\n",
            "\n",
            "\u001b[m   1132 root      20   0 2811512 574796 286724 S   1.0   4.3   0:11.16 python3  \u001b[m\u001b[m\u001b[K\n",
            "\u001b[m     30 root      20   0    7372   3480   3180 S   0.3   0.0   0:00.35 oom_mon+ \u001b[m\u001b[m\u001b[K\n",
            "\u001b[m     83 root      20   0  559500 164772  53824 S   0.3   1.2   0:05.37 jupyter+ \u001b[m\u001b[m\u001b[K\n",
            "\u001b[m   1322 root      20   0 2695860  73844  40784 S   0.3   0.6   0:00.63 drive    \u001b[m\u001b[m\u001b[K\n",
            "\n",
            "\u001b[m      7 root      20   0  887300  49048  30968 S   0.0   0.4   0:03.16 node     \u001b[m\u001b[m\u001b[K\n",
            "\u001b[m     19 root      20   0    5804   1020    928 S   0.0   0.0   0:00.09 tail     \u001b[m\u001b[m\u001b[K\n",
            "\n",
            "\u001b[m     33 root      20   0 1237828  15068   8276 S   0.0   0.1   0:00.70 kernel_+ \u001b[m\u001b[m\u001b[K\n",
            "\n",
            "\n",
            "\u001b[m     84 root      20   0 1229316   8596   2928 S   0.0   0.1   0:00.57 dap_mul+ \u001b[m\u001b[m\u001b[K\n",
            "\u001b[m   1175 root      20   0  541360  16448   5080 S   0.0   0.1   0:01.14 python3  \u001b[m\u001b[m\u001b[K\n",
            "\n",
            "\n",
            "\n",
            "\u001b[m   1351 root      20   0       0      0      0 Z   0.0   0.0   0:00.43 fusermo+ \u001b[m\u001b[m\u001b[K\u001b[?1l\u001b>\u001b[25;1H\n",
            "\u001b[K"
          ]
        }
      ]
    },
    {
      "cell_type": "code",
      "source": [
        "# tensorflow 버전 확인\n",
        "import tensorflow as tf\n",
        "print(tf.__version__)\n",
        "# 2.13.0\n",
        "# 설치버전 확인 이유: 프로젝트 진행 시 오픈 소스 가져다 쓸 때 충돌방지 !"
      ],
      "metadata": {
        "colab": {
          "base_uri": "https://localhost:8080/"
        },
        "id": "JzqDyNmIiseB",
        "outputId": "16330b00-860f-434d-d539-25bf328795dd"
      },
      "execution_count": null,
      "outputs": [
        {
          "output_type": "stream",
          "name": "stdout",
          "text": [
            "2.13.0\n"
          ]
        }
      ]
    },
    {
      "cell_type": "code",
      "source": [
        "# 리눅스 기반의 코랩( 리눅스 명령어 그대로 사용 가능)\n",
        "# 리눅스 명령어를 사용하여 현재 작업 디렉토리 확인 Print WOrk Directory\n",
        "!pwd"
      ],
      "metadata": {
        "colab": {
          "base_uri": "https://localhost:8080/"
        },
        "id": "qobYflvBi7JF",
        "outputId": "34779725-570c-4e2c-a9d7-41fabf126974"
      },
      "execution_count": null,
      "outputs": [
        {
          "output_type": "stream",
          "name": "stdout",
          "text": [
            "/content\n"
          ]
        }
      ]
    },
    {
      "cell_type": "code",
      "source": [
        "# 현재 작업 디렉토리의 파일 목록 조회\n",
        "!ls"
      ],
      "metadata": {
        "colab": {
          "base_uri": "https://localhost:8080/"
        },
        "id": "0cEKML2ni7lV",
        "outputId": "9173ae90-7e52-4990-dd10-8fc062deb4e8"
      },
      "execution_count": null,
      "outputs": [
        {
          "output_type": "stream",
          "name": "stdout",
          "text": [
            " data  'ex00_딥러닝 맛보기.ipynb'\n"
          ]
        }
      ]
    },
    {
      "cell_type": "code",
      "source": [
        "# 작업 디렉토리 변경\n",
        "# %cd ( change directory )\n",
        "# 영구적인 작업을 할 때는 느낌표가 아닌 %를 사용함.\n",
        "%cd \"/content/drive/MyDrive/Colab Notebooks/DeepLearning\""
      ],
      "metadata": {
        "colab": {
          "base_uri": "https://localhost:8080/"
        },
        "id": "nP9Glusli7yE",
        "outputId": "265444fd-f123-4409-c75e-5d92ef8527d3"
      },
      "execution_count": null,
      "outputs": [
        {
          "output_type": "stream",
          "name": "stdout",
          "text": [
            "/content/drive/MyDrive/Colab Notebooks/DeepLearning\n"
          ]
        }
      ]
    },
    {
      "cell_type": "markdown",
      "source": [],
      "metadata": {
        "id": "s2X6SCGci7-j"
      }
    },
    {
      "cell_type": "code",
      "source": [
        "# 다시 현재 폴더 경로 확인\n",
        "!pwd"
      ],
      "metadata": {
        "colab": {
          "base_uri": "https://localhost:8080/"
        },
        "id": "WVZwmYvFkgPl",
        "outputId": "3d2ef338-d908-4fcf-8e3d-4028ae6d3f5e"
      },
      "execution_count": null,
      "outputs": [
        {
          "output_type": "stream",
          "name": "stdout",
          "text": [
            "/content/drive/MyDrive/Colab Notebooks/DeepLearning\n"
          ]
        }
      ]
    },
    {
      "cell_type": "markdown",
      "source": [
        "### 목표\n",
        "- 공부시간에 따른 수학성적을 예측하는 회귀 모델을 만들어보자.\n",
        "- keras를 활용해서 신경망을 구성하는 방법을 연습해보자."
      ],
      "metadata": {
        "id": "W0JbJ6oLlNmK"
      }
    },
    {
      "cell_type": "code",
      "source": [
        "import numpy as np\n",
        "import pandas as pd\n",
        "import matplotlib.pyplot as plt\n"
      ],
      "metadata": {
        "id": "H4RJW4YckgvF"
      },
      "execution_count": null,
      "outputs": []
    },
    {
      "cell_type": "code",
      "source": [
        "#데이터 불러오기\n",
        "data= pd.read_csv('./data/student-mat.csv', delimiter=';')\n",
        "data"
      ],
      "metadata": {
        "colab": {
          "base_uri": "https://localhost:8080/",
          "height": 443
        },
        "id": "yWLhtWj1lNXz",
        "outputId": "2cb06d1a-fd23-458b-f0cf-ad952d9cdaa8"
      },
      "execution_count": null,
      "outputs": [
        {
          "output_type": "execute_result",
          "data": {
            "text/plain": [
              "    school sex  age address famsize Pstatus  Medu  Fedu      Mjob      Fjob  \\\n",
              "0       GP   F   18       U     GT3       A     4     4   at_home   teacher   \n",
              "1       GP   F   17       U     GT3       T     1     1   at_home     other   \n",
              "2       GP   F   15       U     LE3       T     1     1   at_home     other   \n",
              "3       GP   F   15       U     GT3       T     4     2    health  services   \n",
              "4       GP   F   16       U     GT3       T     3     3     other     other   \n",
              "..     ...  ..  ...     ...     ...     ...   ...   ...       ...       ...   \n",
              "390     MS   M   20       U     LE3       A     2     2  services  services   \n",
              "391     MS   M   17       U     LE3       T     3     1  services  services   \n",
              "392     MS   M   21       R     GT3       T     1     1     other     other   \n",
              "393     MS   M   18       R     LE3       T     3     2  services     other   \n",
              "394     MS   M   19       U     LE3       T     1     1     other   at_home   \n",
              "\n",
              "     ... famrel freetime  goout  Dalc  Walc health absences  G1  G2  G3  \n",
              "0    ...      4        3      4     1     1      3        6   5   6   6  \n",
              "1    ...      5        3      3     1     1      3        4   5   5   6  \n",
              "2    ...      4        3      2     2     3      3       10   7   8  10  \n",
              "3    ...      3        2      2     1     1      5        2  15  14  15  \n",
              "4    ...      4        3      2     1     2      5        4   6  10  10  \n",
              "..   ...    ...      ...    ...   ...   ...    ...      ...  ..  ..  ..  \n",
              "390  ...      5        5      4     4     5      4       11   9   9   9  \n",
              "391  ...      2        4      5     3     4      2        3  14  16  16  \n",
              "392  ...      5        5      3     3     3      3        3  10   8   7  \n",
              "393  ...      4        4      1     3     4      5        0  11  12  10  \n",
              "394  ...      3        2      3     3     3      5        5   8   9   9  \n",
              "\n",
              "[395 rows x 33 columns]"
            ],
            "text/html": [
              "\n",
              "  <div id=\"df-ae385b86-dbe2-4911-ade5-8414c4668649\" class=\"colab-df-container\">\n",
              "    <div>\n",
              "<style scoped>\n",
              "    .dataframe tbody tr th:only-of-type {\n",
              "        vertical-align: middle;\n",
              "    }\n",
              "\n",
              "    .dataframe tbody tr th {\n",
              "        vertical-align: top;\n",
              "    }\n",
              "\n",
              "    .dataframe thead th {\n",
              "        text-align: right;\n",
              "    }\n",
              "</style>\n",
              "<table border=\"1\" class=\"dataframe\">\n",
              "  <thead>\n",
              "    <tr style=\"text-align: right;\">\n",
              "      <th></th>\n",
              "      <th>school</th>\n",
              "      <th>sex</th>\n",
              "      <th>age</th>\n",
              "      <th>address</th>\n",
              "      <th>famsize</th>\n",
              "      <th>Pstatus</th>\n",
              "      <th>Medu</th>\n",
              "      <th>Fedu</th>\n",
              "      <th>Mjob</th>\n",
              "      <th>Fjob</th>\n",
              "      <th>...</th>\n",
              "      <th>famrel</th>\n",
              "      <th>freetime</th>\n",
              "      <th>goout</th>\n",
              "      <th>Dalc</th>\n",
              "      <th>Walc</th>\n",
              "      <th>health</th>\n",
              "      <th>absences</th>\n",
              "      <th>G1</th>\n",
              "      <th>G2</th>\n",
              "      <th>G3</th>\n",
              "    </tr>\n",
              "  </thead>\n",
              "  <tbody>\n",
              "    <tr>\n",
              "      <th>0</th>\n",
              "      <td>GP</td>\n",
              "      <td>F</td>\n",
              "      <td>18</td>\n",
              "      <td>U</td>\n",
              "      <td>GT3</td>\n",
              "      <td>A</td>\n",
              "      <td>4</td>\n",
              "      <td>4</td>\n",
              "      <td>at_home</td>\n",
              "      <td>teacher</td>\n",
              "      <td>...</td>\n",
              "      <td>4</td>\n",
              "      <td>3</td>\n",
              "      <td>4</td>\n",
              "      <td>1</td>\n",
              "      <td>1</td>\n",
              "      <td>3</td>\n",
              "      <td>6</td>\n",
              "      <td>5</td>\n",
              "      <td>6</td>\n",
              "      <td>6</td>\n",
              "    </tr>\n",
              "    <tr>\n",
              "      <th>1</th>\n",
              "      <td>GP</td>\n",
              "      <td>F</td>\n",
              "      <td>17</td>\n",
              "      <td>U</td>\n",
              "      <td>GT3</td>\n",
              "      <td>T</td>\n",
              "      <td>1</td>\n",
              "      <td>1</td>\n",
              "      <td>at_home</td>\n",
              "      <td>other</td>\n",
              "      <td>...</td>\n",
              "      <td>5</td>\n",
              "      <td>3</td>\n",
              "      <td>3</td>\n",
              "      <td>1</td>\n",
              "      <td>1</td>\n",
              "      <td>3</td>\n",
              "      <td>4</td>\n",
              "      <td>5</td>\n",
              "      <td>5</td>\n",
              "      <td>6</td>\n",
              "    </tr>\n",
              "    <tr>\n",
              "      <th>2</th>\n",
              "      <td>GP</td>\n",
              "      <td>F</td>\n",
              "      <td>15</td>\n",
              "      <td>U</td>\n",
              "      <td>LE3</td>\n",
              "      <td>T</td>\n",
              "      <td>1</td>\n",
              "      <td>1</td>\n",
              "      <td>at_home</td>\n",
              "      <td>other</td>\n",
              "      <td>...</td>\n",
              "      <td>4</td>\n",
              "      <td>3</td>\n",
              "      <td>2</td>\n",
              "      <td>2</td>\n",
              "      <td>3</td>\n",
              "      <td>3</td>\n",
              "      <td>10</td>\n",
              "      <td>7</td>\n",
              "      <td>8</td>\n",
              "      <td>10</td>\n",
              "    </tr>\n",
              "    <tr>\n",
              "      <th>3</th>\n",
              "      <td>GP</td>\n",
              "      <td>F</td>\n",
              "      <td>15</td>\n",
              "      <td>U</td>\n",
              "      <td>GT3</td>\n",
              "      <td>T</td>\n",
              "      <td>4</td>\n",
              "      <td>2</td>\n",
              "      <td>health</td>\n",
              "      <td>services</td>\n",
              "      <td>...</td>\n",
              "      <td>3</td>\n",
              "      <td>2</td>\n",
              "      <td>2</td>\n",
              "      <td>1</td>\n",
              "      <td>1</td>\n",
              "      <td>5</td>\n",
              "      <td>2</td>\n",
              "      <td>15</td>\n",
              "      <td>14</td>\n",
              "      <td>15</td>\n",
              "    </tr>\n",
              "    <tr>\n",
              "      <th>4</th>\n",
              "      <td>GP</td>\n",
              "      <td>F</td>\n",
              "      <td>16</td>\n",
              "      <td>U</td>\n",
              "      <td>GT3</td>\n",
              "      <td>T</td>\n",
              "      <td>3</td>\n",
              "      <td>3</td>\n",
              "      <td>other</td>\n",
              "      <td>other</td>\n",
              "      <td>...</td>\n",
              "      <td>4</td>\n",
              "      <td>3</td>\n",
              "      <td>2</td>\n",
              "      <td>1</td>\n",
              "      <td>2</td>\n",
              "      <td>5</td>\n",
              "      <td>4</td>\n",
              "      <td>6</td>\n",
              "      <td>10</td>\n",
              "      <td>10</td>\n",
              "    </tr>\n",
              "    <tr>\n",
              "      <th>...</th>\n",
              "      <td>...</td>\n",
              "      <td>...</td>\n",
              "      <td>...</td>\n",
              "      <td>...</td>\n",
              "      <td>...</td>\n",
              "      <td>...</td>\n",
              "      <td>...</td>\n",
              "      <td>...</td>\n",
              "      <td>...</td>\n",
              "      <td>...</td>\n",
              "      <td>...</td>\n",
              "      <td>...</td>\n",
              "      <td>...</td>\n",
              "      <td>...</td>\n",
              "      <td>...</td>\n",
              "      <td>...</td>\n",
              "      <td>...</td>\n",
              "      <td>...</td>\n",
              "      <td>...</td>\n",
              "      <td>...</td>\n",
              "      <td>...</td>\n",
              "    </tr>\n",
              "    <tr>\n",
              "      <th>390</th>\n",
              "      <td>MS</td>\n",
              "      <td>M</td>\n",
              "      <td>20</td>\n",
              "      <td>U</td>\n",
              "      <td>LE3</td>\n",
              "      <td>A</td>\n",
              "      <td>2</td>\n",
              "      <td>2</td>\n",
              "      <td>services</td>\n",
              "      <td>services</td>\n",
              "      <td>...</td>\n",
              "      <td>5</td>\n",
              "      <td>5</td>\n",
              "      <td>4</td>\n",
              "      <td>4</td>\n",
              "      <td>5</td>\n",
              "      <td>4</td>\n",
              "      <td>11</td>\n",
              "      <td>9</td>\n",
              "      <td>9</td>\n",
              "      <td>9</td>\n",
              "    </tr>\n",
              "    <tr>\n",
              "      <th>391</th>\n",
              "      <td>MS</td>\n",
              "      <td>M</td>\n",
              "      <td>17</td>\n",
              "      <td>U</td>\n",
              "      <td>LE3</td>\n",
              "      <td>T</td>\n",
              "      <td>3</td>\n",
              "      <td>1</td>\n",
              "      <td>services</td>\n",
              "      <td>services</td>\n",
              "      <td>...</td>\n",
              "      <td>2</td>\n",
              "      <td>4</td>\n",
              "      <td>5</td>\n",
              "      <td>3</td>\n",
              "      <td>4</td>\n",
              "      <td>2</td>\n",
              "      <td>3</td>\n",
              "      <td>14</td>\n",
              "      <td>16</td>\n",
              "      <td>16</td>\n",
              "    </tr>\n",
              "    <tr>\n",
              "      <th>392</th>\n",
              "      <td>MS</td>\n",
              "      <td>M</td>\n",
              "      <td>21</td>\n",
              "      <td>R</td>\n",
              "      <td>GT3</td>\n",
              "      <td>T</td>\n",
              "      <td>1</td>\n",
              "      <td>1</td>\n",
              "      <td>other</td>\n",
              "      <td>other</td>\n",
              "      <td>...</td>\n",
              "      <td>5</td>\n",
              "      <td>5</td>\n",
              "      <td>3</td>\n",
              "      <td>3</td>\n",
              "      <td>3</td>\n",
              "      <td>3</td>\n",
              "      <td>3</td>\n",
              "      <td>10</td>\n",
              "      <td>8</td>\n",
              "      <td>7</td>\n",
              "    </tr>\n",
              "    <tr>\n",
              "      <th>393</th>\n",
              "      <td>MS</td>\n",
              "      <td>M</td>\n",
              "      <td>18</td>\n",
              "      <td>R</td>\n",
              "      <td>LE3</td>\n",
              "      <td>T</td>\n",
              "      <td>3</td>\n",
              "      <td>2</td>\n",
              "      <td>services</td>\n",
              "      <td>other</td>\n",
              "      <td>...</td>\n",
              "      <td>4</td>\n",
              "      <td>4</td>\n",
              "      <td>1</td>\n",
              "      <td>3</td>\n",
              "      <td>4</td>\n",
              "      <td>5</td>\n",
              "      <td>0</td>\n",
              "      <td>11</td>\n",
              "      <td>12</td>\n",
              "      <td>10</td>\n",
              "    </tr>\n",
              "    <tr>\n",
              "      <th>394</th>\n",
              "      <td>MS</td>\n",
              "      <td>M</td>\n",
              "      <td>19</td>\n",
              "      <td>U</td>\n",
              "      <td>LE3</td>\n",
              "      <td>T</td>\n",
              "      <td>1</td>\n",
              "      <td>1</td>\n",
              "      <td>other</td>\n",
              "      <td>at_home</td>\n",
              "      <td>...</td>\n",
              "      <td>3</td>\n",
              "      <td>2</td>\n",
              "      <td>3</td>\n",
              "      <td>3</td>\n",
              "      <td>3</td>\n",
              "      <td>5</td>\n",
              "      <td>5</td>\n",
              "      <td>8</td>\n",
              "      <td>9</td>\n",
              "      <td>9</td>\n",
              "    </tr>\n",
              "  </tbody>\n",
              "</table>\n",
              "<p>395 rows × 33 columns</p>\n",
              "</div>\n",
              "    <div class=\"colab-df-buttons\">\n",
              "\n",
              "  <div class=\"colab-df-container\">\n",
              "    <button class=\"colab-df-convert\" onclick=\"convertToInteractive('df-ae385b86-dbe2-4911-ade5-8414c4668649')\"\n",
              "            title=\"Convert this dataframe to an interactive table.\"\n",
              "            style=\"display:none;\">\n",
              "\n",
              "  <svg xmlns=\"http://www.w3.org/2000/svg\" height=\"24px\" viewBox=\"0 -960 960 960\">\n",
              "    <path d=\"M120-120v-720h720v720H120Zm60-500h600v-160H180v160Zm220 220h160v-160H400v160Zm0 220h160v-160H400v160ZM180-400h160v-160H180v160Zm440 0h160v-160H620v160ZM180-180h160v-160H180v160Zm440 0h160v-160H620v160Z\"/>\n",
              "  </svg>\n",
              "    </button>\n",
              "\n",
              "  <style>\n",
              "    .colab-df-container {\n",
              "      display:flex;\n",
              "      gap: 12px;\n",
              "    }\n",
              "\n",
              "    .colab-df-convert {\n",
              "      background-color: #E8F0FE;\n",
              "      border: none;\n",
              "      border-radius: 50%;\n",
              "      cursor: pointer;\n",
              "      display: none;\n",
              "      fill: #1967D2;\n",
              "      height: 32px;\n",
              "      padding: 0 0 0 0;\n",
              "      width: 32px;\n",
              "    }\n",
              "\n",
              "    .colab-df-convert:hover {\n",
              "      background-color: #E2EBFA;\n",
              "      box-shadow: 0px 1px 2px rgba(60, 64, 67, 0.3), 0px 1px 3px 1px rgba(60, 64, 67, 0.15);\n",
              "      fill: #174EA6;\n",
              "    }\n",
              "\n",
              "    .colab-df-buttons div {\n",
              "      margin-bottom: 4px;\n",
              "    }\n",
              "\n",
              "    [theme=dark] .colab-df-convert {\n",
              "      background-color: #3B4455;\n",
              "      fill: #D2E3FC;\n",
              "    }\n",
              "\n",
              "    [theme=dark] .colab-df-convert:hover {\n",
              "      background-color: #434B5C;\n",
              "      box-shadow: 0px 1px 3px 1px rgba(0, 0, 0, 0.15);\n",
              "      filter: drop-shadow(0px 1px 2px rgba(0, 0, 0, 0.3));\n",
              "      fill: #FFFFFF;\n",
              "    }\n",
              "  </style>\n",
              "\n",
              "    <script>\n",
              "      const buttonEl =\n",
              "        document.querySelector('#df-ae385b86-dbe2-4911-ade5-8414c4668649 button.colab-df-convert');\n",
              "      buttonEl.style.display =\n",
              "        google.colab.kernel.accessAllowed ? 'block' : 'none';\n",
              "\n",
              "      async function convertToInteractive(key) {\n",
              "        const element = document.querySelector('#df-ae385b86-dbe2-4911-ade5-8414c4668649');\n",
              "        const dataTable =\n",
              "          await google.colab.kernel.invokeFunction('convertToInteractive',\n",
              "                                                    [key], {});\n",
              "        if (!dataTable) return;\n",
              "\n",
              "        const docLinkHtml = 'Like what you see? Visit the ' +\n",
              "          '<a target=\"_blank\" href=https://colab.research.google.com/notebooks/data_table.ipynb>data table notebook</a>'\n",
              "          + ' to learn more about interactive tables.';\n",
              "        element.innerHTML = '';\n",
              "        dataTable['output_type'] = 'display_data';\n",
              "        await google.colab.output.renderOutput(dataTable, element);\n",
              "        const docLink = document.createElement('div');\n",
              "        docLink.innerHTML = docLinkHtml;\n",
              "        element.appendChild(docLink);\n",
              "      }\n",
              "    </script>\n",
              "  </div>\n",
              "\n",
              "\n",
              "<div id=\"df-15fc16d5-def1-46dd-b669-64409733b677\">\n",
              "  <button class=\"colab-df-quickchart\" onclick=\"quickchart('df-15fc16d5-def1-46dd-b669-64409733b677')\"\n",
              "            title=\"Suggest charts.\"\n",
              "            style=\"display:none;\">\n",
              "\n",
              "<svg xmlns=\"http://www.w3.org/2000/svg\" height=\"24px\"viewBox=\"0 0 24 24\"\n",
              "     width=\"24px\">\n",
              "    <g>\n",
              "        <path d=\"M19 3H5c-1.1 0-2 .9-2 2v14c0 1.1.9 2 2 2h14c1.1 0 2-.9 2-2V5c0-1.1-.9-2-2-2zM9 17H7v-7h2v7zm4 0h-2V7h2v10zm4 0h-2v-4h2v4z\"/>\n",
              "    </g>\n",
              "</svg>\n",
              "  </button>\n",
              "\n",
              "<style>\n",
              "  .colab-df-quickchart {\n",
              "      --bg-color: #E8F0FE;\n",
              "      --fill-color: #1967D2;\n",
              "      --hover-bg-color: #E2EBFA;\n",
              "      --hover-fill-color: #174EA6;\n",
              "      --disabled-fill-color: #AAA;\n",
              "      --disabled-bg-color: #DDD;\n",
              "  }\n",
              "\n",
              "  [theme=dark] .colab-df-quickchart {\n",
              "      --bg-color: #3B4455;\n",
              "      --fill-color: #D2E3FC;\n",
              "      --hover-bg-color: #434B5C;\n",
              "      --hover-fill-color: #FFFFFF;\n",
              "      --disabled-bg-color: #3B4455;\n",
              "      --disabled-fill-color: #666;\n",
              "  }\n",
              "\n",
              "  .colab-df-quickchart {\n",
              "    background-color: var(--bg-color);\n",
              "    border: none;\n",
              "    border-radius: 50%;\n",
              "    cursor: pointer;\n",
              "    display: none;\n",
              "    fill: var(--fill-color);\n",
              "    height: 32px;\n",
              "    padding: 0;\n",
              "    width: 32px;\n",
              "  }\n",
              "\n",
              "  .colab-df-quickchart:hover {\n",
              "    background-color: var(--hover-bg-color);\n",
              "    box-shadow: 0 1px 2px rgba(60, 64, 67, 0.3), 0 1px 3px 1px rgba(60, 64, 67, 0.15);\n",
              "    fill: var(--button-hover-fill-color);\n",
              "  }\n",
              "\n",
              "  .colab-df-quickchart-complete:disabled,\n",
              "  .colab-df-quickchart-complete:disabled:hover {\n",
              "    background-color: var(--disabled-bg-color);\n",
              "    fill: var(--disabled-fill-color);\n",
              "    box-shadow: none;\n",
              "  }\n",
              "\n",
              "  .colab-df-spinner {\n",
              "    border: 2px solid var(--fill-color);\n",
              "    border-color: transparent;\n",
              "    border-bottom-color: var(--fill-color);\n",
              "    animation:\n",
              "      spin 1s steps(1) infinite;\n",
              "  }\n",
              "\n",
              "  @keyframes spin {\n",
              "    0% {\n",
              "      border-color: transparent;\n",
              "      border-bottom-color: var(--fill-color);\n",
              "      border-left-color: var(--fill-color);\n",
              "    }\n",
              "    20% {\n",
              "      border-color: transparent;\n",
              "      border-left-color: var(--fill-color);\n",
              "      border-top-color: var(--fill-color);\n",
              "    }\n",
              "    30% {\n",
              "      border-color: transparent;\n",
              "      border-left-color: var(--fill-color);\n",
              "      border-top-color: var(--fill-color);\n",
              "      border-right-color: var(--fill-color);\n",
              "    }\n",
              "    40% {\n",
              "      border-color: transparent;\n",
              "      border-right-color: var(--fill-color);\n",
              "      border-top-color: var(--fill-color);\n",
              "    }\n",
              "    60% {\n",
              "      border-color: transparent;\n",
              "      border-right-color: var(--fill-color);\n",
              "    }\n",
              "    80% {\n",
              "      border-color: transparent;\n",
              "      border-right-color: var(--fill-color);\n",
              "      border-bottom-color: var(--fill-color);\n",
              "    }\n",
              "    90% {\n",
              "      border-color: transparent;\n",
              "      border-bottom-color: var(--fill-color);\n",
              "    }\n",
              "  }\n",
              "</style>\n",
              "\n",
              "  <script>\n",
              "    async function quickchart(key) {\n",
              "      const quickchartButtonEl =\n",
              "        document.querySelector('#' + key + ' button');\n",
              "      quickchartButtonEl.disabled = true;  // To prevent multiple clicks.\n",
              "      quickchartButtonEl.classList.add('colab-df-spinner');\n",
              "      try {\n",
              "        const charts = await google.colab.kernel.invokeFunction(\n",
              "            'suggestCharts', [key], {});\n",
              "      } catch (error) {\n",
              "        console.error('Error during call to suggestCharts:', error);\n",
              "      }\n",
              "      quickchartButtonEl.classList.remove('colab-df-spinner');\n",
              "      quickchartButtonEl.classList.add('colab-df-quickchart-complete');\n",
              "    }\n",
              "    (() => {\n",
              "      let quickchartButtonEl =\n",
              "        document.querySelector('#df-15fc16d5-def1-46dd-b669-64409733b677 button');\n",
              "      quickchartButtonEl.style.display =\n",
              "        google.colab.kernel.accessAllowed ? 'block' : 'none';\n",
              "    })();\n",
              "  </script>\n",
              "</div>\n",
              "    </div>\n",
              "  </div>\n"
            ]
          },
          "metadata": {},
          "execution_count": 26
        }
      ]
    },
    {
      "cell_type": "code",
      "source": [
        "# 데이터 정보확인\n",
        "data.info()"
      ],
      "metadata": {
        "colab": {
          "base_uri": "https://localhost:8080/"
        },
        "id": "HfVa8wYpkg9N",
        "outputId": "b0ac559f-59e6-4bec-9a37-6f7ba37c70a2"
      },
      "execution_count": null,
      "outputs": [
        {
          "output_type": "stream",
          "name": "stdout",
          "text": [
            "<class 'pandas.core.frame.DataFrame'>\n",
            "RangeIndex: 395 entries, 0 to 394\n",
            "Data columns (total 33 columns):\n",
            " #   Column      Non-Null Count  Dtype \n",
            "---  ------      --------------  ----- \n",
            " 0   school      395 non-null    object\n",
            " 1   sex         395 non-null    object\n",
            " 2   age         395 non-null    int64 \n",
            " 3   address     395 non-null    object\n",
            " 4   famsize     395 non-null    object\n",
            " 5   Pstatus     395 non-null    object\n",
            " 6   Medu        395 non-null    int64 \n",
            " 7   Fedu        395 non-null    int64 \n",
            " 8   Mjob        395 non-null    object\n",
            " 9   Fjob        395 non-null    object\n",
            " 10  reason      395 non-null    object\n",
            " 11  guardian    395 non-null    object\n",
            " 12  traveltime  395 non-null    int64 \n",
            " 13  studytime   395 non-null    int64 \n",
            " 14  failures    395 non-null    int64 \n",
            " 15  schoolsup   395 non-null    object\n",
            " 16  famsup      395 non-null    object\n",
            " 17  paid        395 non-null    object\n",
            " 18  activities  395 non-null    object\n",
            " 19  nursery     395 non-null    object\n",
            " 20  higher      395 non-null    object\n",
            " 21  internet    395 non-null    object\n",
            " 22  romantic    395 non-null    object\n",
            " 23  famrel      395 non-null    int64 \n",
            " 24  freetime    395 non-null    int64 \n",
            " 25  goout       395 non-null    int64 \n",
            " 26  Dalc        395 non-null    int64 \n",
            " 27  Walc        395 non-null    int64 \n",
            " 28  health      395 non-null    int64 \n",
            " 29  absences    395 non-null    int64 \n",
            " 30  G1          395 non-null    int64 \n",
            " 31  G2          395 non-null    int64 \n",
            " 32  G3          395 non-null    int64 \n",
            "dtypes: int64(16), object(17)\n",
            "memory usage: 102.0+ KB\n"
          ]
        }
      ]
    },
    {
      "cell_type": "markdown",
      "source": [
        "### 문제와 답으로 분리하기\n",
        "- 입력특성 : 1개 (studytime)\n",
        "- 정답 : G3"
      ],
      "metadata": {
        "id": "A5d2ZMQ4khIb"
      }
    },
    {
      "cell_type": "code",
      "source": [
        "# 문제데이터(x)\n",
        "X = data['studytime']\n",
        "# 정답데이터(y)\n",
        "y = data['G3']"
      ],
      "metadata": {
        "id": "4TWaQp0irmhH"
      },
      "execution_count": null,
      "outputs": []
    },
    {
      "cell_type": "code",
      "source": [
        "from sklearn.model_selection import train_test_split"
      ],
      "metadata": {
        "id": "vhE0q9Agrm9O"
      },
      "execution_count": null,
      "outputs": []
    },
    {
      "cell_type": "code",
      "source": [
        "# train, test 분리\n",
        "X_train, X_test, y_train, y_test = train_test_split(X,y,random_state=915, test_size=0.2)"
      ],
      "metadata": {
        "id": "pKN3ytkErnGA"
      },
      "execution_count": null,
      "outputs": []
    },
    {
      "cell_type": "code",
      "source": [
        "# 크기확인\n",
        "X_train.shape, y_train.shape"
      ],
      "metadata": {
        "colab": {
          "base_uri": "https://localhost:8080/"
        },
        "id": "3M84XbmgrnNq",
        "outputId": "4f5eb194-d2a1-41cd-830d-c7e15b43e967"
      },
      "execution_count": null,
      "outputs": [
        {
          "output_type": "execute_result",
          "data": {
            "text/plain": [
              "((316,), (316,))"
            ]
          },
          "metadata": {},
          "execution_count": 31
        }
      ]
    },
    {
      "cell_type": "code",
      "source": [
        "X_test.shape, y_test.shape"
      ],
      "metadata": {
        "colab": {
          "base_uri": "https://localhost:8080/"
        },
        "id": "smZPihIJrnWi",
        "outputId": "be1a10a3-b98c-493f-fee5-4aa9af60fe1a"
      },
      "execution_count": null,
      "outputs": [
        {
          "output_type": "execute_result",
          "data": {
            "text/plain": [
              "((79,), (79,))"
            ]
          },
          "metadata": {},
          "execution_count": 32
        }
      ]
    },
    {
      "cell_type": "code",
      "source": [
        "# 머신러닝 모델은 입력특성을 2차원으로 받는다!\n",
        "# 1차원 ➜  2차원으로 변경 !\n",
        "#1차원 시리즈 데이터를 2차원 데이터로 바꾸기.\n",
        "X_train.values.reshape(316,1).shape"
      ],
      "metadata": {
        "colab": {
          "base_uri": "https://localhost:8080/"
        },
        "id": "GKVviGqNwhQV",
        "outputId": "76caad88-075d-4023-c8bf-2aef4f0e6e07"
      },
      "execution_count": null,
      "outputs": [
        {
          "output_type": "execute_result",
          "data": {
            "text/plain": [
              "(316, 1)"
            ]
          },
          "metadata": {},
          "execution_count": 33
        }
      ]
    },
    {
      "cell_type": "code",
      "source": [],
      "metadata": {
        "id": "BycB_uglwguF"
      },
      "execution_count": null,
      "outputs": []
    },
    {
      "cell_type": "markdown",
      "source": [
        "### 머신러닝 모델과 딥 러닝 모델의 차이점\n",
        "- 머신러닝\n",
        "  - 완제품 장난감과 같다. : 팔 정도만 움직일 수 있다.(하이퍼파라미터만 조절 가능.)\n",
        "  - 모델생성(완성된 객체 사용) ➜ 모델학습 ➜  모델 예측 ➜  모델 평가\n",
        "\n",
        "- 딥러닝\n",
        "  - 레고블럭과 같은 역할. : 다양한 구성이 가능함.\n",
        "  - 모델생성( 모델을 직접 구성 ) ➜  모델 학습 ➜  모델 예측 ➜  모델 평가"
      ],
      "metadata": {
        "id": "GI5oSb-ernf9"
      }
    },
    {
      "cell_type": "markdown",
      "source": [
        "### 머신러닝 모델링( 선형회귀 모델 )"
      ],
      "metadata": {
        "id": "Uh_nNXavrnp-"
      }
    },
    {
      "cell_type": "code",
      "source": [
        "from sklearn.linear_model import LinearRegression # 선형 회귀 모델"
      ],
      "metadata": {
        "id": "OMKZo7J8uW9O"
      },
      "execution_count": null,
      "outputs": []
    },
    {
      "cell_type": "code",
      "source": [
        "from sklearn.metrics import mean_squared_error # 회귀 모델의 평가 지표 도구"
      ],
      "metadata": {
        "id": "mSKuxb0OuXW-"
      },
      "execution_count": null,
      "outputs": []
    },
    {
      "cell_type": "code",
      "source": [
        "from sklearn import linear_model\n",
        "# 1.모델 생성\n",
        "linear_model= LinearRegression()\n",
        "# 2. 모델 학습(학습용 문제, 학습용 정)\n",
        "linear_model.fit(X_train.values.reshape(316,1), y_train)\n",
        "# 3, 모델 예측(테스트용 문제)\n",
        "linear_pre = linear_model.predict(X_test.values.reshape(-1,1))\n",
        "# 4. 모델 평가(실제값, 예측값)\n",
        "mean_squared_error(y_test, linear_pre)"
      ],
      "metadata": {
        "colab": {
          "base_uri": "https://localhost:8080/"
        },
        "id": "WowvcFa_uXdE",
        "outputId": "7aa51b81-cd47-4282-ab63-1d64f15d2f7c"
      },
      "execution_count": null,
      "outputs": [
        {
          "output_type": "execute_result",
          "data": {
            "text/plain": [
              "24.058078771701606"
            ]
          },
          "metadata": {},
          "execution_count": 39
        }
      ]
    },
    {
      "cell_type": "markdown",
      "source": [],
      "metadata": {
        "id": "m1c7pjD8uXlF"
      }
    },
    {
      "cell_type": "markdown",
      "source": [
        "### 딥러닝 모델링(모델 구조 설계)"
      ],
      "metadata": {
        "id": "214XHYgKuXtO"
      }
    },
    {
      "cell_type": "markdown",
      "source": [
        "#### 딥러닝 모델 불러오기\n",
        "#### ✔ 텐서플로우 안에 있는 keras\n"
      ],
      "metadata": {
        "id": "Hu2eVy7GuX1m"
      }
    },
    {
      "cell_type": "code",
      "source": [
        "from tensorflow.keras.models import Sequential # 모델의 뼈대\n",
        "# 신경망의 구성요소( 하나씩 조립)\n",
        "from tensorflow.keras.layers import InputLayer, Dense, Activation\n",
        "# InputLayer: 입력\n",
        "# Dense : 밀집도\n",
        "# Activation :활성화함수"
      ],
      "metadata": {
        "id": "PrvuVxJDkhR_"
      },
      "execution_count": null,
      "outputs": []
    },
    {
      "cell_type": "markdown",
      "source": [
        "##### 딥러닝 모델 설계 순서\n",
        "1. 신경망 구조 설계\n",
        "2. 신경망 학습 및 평가 방법 설정\n",
        "3. 학습\n",
        "4. 예측 및 평가\n"
      ],
      "metadata": {
        "id": "YGTjr2aLtEYQ"
      }
    },
    {
      "cell_type": "code",
      "source": [
        "# 1. 신경망 구조 설계\n",
        "# 뼈대 생성\n",
        "model = Sequential()\n",
        "# 입력층\n",
        "model.add(InputLayer(input_shape=(1,))) #입력 특성의 개수를 작성(= 문제데이터는 1개) (studytime 1개)\n",
        "# 중간층(은닉층) ➜ 활성화함수 !! 역치라는 개념을 모방하기 위해서 !\n",
        "model.add(Dense(units=10)) # 뉴런 10개를 연결 ➜ 학습의 능력을 결정\n",
        "model.add(Activation('sigmoid')) #활성화 함수 : 인간을 모방하기 위함( 위 선형함수와 짝궁)\n",
        "# 출력층\n",
        "model.add(Dense(units=1)) #예측할 데이터의 형태, 우리가 현재 예측할 데이터는 성적데이터 1개 이기에 units=1이다."
      ],
      "metadata": {
        "id": "lGH7SSTOtE28"
      },
      "execution_count": null,
      "outputs": []
    },
    {
      "cell_type": "code",
      "source": [
        "from sklearn import metrics\n",
        "# 2. 학습 및 평가 방법 설정\n",
        "# 딥러닝 모델은 학습법과 평가법을 지정해주어야한다!\n",
        "model.compile(loss='mean_squared_error', # 모델의 잘못된 정도(오차) 측정 알고리즘\n",
        "              optimizer='SGD', #확률적 경사하강법, #모델의 w,b 값을 최적화하는 알고리즘\n",
        "              metrics = ['mse']\n",
        "              )"
      ],
      "metadata": {
        "id": "hfR1lpwftFC7"
      },
      "execution_count": null,
      "outputs": []
    },
    {
      "cell_type": "code",
      "source": [
        "#3. 모델 학습\n",
        "h1 = model.fit(X_train,y_train, validation_split=0.2, #교차검증을 위한 데이터 남겨두기.\n",
        "          epochs=20) #모델의 최적화 (업데이트 횟수 = 반복횟수)\n",
        "# h1변수에 담는 이유 : 로그를 출력하여 패턴을 확인하기 위함."
      ],
      "metadata": {
        "id": "acK0y9_ktFKx"
      },
      "execution_count": null,
      "outputs": []
    },
    {
      "cell_type": "code",
      "source": [
        "# 모델 평가\n",
        "model.evaluate(X_test, y_test)\n",
        "#오차값은 24정도이다.\n",
        "# 모두의 딥러닝 넷째마당의 10장?! 134"
      ],
      "metadata": {
        "colab": {
          "base_uri": "https://localhost:8080/"
        },
        "id": "AI4ChRJUtFRu",
        "outputId": "43656cfc-aab9-40f3-c0b3-64754fe72f7f"
      },
      "execution_count": null,
      "outputs": [
        {
          "output_type": "stream",
          "name": "stdout",
          "text": [
            "3/3 [==============================] - 0s 4ms/step - loss: 24.1955 - mse: 24.1955\n"
          ]
        },
        {
          "output_type": "execute_result",
          "data": {
            "text/plain": [
              "[24.19549560546875, 24.19549560546875]"
            ]
          },
          "metadata": {},
          "execution_count": 52
        }
      ]
    },
    {
      "cell_type": "code",
      "source": [
        "# 모델학습 로그 출력\n",
        "h1.history"
      ],
      "metadata": {
        "colab": {
          "base_uri": "https://localhost:8080/"
        },
        "id": "5nX8vSOttFY_",
        "outputId": "b6c81e46-7793-402f-d006-6fb2c2f867eb"
      },
      "execution_count": null,
      "outputs": [
        {
          "output_type": "execute_result",
          "data": {
            "text/plain": [
              "{'loss': [93.15238189697266,\n",
              "  31.97440528869629,\n",
              "  20.7611026763916,\n",
              "  19.609071731567383,\n",
              "  19.465036392211914,\n",
              "  19.40113067626953,\n",
              "  19.441181182861328,\n",
              "  19.391525268554688,\n",
              "  19.407278060913086,\n",
              "  19.424924850463867,\n",
              "  19.46060562133789,\n",
              "  19.42523956298828,\n",
              "  19.405370712280273,\n",
              "  19.442781448364258,\n",
              "  19.512861251831055,\n",
              "  19.43385124206543,\n",
              "  19.429622650146484,\n",
              "  19.42514991760254,\n",
              "  19.405216217041016,\n",
              "  19.386127471923828],\n",
              " 'mse': [93.15238189697266,\n",
              "  31.97440528869629,\n",
              "  20.7611026763916,\n",
              "  19.609071731567383,\n",
              "  19.465036392211914,\n",
              "  19.40113067626953,\n",
              "  19.441181182861328,\n",
              "  19.391525268554688,\n",
              "  19.407278060913086,\n",
              "  19.424924850463867,\n",
              "  19.46060562133789,\n",
              "  19.42523956298828,\n",
              "  19.405370712280273,\n",
              "  19.442781448364258,\n",
              "  19.512861251831055,\n",
              "  19.43385124206543,\n",
              "  19.429622650146484,\n",
              "  19.42514991760254,\n",
              "  19.405216217041016,\n",
              "  19.386127471923828],\n",
              " 'val_loss': [48.24601745605469,\n",
              "  25.11296844482422,\n",
              "  22.829086303710938,\n",
              "  22.642696380615234,\n",
              "  22.65298080444336,\n",
              "  22.657711029052734,\n",
              "  22.67166519165039,\n",
              "  22.66335105895996,\n",
              "  22.696950912475586,\n",
              "  22.75653839111328,\n",
              "  22.735004425048828,\n",
              "  22.677276611328125,\n",
              "  22.675846099853516,\n",
              "  22.69637107849121,\n",
              "  22.704689025878906,\n",
              "  22.700454711914062,\n",
              "  22.696338653564453,\n",
              "  22.702688217163086,\n",
              "  22.704938888549805,\n",
              "  22.715835571289062],\n",
              " 'val_mse': [48.24601745605469,\n",
              "  25.11296844482422,\n",
              "  22.829086303710938,\n",
              "  22.642696380615234,\n",
              "  22.65298080444336,\n",
              "  22.657711029052734,\n",
              "  22.67166519165039,\n",
              "  22.66335105895996,\n",
              "  22.696950912475586,\n",
              "  22.75653839111328,\n",
              "  22.735004425048828,\n",
              "  22.677276611328125,\n",
              "  22.675846099853516,\n",
              "  22.69637107849121,\n",
              "  22.704689025878906,\n",
              "  22.700454711914062,\n",
              "  22.696338653564453,\n",
              "  22.702688217163086,\n",
              "  22.704938888549805,\n",
              "  22.715835571289062]}"
            ]
          },
          "metadata": {},
          "execution_count": 53
        }
      ]
    },
    {
      "cell_type": "code",
      "source": [
        "#모델학습 시각화\n",
        "plt.figure(figsize=(10,5))\n",
        "\n",
        "plt.plot(h1.history['loss'],label='train_loss')\n",
        "plt.plot(h1.history['val_loss'], label='val_loss')\n",
        "plt.legend() # 범례\n",
        "plt.show()\n",
        "# 점점 loss값이 줄어들고 있다.\n",
        "# 일반화는 val_loss를 통해서 알 수 있다. 과대적합이 아닌것을 알 수 있다.\n",
        "# loss값이 내려가다가 갑자기 올라가면 과대적합이다.(새로운 데이터가 들어왔을 때, 올라가면 과적합,): 과적합은 내 학습용 데이터에만 적응해서 새로운 데이터가 들어오면 큰 변화가 생김?!\n"
      ],
      "metadata": {
        "colab": {
          "base_uri": "https://localhost:8080/",
          "height": 445
        },
        "id": "p9GKsIARtFgJ",
        "outputId": "3ebd492e-97f6-43ec-cbe7-f62c2a3ff58a"
      },
      "execution_count": null,
      "outputs": [
        {
          "output_type": "display_data",
          "data": {
            "text/plain": [
              "<Figure size 1000x500 with 1 Axes>"
            ],
            "image/png": "[encoded data removed]"
          },
          "metadata": {}
        }
      ]
    },
    {
      "cell_type": "code",
      "source": [
        "data.info()"
      ],
      "metadata": {
        "colab": {
          "base_uri": "https://localhost:8080/"
        },
        "id": "h1pgMQ_stFoV",
        "outputId": "89fa23a3-11cf-426a-c1fc-b12cd40e285e"
      },
      "execution_count": null,
      "outputs": [
        {
          "output_type": "stream",
          "name": "stdout",
          "text": [
            "<class 'pandas.core.frame.DataFrame'>\n",
            "RangeIndex: 395 entries, 0 to 394\n",
            "Data columns (total 33 columns):\n",
            " #   Column      Non-Null Count  Dtype \n",
            "---  ------      --------------  ----- \n",
            " 0   school      395 non-null    object\n",
            " 1   sex         395 non-null    object\n",
            " 2   age         395 non-null    int64 \n",
            " 3   address     395 non-null    object\n",
            " 4   famsize     395 non-null    object\n",
            " 5   Pstatus     395 non-null    object\n",
            " 6   Medu        395 non-null    int64 \n",
            " 7   Fedu        395 non-null    int64 \n",
            " 8   Mjob        395 non-null    object\n",
            " 9   Fjob        395 non-null    object\n",
            " 10  reason      395 non-null    object\n",
            " 11  guardian    395 non-null    object\n",
            " 12  traveltime  395 non-null    int64 \n",
            " 13  studytime   395 non-null    int64 \n",
            " 14  failures    395 non-null    int64 \n",
            " 15  schoolsup   395 non-null    object\n",
            " 16  famsup      395 non-null    object\n",
            " 17  paid        395 non-null    object\n",
            " 18  activities  395 non-null    object\n",
            " 19  nursery     395 non-null    object\n",
            " 20  higher      395 non-null    object\n",
            " 21  internet    395 non-null    object\n",
            " 22  romantic    395 non-null    object\n",
            " 23  famrel      395 non-null    int64 \n",
            " 24  freetime    395 non-null    int64 \n",
            " 25  goout       395 non-null    int64 \n",
            " 26  Dalc        395 non-null    int64 \n",
            " 27  Walc        395 non-null    int64 \n",
            " 28  health      395 non-null    int64 \n",
            " 29  absences    395 non-null    int64 \n",
            " 30  G1          395 non-null    int64 \n",
            " 31  G2          395 non-null    int64 \n",
            " 32  G3          395 non-null    int64 \n",
            "dtypes: int64(16), object(17)\n",
            "memory usage: 102.0+ KB\n"
          ]
        }
      ]
    },
    {
      "cell_type": "code",
      "source": [
        "X=data[['studytime','freetime','traveltime','health']]\n",
        "y=data['G3']"
      ],
      "metadata": {
        "id": "_4ymtfqQtFwM"
      },
      "execution_count": null,
      "outputs": []
    },
    {
      "cell_type": "code",
      "source": [],
      "metadata": {
        "id": "Fv5KA1aG_8ie"
      },
      "execution_count": null,
      "outputs": []
    },
    {
      "cell_type": "code",
      "source": [
        "#train,test분리\n",
        "X_train,X_test,y_train, y_test = train_test_split(X,y,test_size=0.2, random_state=918)"
      ],
      "metadata": {
        "id": "ulwvZmSA_sFF"
      },
      "execution_count": null,
      "outputs": []
    },
    {
      "cell_type": "code",
      "source": [
        "# 데이터 크기\n",
        "X_train.shape, y_train.shape, X_test.shape, y_test.shape\n",
        "# test와 train의 크기가 같은지 봐야함."
      ],
      "metadata": {
        "colab": {
          "base_uri": "https://localhost:8080/"
        },
        "id": "DlqFKVBP_-Ao",
        "outputId": "a80deeef-4198-4790-c1a6-1e3e9da85d5e"
      },
      "execution_count": null,
      "outputs": [
        {
          "output_type": "execute_result",
          "data": {
            "text/plain": [
              "((316, 4), (316,), (79, 4), (79,))"
            ]
          },
          "metadata": {},
          "execution_count": 65
        }
      ]
    },
    {
      "cell_type": "code",
      "source": [
        "# 1.신경망 구조설계\n",
        "## 뼈대\n",
        "model1 = Sequential()\n",
        "## 입력층\n",
        "model1.add(InputLayer(input_shape=(4,)))  # 입력특성이 4개임.\n",
        "## 중간층\n",
        "model1.add(Dense(units=10))\n",
        "model1.add(Activation('sigmoid'))\n",
        "## 출력층\n",
        "model1.add(Dense(units=1))"
      ],
      "metadata": {
        "id": "yfgAYxcDi8Ls"
      },
      "execution_count": null,
      "outputs": []
    },
    {
      "cell_type": "code",
      "source": [
        "# 2. 학습방법과 평가 방법 설정\n",
        "##\n",
        "model1.compile(loss='mean_squared_error',\n",
        "               optimizer='SGD',\n",
        "               metrics=['mse'])"
      ],
      "metadata": {
        "id": "WofLDjcQinUs"
      },
      "execution_count": null,
      "outputs": []
    },
    {
      "cell_type": "code",
      "source": [
        "# 3.학습\n",
        "h2=model1.fit(X_train,y_train,validation_split=0.2, epochs=20)"
      ],
      "metadata": {
        "colab": {
          "base_uri": "https://localhost:8080/"
        },
        "id": "4gJgYzWO8hTz",
        "outputId": "a08a9835-a8f7-49b7-c049-0c915cd3ea6d"
      },
      "execution_count": null,
      "outputs": [
        {
          "output_type": "stream",
          "name": "stdout",
          "text": [
            "Epoch 1/20\n",
            "8/8 [==============================] - 3s 248ms/step - loss: 65.6134 - mse: 65.6134 - val_loss: 41.8606 - val_mse: 41.8606\n",
            "Epoch 2/20\n",
            "8/8 [==============================] - 0s 50ms/step - loss: 26.0753 - mse: 26.0753 - val_loss: 28.2805 - val_mse: 28.2805\n",
            "Epoch 3/20\n",
            "8/8 [==============================] - 0s 59ms/step - loss: 21.2946 - mse: 21.2946 - val_loss: 25.7836 - val_mse: 25.7836\n",
            "Epoch 4/20\n",
            "8/8 [==============================] - 0s 31ms/step - loss: 20.7743 - mse: 20.7743 - val_loss: 25.4253 - val_mse: 25.4253\n",
            "Epoch 5/20\n",
            "8/8 [==============================] - 0s 32ms/step - loss: 20.6689 - mse: 20.6689 - val_loss: 25.2599 - val_mse: 25.2599\n",
            "Epoch 6/20\n",
            "8/8 [==============================] - 0s 37ms/step - loss: 20.6781 - mse: 20.6781 - val_loss: 25.2164 - val_mse: 25.2164\n",
            "Epoch 7/20\n",
            "8/8 [==============================] - 0s 8ms/step - loss: 20.6757 - mse: 20.6757 - val_loss: 25.2181 - val_mse: 25.2181\n",
            "Epoch 8/20\n",
            "8/8 [==============================] - 0s 10ms/step - loss: 20.7106 - mse: 20.7106 - val_loss: 25.1038 - val_mse: 25.1038\n",
            "Epoch 9/20\n",
            "8/8 [==============================] - 0s 10ms/step - loss: 20.6385 - mse: 20.6385 - val_loss: 25.3331 - val_mse: 25.3331\n",
            "Epoch 10/20\n",
            "8/8 [==============================] - 0s 13ms/step - loss: 20.6349 - mse: 20.6349 - val_loss: 25.2201 - val_mse: 25.2201\n",
            "Epoch 11/20\n",
            "8/8 [==============================] - 0s 11ms/step - loss: 20.6116 - mse: 20.6116 - val_loss: 25.3368 - val_mse: 25.3368\n",
            "Epoch 12/20\n",
            "8/8 [==============================] - 0s 11ms/step - loss: 20.7117 - mse: 20.7117 - val_loss: 25.2159 - val_mse: 25.2159\n",
            "Epoch 13/20\n",
            "8/8 [==============================] - 0s 9ms/step - loss: 20.6089 - mse: 20.6089 - val_loss: 25.3276 - val_mse: 25.3276\n",
            "Epoch 14/20\n",
            "8/8 [==============================] - 0s 11ms/step - loss: 20.5566 - mse: 20.5566 - val_loss: 25.1835 - val_mse: 25.1835\n",
            "Epoch 15/20\n",
            "8/8 [==============================] - 0s 11ms/step - loss: 20.5972 - mse: 20.5972 - val_loss: 25.1811 - val_mse: 25.1811\n",
            "Epoch 16/20\n",
            "8/8 [==============================] - 0s 10ms/step - loss: 20.6113 - mse: 20.6113 - val_loss: 25.2652 - val_mse: 25.2652\n",
            "Epoch 17/20\n",
            "8/8 [==============================] - 0s 11ms/step - loss: 20.6776 - mse: 20.6776 - val_loss: 25.3205 - val_mse: 25.3205\n",
            "Epoch 18/20\n",
            "8/8 [==============================] - 0s 13ms/step - loss: 20.5670 - mse: 20.5670 - val_loss: 25.3221 - val_mse: 25.3221\n",
            "Epoch 19/20\n",
            "8/8 [==============================] - 0s 11ms/step - loss: 20.5489 - mse: 20.5489 - val_loss: 25.1688 - val_mse: 25.1688\n",
            "Epoch 20/20\n",
            "8/8 [==============================] - 0s 11ms/step - loss: 20.5318 - mse: 20.5318 - val_loss: 25.2852 - val_mse: 25.2852\n"
          ]
        }
      ]
    },
    {
      "cell_type": "code",
      "source": [
        "# 4.예측 및 평가\n",
        "model1.evaluate(X_test, y_test)\n"
      ],
      "metadata": {
        "colab": {
          "base_uri": "https://localhost:8080/"
        },
        "id": "3UtHTNHV8hok",
        "outputId": "03199215-222d-4c99-ded3-6afc66eff827"
      },
      "execution_count": null,
      "outputs": [
        {
          "output_type": "stream",
          "name": "stdout",
          "text": [
            "3/3 [==============================] - 0s 13ms/step - loss: 19.6920 - mse: 19.6920\n"
          ]
        },
        {
          "output_type": "execute_result",
          "data": {
            "text/plain": [
              "[19.692033767700195, 19.692033767700195]"
            ]
          },
          "metadata": {},
          "execution_count": 71
        }
      ]
    },
    {
      "cell_type": "code",
      "source": [
        "#5. 시각\n",
        "plt.figure(figsize=(10,5))\n",
        "plt.plot(h2.history['loss'], label='train_loss')\n",
        "plt.plot(h2.history['val_loss'], label='val_loss')\n",
        "plt.legend()\n",
        "plt.show()"
      ],
      "metadata": {
        "colab": {
          "base_uri": "https://localhost:8080/",
          "height": 445
        },
        "id": "Gys56g4r8hv3",
        "outputId": "6ab31e17-bd49-4b9b-fd05-707d3456531d"
      },
      "execution_count": null,
      "outputs": [
        {
          "output_type": "display_data",
          "data": {
            "text/plain": [
              "<Figure size 1000x500 with 1 Axes>"
            ],
            "image/png": "[encoded data removed]"
          },
          "metadata": {}
        }
      ]
    },
    {
      "cell_type": "code",
      "source": [],
      "metadata": {
        "id": "ibQ_0q3Z8h3v"
      },
      "execution_count": null,
      "outputs": []
    },
    {
      "cell_type": "markdown",
      "source": [
        "# 퍼셉트론 제안\n",
        "## 퍼셉트론 : 인공신경망 구성요소 중 하나로 딥러닝 모델의 가장 작은 기본단위\n",
        "###    뇌를 구성하는 신경세포인 뉴런의 동작과 유사하게 동작.\n",
        "### 신경의 흥분이 전달되기 위해서는 뉴런에 전달되는 자극의 크기가 역치 이상이 되어야함.\n",
        "#### 반응의 크기 > 역치\n",
        "#### 퍼셉트론 : 선형모델 + 활성화함수(할지말지)\n",
        "#### y = w1x1 + w2x3 + b\n",
        "#### 퍼셉트론은 입력값을 선형모델\n",
        "#### 지금 사용하고 있는 활성화함수는 sigmoid이고 이전의 활성화함수는 step function (계단 함수)이다.\n",
        "y={0, w1x1 + w2x3 + b <= 0\n",
        "### 해당 식이 0보다 작으면 반응을 안 하고\n",
        "### 해당 식이 0보다 크면 반응이 있다.\n",
        "### w1, w2 : 가중치(weight), 각 입력 신호가 결과에 주는 영향력을 조절하는 매개변수\n",
        "### b:편향(bias), 뉴런이 얼마나 쉽게 활성화하느냐를 조절하는 매개변수\n",
        "\n",
        "### 다중 퍼셉트론 (MLP, Multi Layer Perceptron)\n",
        "### : 퍼셉트론을 여러 개의 층으로 구성하여 만든 신경망\n",
        "### xor문제 해결하기 위해서 나타남. 단층으로 해결할 수 없어서 다층이 등장하게 됨.\n",
        "## sigmoid !!\n",
        "### 최적화 == optimizer\n",
        "\n",
        "### ** 회귀에서는 mse, 분류에는 크로스엔트로피 사용함.(오차를 구할 때, 실제값-예측값이 계속 같아서?!\n",
        "\n",
        "### 최적화의 알고리즘은 경사하강법(SGD)은 기울기를 통해서 알 수 있음.\n",
        "### data ➜ model ➜ 예측값 ^y - 실제값 y ➜ 오차를 통해서 최적화를 함.3\n",
        "## loss손실함수 1.회귀: MSE\n",
        "##              2. 분류: crossentropy"
      ],
      "metadata": {
        "id": "SgbR7Qrt8iAd"
      }
    },
    {
      "cell_type": "code",
      "source": [],
      "metadata": {
        "id": "ufocBO_Z8iI6"
      },
      "execution_count": null,
      "outputs": []
    },
    {
      "cell_type": "code",
      "source": [],
      "metadata": {
        "id": "EniwPOk_8iST"
      },
      "execution_count": null,
      "outputs": []
    },
    {
      "cell_type": "code",
      "source": [],
      "metadata": {
        "id": "bJ9mk2RK8icV"
      },
      "execution_count": null,
      "outputs": []
    },
    {
      "cell_type": "code",
      "source": [],
      "metadata": {
        "id": "97wsKv4X8ilu"
      },
      "execution_count": null,
      "outputs": []
    }
  ]
}