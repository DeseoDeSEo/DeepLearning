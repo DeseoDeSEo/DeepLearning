{
 "cells": [
  {
   "cell_type": "markdown",
   "id": "631a45b4",
   "metadata": {},
   "source": [
    "### 목표\n",
    "- 문제정의\n",
    "   - 500명의 키와 몸무게, 비만도 라벨을 이용하여 비만을 판단하는 모델을 만들어보자.\n",
    "   - 머신 러닝 과정을 이해해보자."
   ]
  },
  {
   "cell_type": "code",
   "execution_count": 1,
   "id": "b4bce913",
   "metadata": {},
   "outputs": [],
   "source": [
    "# 판다스, 시각화\n",
    "import pandas as pd\n",
    "import matplotlib.pyplot as plt\n",
    "\n",
    "# 모델 관련해서 불러오는 코드(2줄)\n",
    "# knn모델 불러오기, 측정 도구 불러오기\n",
    "from sklearn.neighbors import KNeighborsClassifier\n",
    "from sklearn.metrics import accuracy_score"
   ]
  },
  {
   "cell_type": "markdown",
   "id": "ffe938a9",
   "metadata": {},
   "source": [
    "### 데이터 준비(수집)"
   ]
  },
  {
   "cell_type": "code",
   "execution_count": 2,
   "id": "ee319ef0",
   "metadata": {},
   "outputs": [
    {
     "data": {
      "text/html": [
       "<div>\n",
       "<style scoped>\n",
       "    .dataframe tbody tr th:only-of-type {\n",
       "        vertical-align: middle;\n",
       "    }\n",
       "\n",
       "    .dataframe tbody tr th {\n",
       "        vertical-align: top;\n",
       "    }\n",
       "\n",
       "    .dataframe thead th {\n",
       "        text-align: right;\n",
       "    }\n",
       "</style>\n",
       "<table border=\"1\" class=\"dataframe\">\n",
       "  <thead>\n",
       "    <tr style=\"text-align: right;\">\n",
       "      <th></th>\n",
       "      <th>Gender</th>\n",
       "      <th>Height</th>\n",
       "      <th>Weight</th>\n",
       "    </tr>\n",
       "    <tr>\n",
       "      <th>Label</th>\n",
       "      <th></th>\n",
       "      <th></th>\n",
       "      <th></th>\n",
       "    </tr>\n",
       "  </thead>\n",
       "  <tbody>\n",
       "    <tr>\n",
       "      <th>Obesity</th>\n",
       "      <td>Male</td>\n",
       "      <td>174</td>\n",
       "      <td>96</td>\n",
       "    </tr>\n",
       "    <tr>\n",
       "      <th>Normal</th>\n",
       "      <td>Male</td>\n",
       "      <td>189</td>\n",
       "      <td>87</td>\n",
       "    </tr>\n",
       "    <tr>\n",
       "      <th>Obesity</th>\n",
       "      <td>Female</td>\n",
       "      <td>185</td>\n",
       "      <td>110</td>\n",
       "    </tr>\n",
       "    <tr>\n",
       "      <th>Overweight</th>\n",
       "      <td>Female</td>\n",
       "      <td>195</td>\n",
       "      <td>104</td>\n",
       "    </tr>\n",
       "    <tr>\n",
       "      <th>Overweight</th>\n",
       "      <td>Male</td>\n",
       "      <td>149</td>\n",
       "      <td>61</td>\n",
       "    </tr>\n",
       "    <tr>\n",
       "      <th>...</th>\n",
       "      <td>...</td>\n",
       "      <td>...</td>\n",
       "      <td>...</td>\n",
       "    </tr>\n",
       "    <tr>\n",
       "      <th>Extreme Obesity</th>\n",
       "      <td>Female</td>\n",
       "      <td>150</td>\n",
       "      <td>153</td>\n",
       "    </tr>\n",
       "    <tr>\n",
       "      <th>Obesity</th>\n",
       "      <td>Female</td>\n",
       "      <td>184</td>\n",
       "      <td>121</td>\n",
       "    </tr>\n",
       "    <tr>\n",
       "      <th>Extreme Obesity</th>\n",
       "      <td>Female</td>\n",
       "      <td>141</td>\n",
       "      <td>136</td>\n",
       "    </tr>\n",
       "    <tr>\n",
       "      <th>Extreme Obesity</th>\n",
       "      <td>Male</td>\n",
       "      <td>150</td>\n",
       "      <td>95</td>\n",
       "    </tr>\n",
       "    <tr>\n",
       "      <th>Extreme Obesity</th>\n",
       "      <td>Male</td>\n",
       "      <td>173</td>\n",
       "      <td>131</td>\n",
       "    </tr>\n",
       "  </tbody>\n",
       "</table>\n",
       "<p>500 rows × 3 columns</p>\n",
       "</div>"
      ],
      "text/plain": [
       "                 Gender  Height  Weight\n",
       "Label                                  \n",
       "Obesity            Male     174      96\n",
       "Normal             Male     189      87\n",
       "Obesity          Female     185     110\n",
       "Overweight       Female     195     104\n",
       "Overweight         Male     149      61\n",
       "...                 ...     ...     ...\n",
       "Extreme Obesity  Female     150     153\n",
       "Obesity          Female     184     121\n",
       "Extreme Obesity  Female     141     136\n",
       "Extreme Obesity    Male     150      95\n",
       "Extreme Obesity    Male     173     131\n",
       "\n",
       "[500 rows x 3 columns]"
      ]
     },
     "execution_count": 2,
     "metadata": {},
     "output_type": "execute_result"
    }
   ],
   "source": [
    "# pd.read_csv()\n",
    "# data변수에 담아주기\n",
    "# ./ 하면 machine learning 폴더임을 알려줌,\n",
    "# Label 컬럼을 인덱스로 설정해서 불러오기\n",
    "data = pd.read_csv('./Data/bmi_500.csv', index_col ='Label')\n",
    "data"
   ]
  },
  {
   "cell_type": "code",
   "execution_count": 3,
   "id": "687a879c",
   "metadata": {},
   "outputs": [
    {
     "name": "stdout",
     "output_type": "stream",
     "text": [
      "<class 'pandas.core.frame.DataFrame'>\n",
      "Index: 500 entries, Obesity to Extreme Obesity\n",
      "Data columns (total 3 columns):\n",
      " #   Column  Non-Null Count  Dtype \n",
      "---  ------  --------------  ----- \n",
      " 0   Gender  500 non-null    object\n",
      " 1   Height  500 non-null    int64 \n",
      " 2   Weight  500 non-null    int64 \n",
      "dtypes: int64(2), object(1)\n",
      "memory usage: 15.6+ KB\n"
     ]
    }
   ],
   "source": [
    "# 데이터 정보 확인\n",
    "# 전체 행, 컬럼의 개수 및 정보, 결측치 여부 확인\n",
    "data.info()\n",
    "# shape : (행, 컬럼) (500,3)\n",
    "# 성별 컬럼 , 키, 몸무게 모두 결측치 없는 상태\n",
    "# 데이터 확인 필수 ! => 머신러닝 모델은 문자를 이해할 수 없음.\n",
    "# 이번 실습에서는 Height, weight 2개만 활용함."
   ]
  },
  {
   "cell_type": "markdown",
   "id": "07214342",
   "metadata": {},
   "source": [
    "#### 데이터 전처리 : pass"
   ]
  },
  {
   "cell_type": "markdown",
   "id": "1530f7d3",
   "metadata": {},
   "source": [
    "### 데이터 분석(탐색)\n",
    "- 기술 통계 확인 : 평균, 최솟값, 중앙값( 오름차순으로 정렬했을 때, 정 중앙 값), 최대값\n",
    "- 시각화를 통해 데이터의 분포 확인해보기."
   ]
  },
  {
   "cell_type": "code",
   "execution_count": 4,
   "id": "fe2cd6f2",
   "metadata": {},
   "outputs": [
    {
     "data": {
      "text/html": [
       "<div>\n",
       "<style scoped>\n",
       "    .dataframe tbody tr th:only-of-type {\n",
       "        vertical-align: middle;\n",
       "    }\n",
       "\n",
       "    .dataframe tbody tr th {\n",
       "        vertical-align: top;\n",
       "    }\n",
       "\n",
       "    .dataframe thead th {\n",
       "        text-align: right;\n",
       "    }\n",
       "</style>\n",
       "<table border=\"1\" class=\"dataframe\">\n",
       "  <thead>\n",
       "    <tr style=\"text-align: right;\">\n",
       "      <th></th>\n",
       "      <th>Height</th>\n",
       "      <th>Weight</th>\n",
       "    </tr>\n",
       "  </thead>\n",
       "  <tbody>\n",
       "    <tr>\n",
       "      <th>count</th>\n",
       "      <td>500.000000</td>\n",
       "      <td>500.000000</td>\n",
       "    </tr>\n",
       "    <tr>\n",
       "      <th>mean</th>\n",
       "      <td>169.944000</td>\n",
       "      <td>106.000000</td>\n",
       "    </tr>\n",
       "    <tr>\n",
       "      <th>std</th>\n",
       "      <td>16.375261</td>\n",
       "      <td>32.382607</td>\n",
       "    </tr>\n",
       "    <tr>\n",
       "      <th>min</th>\n",
       "      <td>140.000000</td>\n",
       "      <td>50.000000</td>\n",
       "    </tr>\n",
       "    <tr>\n",
       "      <th>25%</th>\n",
       "      <td>156.000000</td>\n",
       "      <td>80.000000</td>\n",
       "    </tr>\n",
       "    <tr>\n",
       "      <th>50%</th>\n",
       "      <td>170.500000</td>\n",
       "      <td>106.000000</td>\n",
       "    </tr>\n",
       "    <tr>\n",
       "      <th>75%</th>\n",
       "      <td>184.000000</td>\n",
       "      <td>136.000000</td>\n",
       "    </tr>\n",
       "    <tr>\n",
       "      <th>max</th>\n",
       "      <td>199.000000</td>\n",
       "      <td>160.000000</td>\n",
       "    </tr>\n",
       "  </tbody>\n",
       "</table>\n",
       "</div>"
      ],
      "text/plain": [
       "           Height      Weight\n",
       "count  500.000000  500.000000\n",
       "mean   169.944000  106.000000\n",
       "std     16.375261   32.382607\n",
       "min    140.000000   50.000000\n",
       "25%    156.000000   80.000000\n",
       "50%    170.500000  106.000000\n",
       "75%    184.000000  136.000000\n",
       "max    199.000000  160.000000"
      ]
     },
     "execution_count": 4,
     "metadata": {},
     "output_type": "execute_result"
    }
   ],
   "source": [
    "# describe()는 숫자형태인 int, float컬럼에 대해서 먼저 작용됨. 그래서 gender가 출력 안 됨.\n",
    "data.describe()\n",
    "# 현재 data안에는 비만에 대한 사람의 데이타가 많이 있음을 알 수 있다.\n",
    "# 평균mean과 50%의 결과를 비교했을 때, 결측치가 많은지 알 수 있다.\n"
   ]
  },
  {
   "cell_type": "code",
   "execution_count": 5,
   "id": "68b5b9ee",
   "metadata": {},
   "outputs": [
    {
     "data": {
      "text/plain": [
       "Index(['Obesity', 'Normal', 'Overweight', 'Extreme Obesity', 'Weak',\n",
       "       'Extremely Weak'],\n",
       "      dtype='object', name='Label')"
      ]
     },
     "execution_count": 5,
     "metadata": {},
     "output_type": "execute_result"
    }
   ],
   "source": [
    "# 먼저 Label확인이 필요함.\n",
    "# 중복없이 Label 확인해보자.\n",
    "data.index.unique()\n",
    "\n",
    "# 'Exterme Obesity\n",
    "# 'obesity\n",
    "# 'Oberweight'\n",
    "#' Normal'\n",
    "# 'Weak'\n",
    "#Extremelyweak'"
   ]
  },
  {
   "cell_type": "code",
   "execution_count": 6,
   "id": "88d9848e",
   "metadata": {},
   "outputs": [
    {
     "data": {
      "text/plain": [
       "Extreme Obesity    198\n",
       "Obesity            130\n",
       "Normal              69\n",
       "Overweight          68\n",
       "Weak                22\n",
       "Extremely Weak      13\n",
       "Name: Label, dtype: int64"
      ]
     },
     "execution_count": 6,
     "metadata": {},
     "output_type": "execute_result"
    }
   ],
   "source": [
    "# 각각의 값의 횟수를 셀 수 있는 함수(기능)\n",
    "# 판다스객체.value_counts()\n",
    "data.index.value_counts()"
   ]
  },
  {
   "cell_type": "code",
   "execution_count": 7,
   "id": "ad234683",
   "metadata": {},
   "outputs": [
    {
     "data": {
      "image/png": "[encoded data removed]",
      "text/plain": [
       "<Figure size 640x480 with 1 Axes>"
      ]
     },
     "metadata": {},
     "output_type": "display_data"
    }
   ],
   "source": [
    "# 시각화 해보기 : 비만도 레이블을 표현해보기\n",
    "# x축 키, y 축 몸무게를 기준으로 산점도 그려보기\n",
    "# Extreme Obesity 에 해당하는 행만 접근하기\n",
    "# loc[행 인덱싱]\n",
    "d = data.loc['Extreme Obesity']\n",
    "plt.scatter(d['Height'],d['Weight'], c='blue', label ='ext obes' ) #d.loc[:,'Height']\n",
    "\n",
    "# obesity행만 접근해보기\n",
    "d2 = data.loc['Obesity']\n",
    "plt.scatter(d2['Height'],d2['Weight'], c='skyblue', label ='obes' )\n",
    "# 산점도 표현해보기\n",
    "\n",
    "\n",
    "plt.legend() # 범례에 표시해주랑.\n",
    "plt.show()"
   ]
  },
  {
   "cell_type": "code",
   "execution_count": 8,
   "id": "b589b6eb",
   "metadata": {},
   "outputs": [],
   "source": [
    "# 그래프를 그리는 함수 정의\n",
    "def bmi_draw(label, color):\n",
    "    d2 = data.loc[label]\n",
    "    plt.scatter(d2['Height'],d2['Weight'], c=color, label = label )"
   ]
  },
  {
   "cell_type": "code",
   "execution_count": 9,
   "id": "845c0bf7",
   "metadata": {},
   "outputs": [
    {
     "data": {
      "text/plain": [
       "Index(['Obesity', 'Normal', 'Overweight', 'Extreme Obesity', 'Weak',\n",
       "       'Extremely Weak'],\n",
       "      dtype='object', name='Label')"
      ]
     },
     "execution_count": 9,
     "metadata": {},
     "output_type": "execute_result"
    }
   ],
   "source": [
    "data.index.unique()"
   ]
  },
  {
   "cell_type": "code",
   "execution_count": 10,
   "id": "e219b000",
   "metadata": {},
   "outputs": [
    {
     "data": {
      "image/png": "[encoded data removed]",
      "text/plain": [
       "<Figure size 640x480 with 1 Axes>"
      ]
     },
     "metadata": {},
     "output_type": "display_data"
    }
   ],
   "source": [
    "# Label을 하나씩 연결하면서 , 색감도 설정하면서 함수를 6번 호출(사용)\n",
    "bmi_draw('Extreme Obesity','blue')\n",
    "bmi_draw('Obesity','cyan')\n",
    "bmi_draw('Normal' ,'orange')\n",
    "bmi_draw('Overweight' ,'green')\n",
    "bmi_draw('Weak','yellow')\n",
    "bmi_draw('Extremely Weak' ,'pink')\n",
    "plt.legend()\n",
    "plt.show()"
   ]
  },
  {
   "cell_type": "markdown",
   "id": "727e9a8c",
   "metadata": {},
   "source": [
    "### 모델링\n",
    "- 모델 선택 및 하이퍼 파라미터 조정(knn)\n",
    "- 모델 학습\n",
    "- 모델 예측 및 평가\n"
   ]
  },
  {
   "cell_type": "code",
   "execution_count": 11,
   "id": "bf91f41d",
   "metadata": {},
   "outputs": [
    {
     "data": {
      "text/html": [
       "<div>\n",
       "<style scoped>\n",
       "    .dataframe tbody tr th:only-of-type {\n",
       "        vertical-align: middle;\n",
       "    }\n",
       "\n",
       "    .dataframe tbody tr th {\n",
       "        vertical-align: top;\n",
       "    }\n",
       "\n",
       "    .dataframe thead th {\n",
       "        text-align: right;\n",
       "    }\n",
       "</style>\n",
       "<table border=\"1\" class=\"dataframe\">\n",
       "  <thead>\n",
       "    <tr style=\"text-align: right;\">\n",
       "      <th></th>\n",
       "      <th>Label</th>\n",
       "      <th>Gender</th>\n",
       "      <th>Height</th>\n",
       "      <th>Weight</th>\n",
       "    </tr>\n",
       "  </thead>\n",
       "  <tbody>\n",
       "    <tr>\n",
       "      <th>0</th>\n",
       "      <td>Obesity</td>\n",
       "      <td>Male</td>\n",
       "      <td>174</td>\n",
       "      <td>96</td>\n",
       "    </tr>\n",
       "    <tr>\n",
       "      <th>1</th>\n",
       "      <td>Normal</td>\n",
       "      <td>Male</td>\n",
       "      <td>189</td>\n",
       "      <td>87</td>\n",
       "    </tr>\n",
       "    <tr>\n",
       "      <th>2</th>\n",
       "      <td>Obesity</td>\n",
       "      <td>Female</td>\n",
       "      <td>185</td>\n",
       "      <td>110</td>\n",
       "    </tr>\n",
       "    <tr>\n",
       "      <th>3</th>\n",
       "      <td>Overweight</td>\n",
       "      <td>Female</td>\n",
       "      <td>195</td>\n",
       "      <td>104</td>\n",
       "    </tr>\n",
       "    <tr>\n",
       "      <th>4</th>\n",
       "      <td>Overweight</td>\n",
       "      <td>Male</td>\n",
       "      <td>149</td>\n",
       "      <td>61</td>\n",
       "    </tr>\n",
       "    <tr>\n",
       "      <th>...</th>\n",
       "      <td>...</td>\n",
       "      <td>...</td>\n",
       "      <td>...</td>\n",
       "      <td>...</td>\n",
       "    </tr>\n",
       "    <tr>\n",
       "      <th>495</th>\n",
       "      <td>Extreme Obesity</td>\n",
       "      <td>Female</td>\n",
       "      <td>150</td>\n",
       "      <td>153</td>\n",
       "    </tr>\n",
       "    <tr>\n",
       "      <th>496</th>\n",
       "      <td>Obesity</td>\n",
       "      <td>Female</td>\n",
       "      <td>184</td>\n",
       "      <td>121</td>\n",
       "    </tr>\n",
       "    <tr>\n",
       "      <th>497</th>\n",
       "      <td>Extreme Obesity</td>\n",
       "      <td>Female</td>\n",
       "      <td>141</td>\n",
       "      <td>136</td>\n",
       "    </tr>\n",
       "    <tr>\n",
       "      <th>498</th>\n",
       "      <td>Extreme Obesity</td>\n",
       "      <td>Male</td>\n",
       "      <td>150</td>\n",
       "      <td>95</td>\n",
       "    </tr>\n",
       "    <tr>\n",
       "      <th>499</th>\n",
       "      <td>Extreme Obesity</td>\n",
       "      <td>Male</td>\n",
       "      <td>173</td>\n",
       "      <td>131</td>\n",
       "    </tr>\n",
       "  </tbody>\n",
       "</table>\n",
       "<p>500 rows × 4 columns</p>\n",
       "</div>"
      ],
      "text/plain": [
       "               Label  Gender  Height  Weight\n",
       "0            Obesity    Male     174      96\n",
       "1             Normal    Male     189      87\n",
       "2            Obesity  Female     185     110\n",
       "3         Overweight  Female     195     104\n",
       "4         Overweight    Male     149      61\n",
       "..               ...     ...     ...     ...\n",
       "495  Extreme Obesity  Female     150     153\n",
       "496          Obesity  Female     184     121\n",
       "497  Extreme Obesity  Female     141     136\n",
       "498  Extreme Obesity    Male     150      95\n",
       "499  Extreme Obesity    Male     173     131\n",
       "\n",
       "[500 rows x 4 columns]"
      ]
     },
     "execution_count": 11,
     "metadata": {},
     "output_type": "execute_result"
    }
   ],
   "source": [
    "# 인덱스에 있는 label을 컬럼쪽으로 연결하기(이동하기) : df.reset_index()\n",
    "# 컬럼명확인 df.columns\n",
    "data2 = data.reset_index()\n",
    "data2"
   ]
  },
  {
   "cell_type": "code",
   "execution_count": 12,
   "id": "dd03c2e0",
   "metadata": {},
   "outputs": [
    {
     "data": {
      "text/plain": [
       "array([[0, 1, 2, 3, 4],\n",
       "       [5, 6, 7, 8, 9]])"
      ]
     },
     "metadata": {},
     "output_type": "display_data"
    },
    {
     "data": {
      "text/plain": [
       "array([5, 6, 7, 8, 9])"
      ]
     },
     "metadata": {},
     "output_type": "display_data"
    },
    {
     "data": {
      "text/plain": [
       "8"
      ]
     },
     "metadata": {},
     "output_type": "display_data"
    },
    {
     "data": {
      "text/plain": [
       "4"
      ]
     },
     "metadata": {},
     "output_type": "display_data"
    }
   ],
   "source": [
    "# 인덱싱 설명 \n",
    "# numpy가 2차원일때:\n",
    "import numpy as np\n",
    "arr =np.arange(0,10).reshape(2,5)\n",
    "display(arr) #출력하기 위해서 display: 기존의 자료 구조 형태의 모양을 유지하면서 출력 \n",
    "# 1번째 행에 접근\n",
    "display(arr[1])\n",
    "# 숫자 8이라는 데이터 접근\n",
    "display(arr[1][3])\n",
    "# 숫자 4이라는 데이터 접근\n",
    "display(arr[0][4])\n",
    "# arr[행][열] = arr[행,열]"
   ]
  },
  {
   "cell_type": "code",
   "execution_count": 13,
   "id": "30eeb0ec",
   "metadata": {},
   "outputs": [],
   "source": [
    "# pandas에서\n",
    "# loc, iloc 인덱서를 사용해야 가능\n",
    "#  df.loc[행,열]\n",
    "#  df.iloc[행,열]\n",
    "#  df.loc[행], df.loc[값:값] => df.loc[행:행]\n",
    "#  df.iloc[행], df.iloc[값:값] => df.iloc[행:행]\n",
    "\n",
    "# 열 데이터 접근\n",
    "# df.loc[:,열], df.loc[:,열:열]\n",
    "# df.iloc[:,열 인덱스], df.iloc[:,열 인덱스:열 인덱스]\n",
    "\n",
    "# 행, 열 접근\n",
    "# df.loc[시작행:끝행, 시작열: 끝열]\n",
    "# df.iloc[시작행 인덱스:끝행 인덱스, 시작열 인덱스: 끝열 인덱스]"
   ]
  },
  {
   "cell_type": "code",
   "execution_count": 20,
   "id": "b63377bc",
   "metadata": {},
   "outputs": [
    {
     "name": "stdout",
     "output_type": "stream",
     "text": [
      "0              Obesity\n",
      "1               Normal\n",
      "2              Obesity\n",
      "3           Overweight\n",
      "4           Overweight\n",
      "            ...       \n",
      "495    Extreme Obesity\n",
      "496            Obesity\n",
      "497    Extreme Obesity\n",
      "498    Extreme Obesity\n",
      "499    Extreme Obesity\n",
      "Name: Label, Length: 500, dtype: object\n",
      "문제크기:  (500, 2)\n",
      "답 크기:  (500,)\n"
     ]
    }
   ],
   "source": [
    "# 문제와 답으로 컬럼 분리!\n",
    "x = data2.loc[:,'Height':'Weight']\n",
    "y = data2.loc[:,'Label']\n",
    "print(y)\n",
    "# 크기확인\n",
    "print('문제크기: ',x.shape)\n",
    "print('답 크기: ',y.shape)"
   ]
  },
  {
   "cell_type": "code",
   "execution_count": 27,
   "id": "652fc7e2",
   "metadata": {},
   "outputs": [
    {
     "name": "stdout",
     "output_type": "stream",
     "text": [
      "(350,)\n",
      "(150,)\n"
     ]
    }
   ],
   "source": [
    "# 행이 총 몇개 ? 500개\n",
    "# train, test 데이터로 분리하는 비율\n",
    "# 7:3정도의 비율 (0.7는 테스트 데이터, 0.3은..? )\n",
    "# X_train, Y_train, X_test, Y_test\n",
    "# 500개 중에서 70%에 속하는 데이터의 개수는 ? ~ 350개  \n",
    "x_train =  x.iloc[:350,:]            # x에서 ~350개까지   강사님 답 :   x.iloc[:350]  \n",
    "x_test=     x.iloc[350:,:]           # x에서 350개 부터 끝까지\n",
    " \n",
    "y_train= y.iloc[:350]   # y에서 ~ 350개까지\n",
    "y_test = y.iloc[350:]   # y에서 350번째 부터~ \n",
    "print(y_train.shape)\n",
    "print(y_test.shape)"
   ]
  },
  {
   "cell_type": "markdown",
   "id": "ae31fd83",
   "metadata": {},
   "source": [
    "### 모델링(08/28)\n",
    "- 모델 객체 생성\n",
    "- 모델 학습\n",
    "- 모델 평가 및 예측"
   ]
  },
  {
   "cell_type": "code",
   "execution_count": 28,
   "id": "4656de4d",
   "metadata": {},
   "outputs": [],
   "source": [
    "# 데이터 클래스(카테고리)의 개수는 ? 6\n",
    "from sklearn.neighbors import KNeighborsClassifier\n",
    "# 6개 중에서 1개를 판단하는 것 -> 다중분류\n",
    "from sklearn.metrics import accuracy_score # 정확도 지표"
   ]
  },
  {
   "cell_type": "code",
   "execution_count": 29,
   "id": "cc9a72d3",
   "metadata": {},
   "outputs": [],
   "source": [
    "# knn_model 이라는 변수로 모델 객체 생성\n",
    "# 사람이 설정하는 매개변수 -> 하이퍼 파라미터\n",
    "# 이웃의 수 n_neighbors : 5개\n",
    "knn_model =  KNeighborsClassifier(n_neighbors=5)"
   ]
  },
  {
   "cell_type": "code",
   "execution_count": 30,
   "id": "0bf1e50f",
   "metadata": {},
   "outputs": [
    {
     "data": {
      "text/html": [
       "<style>#sk-container-id-1 {color: black;background-color: white;}#sk-container-id-1 pre{padding: 0;}#sk-container-id-1 div.sk-toggleable {background-color: white;}#sk-container-id-1 label.sk-toggleable__label {cursor: pointer;display: block;width: 100%;margin-bottom: 0;padding: 0.3em;box-sizing: border-box;text-align: center;}#sk-container-id-1 label.sk-toggleable__label-arrow:before {content: \"▸\";float: left;margin-right: 0.25em;color: #696969;}#sk-container-id-1 label.sk-toggleable__label-arrow:hover:before {color: black;}#sk-container-id-1 div.sk-estimator:hover label.sk-toggleable__label-arrow:before {color: black;}#sk-container-id-1 div.sk-toggleable__content {max-height: 0;max-width: 0;overflow: hidden;text-align: left;background-color: #f0f8ff;}#sk-container-id-1 div.sk-toggleable__content pre {margin: 0.2em;color: black;border-radius: 0.25em;background-color: #f0f8ff;}#sk-container-id-1 input.sk-toggleable__control:checked~div.sk-toggleable__content {max-height: 200px;max-width: 100%;overflow: auto;}#sk-container-id-1 input.sk-toggleable__control:checked~label.sk-toggleable__label-arrow:before {content: \"▾\";}#sk-container-id-1 div.sk-estimator input.sk-toggleable__control:checked~label.sk-toggleable__label {background-color: #d4ebff;}#sk-container-id-1 div.sk-label input.sk-toggleable__control:checked~label.sk-toggleable__label {background-color: #d4ebff;}#sk-container-id-1 input.sk-hidden--visually {border: 0;clip: rect(1px 1px 1px 1px);clip: rect(1px, 1px, 1px, 1px);height: 1px;margin: -1px;overflow: hidden;padding: 0;position: absolute;width: 1px;}#sk-container-id-1 div.sk-estimator {font-family: monospace;background-color: #f0f8ff;border: 1px dotted black;border-radius: 0.25em;box-sizing: border-box;margin-bottom: 0.5em;}#sk-container-id-1 div.sk-estimator:hover {background-color: #d4ebff;}#sk-container-id-1 div.sk-parallel-item::after {content: \"\";width: 100%;border-bottom: 1px solid gray;flex-grow: 1;}#sk-container-id-1 div.sk-label:hover label.sk-toggleable__label {background-color: #d4ebff;}#sk-container-id-1 div.sk-serial::before {content: \"\";position: absolute;border-left: 1px solid gray;box-sizing: border-box;top: 0;bottom: 0;left: 50%;z-index: 0;}#sk-container-id-1 div.sk-serial {display: flex;flex-direction: column;align-items: center;background-color: white;padding-right: 0.2em;padding-left: 0.2em;position: relative;}#sk-container-id-1 div.sk-item {position: relative;z-index: 1;}#sk-container-id-1 div.sk-parallel {display: flex;align-items: stretch;justify-content: center;background-color: white;position: relative;}#sk-container-id-1 div.sk-item::before, #sk-container-id-1 div.sk-parallel-item::before {content: \"\";position: absolute;border-left: 1px solid gray;box-sizing: border-box;top: 0;bottom: 0;left: 50%;z-index: -1;}#sk-container-id-1 div.sk-parallel-item {display: flex;flex-direction: column;z-index: 1;position: relative;background-color: white;}#sk-container-id-1 div.sk-parallel-item:first-child::after {align-self: flex-end;width: 50%;}#sk-container-id-1 div.sk-parallel-item:last-child::after {align-self: flex-start;width: 50%;}#sk-container-id-1 div.sk-parallel-item:only-child::after {width: 0;}#sk-container-id-1 div.sk-dashed-wrapped {border: 1px dashed gray;margin: 0 0.4em 0.5em 0.4em;box-sizing: border-box;padding-bottom: 0.4em;background-color: white;}#sk-container-id-1 div.sk-label label {font-family: monospace;font-weight: bold;display: inline-block;line-height: 1.2em;}#sk-container-id-1 div.sk-label-container {text-align: center;}#sk-container-id-1 div.sk-container {/* jupyter's `normalize.less` sets `[hidden] { display: none; }` but bootstrap.min.css set `[hidden] { display: none !important; }` so we also need the `!important` here to be able to override the default hidden behavior on the sphinx rendered scikit-learn.org. See: https://github.com/scikit-learn/scikit-learn/issues/21755 */display: inline-block !important;position: relative;}#sk-container-id-1 div.sk-text-repr-fallback {display: none;}</style><div id=\"sk-container-id-1\" class=\"sk-top-container\"><div class=\"sk-text-repr-fallback\"><pre>KNeighborsClassifier()</pre><b>In a Jupyter environment, please rerun this cell to show the HTML representation or trust the notebook. <br />On GitHub, the HTML representation is unable to render, please try loading this page with nbviewer.org.</b></div><div class=\"sk-container\" hidden><div class=\"sk-item\"><div class=\"sk-estimator sk-toggleable\"><input class=\"sk-toggleable__control sk-hidden--visually\" id=\"sk-estimator-id-1\" type=\"checkbox\" checked><label for=\"sk-estimator-id-1\" class=\"sk-toggleable__label sk-toggleable__label-arrow\">KNeighborsClassifier</label><div class=\"sk-toggleable__content\"><pre>KNeighborsClassifier()</pre></div></div></div></div></div>"
      ],
      "text/plain": [
       "KNeighborsClassifier()"
      ]
     },
     "execution_count": 30,
     "metadata": {},
     "output_type": "execute_result"
    }
   ],
   "source": [
    "# 모델 학습\n",
    "# fit(훈련문제, 훈련 답)\n",
    "knn_model.fit(x_train, y_train)"
   ]
  },
  {
   "cell_type": "code",
   "execution_count": 32,
   "id": "58b2a862",
   "metadata": {},
   "outputs": [
    {
     "data": {
      "text/plain": [
       "150"
      ]
     },
     "execution_count": 32,
     "metadata": {},
     "output_type": "execute_result"
    }
   ],
   "source": [
    "# 예측 시켜보기\n",
    "# predict(테스트 문제)\n",
    "pre = knn_model.predict(x_test)\n",
    "pre.size"
   ]
  },
  {
   "cell_type": "code",
   "execution_count": 33,
   "id": "95adfed0",
   "metadata": {},
   "outputs": [
    {
     "data": {
      "text/plain": [
       "0.9066666666666666"
      ]
     },
     "execution_count": 33,
     "metadata": {},
     "output_type": "execute_result"
    }
   ],
   "source": [
    "# 평가\n",
    "# 정확도 지표\n",
    "accuracy_score(y_test,pre)"
   ]
  },
  {
   "cell_type": "code",
   "execution_count": null,
   "id": "d3619ba1",
   "metadata": {},
   "outputs": [],
   "source": []
  },
  {
   "cell_type": "code",
   "execution_count": null,
   "id": "6fcea2c2",
   "metadata": {},
   "outputs": [],
   "source": []
  },
  {
   "cell_type": "code",
   "execution_count": null,
   "id": "456cbd9a",
   "metadata": {},
   "outputs": [],
   "source": []
  },
  {
   "cell_type": "code",
   "execution_count": null,
   "id": "3446a1bc",
   "metadata": {},
   "outputs": [],
   "source": []
  },
  {
   "cell_type": "code",
   "execution_count": null,
   "id": "1ca744ab",
   "metadata": {},
   "outputs": [],
   "source": []
  },
  {
   "cell_type": "code",
   "execution_count": null,
   "id": "8fbab3c6",
   "metadata": {},
   "outputs": [],
   "source": []
  },
  {
   "cell_type": "code",
   "execution_count": null,
   "id": "d4284f81",
   "metadata": {},
   "outputs": [],
   "source": []
  },
  {
   "cell_type": "code",
   "execution_count": null,
   "id": "e81bac48",
   "metadata": {},
   "outputs": [],
   "source": []
  },
  {
   "cell_type": "code",
   "execution_count": null,
   "id": "06b18034",
   "metadata": {},
   "outputs": [],
   "source": []
  }
 ],
 "metadata": {
  "kernelspec": {
   "display_name": "Python 3 (ipykernel)",
   "language": "python",
   "name": "python3"
  },
  "language_info": {
   "codemirror_mode": {
    "name": "ipython",
    "version": 3
   },
   "file_extension": ".py",
   "mimetype": "text/x-python",
   "name": "python",
   "nbconvert_exporter": "python",
   "pygments_lexer": "ipython3",
   "version": "3.10.9"
  }
 },
 "nbformat": 4,
 "nbformat_minor": 5
}
