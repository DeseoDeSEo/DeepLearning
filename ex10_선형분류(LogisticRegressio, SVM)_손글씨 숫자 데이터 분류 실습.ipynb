{
 "cells": [
  {
   "cell_type": "markdown",
   "id": "73003f8a",
   "metadata": {},
   "source": [
    "### * 지도학습"
   ]
  },
  {
   "cell_type": "markdown",
   "id": "71e59088",
   "metadata": {},
   "source": [
    "#### - Logistic Regression \n",
    "            - 주요 매개변수(Hyperparameter)\n",
    "            - LogisticRegression(C, max_iter)\n",
    "            - 규제 강도의 역수: C  (=> 값이 작을수록 규제가 강해짐)\n",
    "            - 최대 반복횟수 : max_iter (=> 값을 크게 잡아 주어야 학습이 제대로 됨)\n",
    "            - 기본적으로 L2규제 사용, 중요한 특성이 몇 개 없다면 L1규제를 사용해도 무방.  ( => 주요 특성을 알고 싶을 떄는 L1규제를 사용하기도 함)\n",
    "#### - 선형 모델 방식을 분류에서 사용하는 이유?\n",
    "            - 선형 모델은 간단한 함수식을 사용하므로 학습 및 예측 속도가 빠름\n",
    "            - 매우 큰 데이터 세트와 희소(sparse)한 데이터 세트에서도 잘 동작\n",
    "            - 특성이 많을 수록 더 잘 동작함.\n",
    "            - 특성이 작은 데이터에서는 다른 모델이 더 좋은 경우가 많음."
   ]
  },
  {
   "cell_type": "markdown",
   "id": "b9e805a0",
   "metadata": {},
   "source": [
    "#### < 문제 정의 >\n",
    "    - 손글씨 숫자(0~9)를 분류하는 모델을 만들어보자.\n",
    "    - 이미지 데이터의 형태를 이해해보자.\n",
    "#### < 데이터 수집>"
   ]
  },
  {
   "cell_type": "code",
   "execution_count": 24,
   "id": "da7da6bc",
   "metadata": {},
   "outputs": [],
   "source": [
    "import numpy as np\n",
    "import pandas as pd\n",
    "import matplotlib.pyplot as plt"
   ]
  },
  {
   "cell_type": "code",
   "execution_count": 25,
   "id": "3836414e",
   "metadata": {},
   "outputs": [],
   "source": [
    "#데이터 가져오기\n",
    "data = pd.read_csv(\"./data/digit_train.csv\")"
   ]
  },
  {
   "cell_type": "code",
   "execution_count": 26,
   "id": "77cfc150",
   "metadata": {},
   "outputs": [
    {
     "data": {
      "text/plain": [
       "(42000, 785)"
      ]
     },
     "execution_count": 26,
     "metadata": {},
     "output_type": "execute_result"
    }
   ],
   "source": [
    "data.shape"
   ]
  },
  {
   "cell_type": "code",
   "execution_count": 27,
   "id": "6d90db73",
   "metadata": {
    "scrolled": true
   },
   "outputs": [
    {
     "data": {
      "text/html": [
       "<div>\n",
       "<style scoped>\n",
       "    .dataframe tbody tr th:only-of-type {\n",
       "        vertical-align: middle;\n",
       "    }\n",
       "\n",
       "    .dataframe tbody tr th {\n",
       "        vertical-align: top;\n",
       "    }\n",
       "\n",
       "    .dataframe thead th {\n",
       "        text-align: right;\n",
       "    }\n",
       "</style>\n",
       "<table border=\"1\" class=\"dataframe\">\n",
       "  <thead>\n",
       "    <tr style=\"text-align: right;\">\n",
       "      <th></th>\n",
       "      <th>label</th>\n",
       "      <th>pixel0</th>\n",
       "      <th>pixel1</th>\n",
       "      <th>pixel2</th>\n",
       "      <th>pixel3</th>\n",
       "      <th>pixel4</th>\n",
       "      <th>pixel5</th>\n",
       "      <th>pixel6</th>\n",
       "      <th>pixel7</th>\n",
       "      <th>pixel8</th>\n",
       "      <th>...</th>\n",
       "      <th>pixel774</th>\n",
       "      <th>pixel775</th>\n",
       "      <th>pixel776</th>\n",
       "      <th>pixel777</th>\n",
       "      <th>pixel778</th>\n",
       "      <th>pixel779</th>\n",
       "      <th>pixel780</th>\n",
       "      <th>pixel781</th>\n",
       "      <th>pixel782</th>\n",
       "      <th>pixel783</th>\n",
       "    </tr>\n",
       "  </thead>\n",
       "  <tbody>\n",
       "    <tr>\n",
       "      <th>0</th>\n",
       "      <td>1</td>\n",
       "      <td>0</td>\n",
       "      <td>0</td>\n",
       "      <td>0</td>\n",
       "      <td>0</td>\n",
       "      <td>0</td>\n",
       "      <td>0</td>\n",
       "      <td>0</td>\n",
       "      <td>0</td>\n",
       "      <td>0</td>\n",
       "      <td>...</td>\n",
       "      <td>0</td>\n",
       "      <td>0</td>\n",
       "      <td>0</td>\n",
       "      <td>0</td>\n",
       "      <td>0</td>\n",
       "      <td>0</td>\n",
       "      <td>0</td>\n",
       "      <td>0</td>\n",
       "      <td>0</td>\n",
       "      <td>0</td>\n",
       "    </tr>\n",
       "    <tr>\n",
       "      <th>1</th>\n",
       "      <td>0</td>\n",
       "      <td>0</td>\n",
       "      <td>0</td>\n",
       "      <td>0</td>\n",
       "      <td>0</td>\n",
       "      <td>0</td>\n",
       "      <td>0</td>\n",
       "      <td>0</td>\n",
       "      <td>0</td>\n",
       "      <td>0</td>\n",
       "      <td>...</td>\n",
       "      <td>0</td>\n",
       "      <td>0</td>\n",
       "      <td>0</td>\n",
       "      <td>0</td>\n",
       "      <td>0</td>\n",
       "      <td>0</td>\n",
       "      <td>0</td>\n",
       "      <td>0</td>\n",
       "      <td>0</td>\n",
       "      <td>0</td>\n",
       "    </tr>\n",
       "    <tr>\n",
       "      <th>2</th>\n",
       "      <td>1</td>\n",
       "      <td>0</td>\n",
       "      <td>0</td>\n",
       "      <td>0</td>\n",
       "      <td>0</td>\n",
       "      <td>0</td>\n",
       "      <td>0</td>\n",
       "      <td>0</td>\n",
       "      <td>0</td>\n",
       "      <td>0</td>\n",
       "      <td>...</td>\n",
       "      <td>0</td>\n",
       "      <td>0</td>\n",
       "      <td>0</td>\n",
       "      <td>0</td>\n",
       "      <td>0</td>\n",
       "      <td>0</td>\n",
       "      <td>0</td>\n",
       "      <td>0</td>\n",
       "      <td>0</td>\n",
       "      <td>0</td>\n",
       "    </tr>\n",
       "    <tr>\n",
       "      <th>3</th>\n",
       "      <td>4</td>\n",
       "      <td>0</td>\n",
       "      <td>0</td>\n",
       "      <td>0</td>\n",
       "      <td>0</td>\n",
       "      <td>0</td>\n",
       "      <td>0</td>\n",
       "      <td>0</td>\n",
       "      <td>0</td>\n",
       "      <td>0</td>\n",
       "      <td>...</td>\n",
       "      <td>0</td>\n",
       "      <td>0</td>\n",
       "      <td>0</td>\n",
       "      <td>0</td>\n",
       "      <td>0</td>\n",
       "      <td>0</td>\n",
       "      <td>0</td>\n",
       "      <td>0</td>\n",
       "      <td>0</td>\n",
       "      <td>0</td>\n",
       "    </tr>\n",
       "    <tr>\n",
       "      <th>4</th>\n",
       "      <td>0</td>\n",
       "      <td>0</td>\n",
       "      <td>0</td>\n",
       "      <td>0</td>\n",
       "      <td>0</td>\n",
       "      <td>0</td>\n",
       "      <td>0</td>\n",
       "      <td>0</td>\n",
       "      <td>0</td>\n",
       "      <td>0</td>\n",
       "      <td>...</td>\n",
       "      <td>0</td>\n",
       "      <td>0</td>\n",
       "      <td>0</td>\n",
       "      <td>0</td>\n",
       "      <td>0</td>\n",
       "      <td>0</td>\n",
       "      <td>0</td>\n",
       "      <td>0</td>\n",
       "      <td>0</td>\n",
       "      <td>0</td>\n",
       "    </tr>\n",
       "  </tbody>\n",
       "</table>\n",
       "<p>5 rows × 785 columns</p>\n",
       "</div>"
      ],
      "text/plain": [
       "   label  pixel0  pixel1  pixel2  pixel3  pixel4  pixel5  pixel6  pixel7  \\\n",
       "0      1       0       0       0       0       0       0       0       0   \n",
       "1      0       0       0       0       0       0       0       0       0   \n",
       "2      1       0       0       0       0       0       0       0       0   \n",
       "3      4       0       0       0       0       0       0       0       0   \n",
       "4      0       0       0       0       0       0       0       0       0   \n",
       "\n",
       "   pixel8  ...  pixel774  pixel775  pixel776  pixel777  pixel778  pixel779  \\\n",
       "0       0  ...         0         0         0         0         0         0   \n",
       "1       0  ...         0         0         0         0         0         0   \n",
       "2       0  ...         0         0         0         0         0         0   \n",
       "3       0  ...         0         0         0         0         0         0   \n",
       "4       0  ...         0         0         0         0         0         0   \n",
       "\n",
       "   pixel780  pixel781  pixel782  pixel783  \n",
       "0         0         0         0         0  \n",
       "1         0         0         0         0  \n",
       "2         0         0         0         0  \n",
       "3         0         0         0         0  \n",
       "4         0         0         0         0  \n",
       "\n",
       "[5 rows x 785 columns]"
      ]
     },
     "execution_count": 27,
     "metadata": {},
     "output_type": "execute_result"
    }
   ],
   "source": [
    "data.head()\n",
    "# label: 정답\n",
    "# pixel10 ~ pixel783 : 문제(28*28 이미지 데이터)"
   ]
  },
  {
   "cell_type": "code",
   "execution_count": 28,
   "id": "a5642a7a",
   "metadata": {},
   "outputs": [
    {
     "data": {
      "text/plain": [
       "(784,)"
      ]
     },
     "execution_count": 28,
     "metadata": {},
     "output_type": "execute_result"
    }
   ],
   "source": [
    "# 데이터 시각화 --> 이미지 데이터로 첫번째 행의 label컬럼을 제외한 모든 컬럼 가져오기.\n",
    "image0 = data.iloc[0, 1:]\n",
    "image0.shape"
   ]
  },
  {
   "cell_type": "code",
   "execution_count": 29,
   "id": "eaf09b4f",
   "metadata": {},
   "outputs": [
    {
     "data": {
      "text/plain": [
       "array([  0,   0,   0,   0,   0,   0,   0,   0,   0,   0,   0,   0,   0,\n",
       "         0,   0,   0,   0,   0,   0,   0,   0,   0,   0,   0,   0,   0,\n",
       "         0,   0,   0,   0,   0,   0,   0,   0,   0,   0,   0,   0,   0,\n",
       "         0,   0,   0,   0,   0,   0,   0,   0,   0,   0,   0,   0,   0,\n",
       "         0,   0,   0,   0,   0,   0,   0,   0,   0,   0,   0,   0,   0,\n",
       "         0,   0,   0,   0,   0,   0,   0,   0,   0,   0,   0,   0,   0,\n",
       "         0,   0,   0,   0,   0,   0,   0,   0,   0,   0,   0,   0,   0,\n",
       "         0,   0,   0,   0,   0,   0,   0,   0,   0,   0,   0,   0,   0,\n",
       "         0,   0,   0,   0,   0,   0,   0,   0,   0,   0,   0,   0,   0,\n",
       "         0,   0,   0,   0,   0,   0,   0,   0,   0,   0,   0,   0,   0,\n",
       "         0,   0, 188, 255,  94,   0,   0,   0,   0,   0,   0,   0,   0,\n",
       "         0,   0,   0,   0,   0,   0,   0,   0,   0,   0,   0,   0,   0,\n",
       "         0,   0,   0, 191, 250, 253,  93,   0,   0,   0,   0,   0,   0,\n",
       "         0,   0,   0,   0,   0,   0,   0,   0,   0,   0,   0,   0,   0,\n",
       "         0,   0,   0,   0, 123, 248, 253, 167,  10,   0,   0,   0,   0,\n",
       "         0,   0,   0,   0,   0,   0,   0,   0,   0,   0,   0,   0,   0,\n",
       "         0,   0,   0,   0,   0,  80, 247, 253, 208,  13,   0,   0,   0,\n",
       "         0,   0,   0,   0,   0,   0,   0,   0,   0,   0,   0,   0,   0,\n",
       "         0,   0,   0,   0,   0,   0,  29, 207, 253, 235,  77,   0,   0,\n",
       "         0,   0,   0,   0,   0,   0,   0,   0,   0,   0,   0,   0,   0,\n",
       "         0,   0,   0,   0,   0,   0,   0,  54, 209, 253, 253,  88,   0,\n",
       "         0,   0,   0,   0,   0,   0,   0,   0,   0,   0,   0,   0,   0,\n",
       "         0,   0,   0,   0,   0,   0,   0,   0,  93, 254, 253, 238, 170,\n",
       "        17,   0,   0,   0,   0,   0,   0,   0,   0,   0,   0,   0,   0,\n",
       "         0,   0,   0,   0,   0,   0,   0,   0,   0,  23, 210, 254, 253,\n",
       "       159,   0,   0,   0,   0,   0,   0,   0,   0,   0,   0,   0,   0,\n",
       "         0,   0,   0,   0,   0,   0,   0,   0,   0,   0,  16, 209, 253,\n",
       "       254, 240,  81,   0,   0,   0,   0,   0,   0,   0,   0,   0,   0,\n",
       "         0,   0,   0,   0,   0,   0,   0,   0,   0,   0,   0,   0,  27,\n",
       "       253, 253, 254,  13,   0,   0,   0,   0,   0,   0,   0,   0,   0,\n",
       "         0,   0,   0,   0,   0,   0,   0,   0,   0,   0,   0,   0,   0,\n",
       "        20, 206, 254, 254, 198,   7,   0,   0,   0,   0,   0,   0,   0,\n",
       "         0,   0,   0,   0,   0,   0,   0,   0,   0,   0,   0,   0,   0,\n",
       "         0,   0, 168, 253, 253, 196,   7,   0,   0,   0,   0,   0,   0,\n",
       "         0,   0,   0,   0,   0,   0,   0,   0,   0,   0,   0,   0,   0,\n",
       "         0,   0,   0,  20, 203, 253, 248,  76,   0,   0,   0,   0,   0,\n",
       "         0,   0,   0,   0,   0,   0,   0,   0,   0,   0,   0,   0,   0,\n",
       "         0,   0,   0,   0,  22, 188, 253, 245,  93,   0,   0,   0,   0,\n",
       "         0,   0,   0,   0,   0,   0,   0,   0,   0,   0,   0,   0,   0,\n",
       "         0,   0,   0,   0,   0,   0, 103, 253, 253, 191,   0,   0,   0,\n",
       "         0,   0,   0,   0,   0,   0,   0,   0,   0,   0,   0,   0,   0,\n",
       "         0,   0,   0,   0,   0,   0,   0,  89, 240, 253, 195,  25,   0,\n",
       "         0,   0,   0,   0,   0,   0,   0,   0,   0,   0,   0,   0,   0,\n",
       "         0,   0,   0,   0,   0,   0,   0,   0,  15, 220, 253, 253,  80,\n",
       "         0,   0,   0,   0,   0,   0,   0,   0,   0,   0,   0,   0,   0,\n",
       "         0,   0,   0,   0,   0,   0,   0,   0,   0,   0,  94, 253, 253,\n",
       "       253,  94,   0,   0,   0,   0,   0,   0,   0,   0,   0,   0,   0,\n",
       "         0,   0,   0,   0,   0,   0,   0,   0,   0,   0,   0,   0,  89,\n",
       "       251, 253, 250, 131,   0,   0,   0,   0,   0,   0,   0,   0,   0,\n",
       "         0,   0,   0,   0,   0,   0,   0,   0,   0,   0,   0,   0,   0,\n",
       "         0,   0, 214, 218,  95,   0,   0,   0,   0,   0,   0,   0,   0,\n",
       "         0,   0,   0,   0,   0,   0,   0,   0,   0,   0,   0,   0,   0,\n",
       "         0,   0,   0,   0,   0,   0,   0,   0,   0,   0,   0,   0,   0,\n",
       "         0,   0,   0,   0,   0,   0,   0,   0,   0,   0,   0,   0,   0,\n",
       "         0,   0,   0,   0,   0,   0,   0,   0,   0,   0,   0,   0,   0,\n",
       "         0,   0,   0,   0,   0,   0,   0,   0,   0,   0,   0,   0,   0,\n",
       "         0,   0,   0,   0,   0,   0,   0,   0,   0,   0,   0,   0,   0,\n",
       "         0,   0,   0,   0,   0,   0,   0,   0,   0,   0,   0,   0,   0,\n",
       "         0,   0,   0,   0,   0,   0,   0,   0,   0,   0,   0,   0,   0,\n",
       "         0,   0,   0,   0,   0,   0,   0,   0,   0,   0,   0,   0,   0,\n",
       "         0,   0,   0,   0], dtype=int64)"
      ]
     },
     "execution_count": 29,
     "metadata": {},
     "output_type": "execute_result"
    }
   ],
   "source": [
    "image0.values"
   ]
  },
  {
   "cell_type": "code",
   "execution_count": 30,
   "id": "83dfea95",
   "metadata": {},
   "outputs": [],
   "source": [
    "# 리스트 자료형을 28*28의 2차원으로 변환\n",
    "image0_reshape= image0.values.reshape(28,28)"
   ]
  },
  {
   "cell_type": "code",
   "execution_count": 31,
   "id": "c495f455",
   "metadata": {},
   "outputs": [
    {
     "data": {
      "text/plain": [
       "<matplotlib.image.AxesImage at 0x24114999390>"
      ]
     },
     "execution_count": 31,
     "metadata": {},
     "output_type": "execute_result"
    },
    {
     "data": {
      "image/png": "[encoded data removed]",
      "text/plain": [
       "<Figure size 640x480 with 1 Axes>"
      ]
     },
     "metadata": {},
     "output_type": "display_data"
    }
   ],
   "source": [
    "# image0 이미지 하나를 그려보기.\n",
    "plt.imshow(image0_reshape, cmap='gray' )"
   ]
  },
  {
   "cell_type": "code",
   "execution_count": 32,
   "id": "48f2b538",
   "metadata": {},
   "outputs": [
    {
     "data": {
      "text/plain": [
       "<matplotlib.image.AxesImage at 0x2411482ef50>"
      ]
     },
     "execution_count": 32,
     "metadata": {},
     "output_type": "execute_result"
    },
    {
     "data": {
      "image/png": "[encoded data removed]",
      "text/plain": [
       "<Figure size 640x480 with 1 Axes>"
      ]
     },
     "metadata": {},
     "output_type": "display_data"
    }
   ],
   "source": [
    "# 7777 행의 데이터 꺼내와서 1. 값 확인 2. 2차원 변환 3. 이미지 그려보기.  4. 어떤 숫자인지 확인.\n",
    "img1= data.iloc[7777,1:]\n",
    "img1_reshape= img1.values.reshape(28,28)\n",
    "plt.imshow(img1_reshape)"
   ]
  },
  {
   "cell_type": "markdown",
   "id": "c3349402",
   "metadata": {},
   "source": [
    "## Linear SVM(Support vector machines)\n",
    "- 두 집단을 결정 경계 : 초평면(hyperplane)\n",
    "- 두 집단의 초평면에서 가장 가까운 데이터; 서포트 벡터(SV)\n",
    "- sv와 초평면과의 거리 : 마진.\n",
    "- 마진이 가장 큰 값: 잘되었다.\n",
    "- 규제강도 :C (값이 작을수록 규제가 강해짐)\n",
    "- 기본적으로 L2(릿지?)규제를 사용, 랏소?(-> L1) 중요한 특성이 몇개 없다면 L1규제를 사용해도 무방,"
   ]
  },
  {
   "cell_type": "markdown",
   "id": "f344bca8",
   "metadata": {},
   "source": [
    "### 학습을 위한 데이터 분리\n",
    "- 학습 7: 테스트 3\n",
    "- random_state : 7"
   ]
  },
  {
   "cell_type": "code",
   "execution_count": 33,
   "id": "128a2ab4",
   "metadata": {},
   "outputs": [],
   "source": [
    "X= data.iloc[:,1:] # 문제\n",
    "y=data.iloc[:,0] # 답"
   ]
  },
  {
   "cell_type": "code",
   "execution_count": 34,
   "id": "d7c1e508",
   "metadata": {},
   "outputs": [
    {
     "data": {
      "text/plain": [
       "((42000, 784), (42000,))"
      ]
     },
     "execution_count": 34,
     "metadata": {},
     "output_type": "execute_result"
    }
   ],
   "source": [
    "X.shape, y.shape # 문제는 항상 2차원 데이터 프레임 형태(=> [[ ]] ), 정답은 1차원 시리즈 형태임. "
   ]
  },
  {
   "cell_type": "code",
   "execution_count": 35,
   "id": "a49e3ca9",
   "metadata": {},
   "outputs": [],
   "source": [
    "from sklearn.model_selection import train_test_split\n",
    "X_train, X_test, y_train, y_test = train_test_split(X,y, test_size =0.3, random_state =7)"
   ]
  },
  {
   "cell_type": "code",
   "execution_count": 36,
   "id": "e2fcec55",
   "metadata": {},
   "outputs": [
    {
     "name": "stdout",
     "output_type": "stream",
     "text": [
      "(29400, 784)\n",
      "(12600, 784)\n",
      "(29400,)\n",
      "(12600,)\n"
     ]
    }
   ],
   "source": [
    "print(X_train.shape)\n",
    "print(X_test.shape)\n",
    "print(y_train.shape)\n",
    "print(y_test.shape)"
   ]
  },
  {
   "cell_type": "markdown",
   "id": "def0f0d7",
   "metadata": {},
   "source": [
    "### 모델 선택\n",
    "- KNN모델(거리로 계산)\n",
    "- Logistic Regression\n",
    "- SVM"
   ]
  },
  {
   "cell_type": "code",
   "execution_count": 37,
   "id": "d9337850",
   "metadata": {},
   "outputs": [],
   "source": [
    "from sklearn.neighbors import KNeighborsClassifier\n",
    "from sklearn.linear_model import LogisticRegression\n",
    "from sklearn.svm import LinearSVC\n",
    "\n",
    "# 모델 생성\n",
    "knn_model = KNeighborsClassifier()\n",
    "logi_model =LogisticRegression()\n",
    "svm_model= LinearSVC()"
   ]
  },
  {
   "cell_type": "markdown",
   "id": "70909f33",
   "metadata": {},
   "source": [
    "### 학습 및 평가"
   ]
  },
  {
   "cell_type": "code",
   "execution_count": 38,
   "id": "a030d579",
   "metadata": {},
   "outputs": [
    {
     "name": "stderr",
     "output_type": "stream",
     "text": [
      "C:\\Users\\gjaischool\\anaconda3\\lib\\site-packages\\sklearn\\linear_model\\_logistic.py:458: ConvergenceWarning: lbfgs failed to converge (status=1):\n",
      "STOP: TOTAL NO. of ITERATIONS REACHED LIMIT.\n",
      "\n",
      "Increase the number of iterations (max_iter) or scale the data as shown in:\n",
      "    https://scikit-learn.org/stable/modules/preprocessing.html\n",
      "Please also refer to the documentation for alternative solver options:\n",
      "    https://scikit-learn.org/stable/modules/linear_model.html#logistic-regression\n",
      "  n_iter_i = _check_optimize_result(\n",
      "C:\\Users\\gjaischool\\anaconda3\\lib\\site-packages\\sklearn\\svm\\_base.py:1244: ConvergenceWarning: Liblinear failed to converge, increase the number of iterations.\n",
      "  warnings.warn(\n"
     ]
    },
    {
     "name": "stdout",
     "output_type": "stream",
     "text": [
      "KNN :  0.9645238095238096\n",
      "Logistic :  0.9138095238095238\n",
      "SVM :  0.8452380952380952\n"
     ]
    }
   ],
   "source": [
    "# 학습\n",
    "knn_model.fit(X_train, y_train)\n",
    "logi_model.fit(X_train, y_train)\n",
    "svm_model.fit(X_train, y_train)\n",
    "\n",
    "#평가\n",
    "print('KNN : ', knn_model.score(X_test,y_test))\n",
    "print('Logistic : ', logi_model.score(X_test,y_test))\n",
    "print('SVM : ', svm_model.score(X_test,y_test))"
   ]
  },
  {
   "cell_type": "markdown",
   "id": "b6cfcdc6",
   "metadata": {},
   "source": [
    "### 데이터 스케일링 적용\n",
    "- 이미지 픽셀정보 : 0부터 225로 최소/최대가 고정되어있는 데이터\n",
    "- MinMAxScaler를 사용하려면 0과 1사이의 값으로 모든 픽셀을 조정.\n",
    " - 스케일링의 효과 확인하기\n",
    "     - 학습(연산) 속도 개선\n",
    "     - 거리기반으로 예측하는 KNN모델이 변화가 있는지\n",
    "- KNN모델 : 모든 데이터의 대한 거리를 계산, 데이터가 많을 수록 속도가 느려짐."
   ]
  },
  {
   "cell_type": "code",
   "execution_count": 39,
   "id": "9374c874",
   "metadata": {},
   "outputs": [],
   "source": [
    "from sklearn.preprocessing import MinMaxScaler"
   ]
  },
  {
   "cell_type": "code",
   "execution_count": 40,
   "id": "a9cfa0ca",
   "metadata": {},
   "outputs": [],
   "source": [
    "scaler = MinMaxScaler() # 0 ~ 1 사이로 변환."
   ]
  },
  {
   "cell_type": "code",
   "execution_count": 41,
   "id": "00715808",
   "metadata": {},
   "outputs": [
    {
     "data": {
      "text/html": [
       "<style>#sk-container-id-2 {color: black;background-color: white;}#sk-container-id-2 pre{padding: 0;}#sk-container-id-2 div.sk-toggleable {background-color: white;}#sk-container-id-2 label.sk-toggleable__label {cursor: pointer;display: block;width: 100%;margin-bottom: 0;padding: 0.3em;box-sizing: border-box;text-align: center;}#sk-container-id-2 label.sk-toggleable__label-arrow:before {content: \"▸\";float: left;margin-right: 0.25em;color: #696969;}#sk-container-id-2 label.sk-toggleable__label-arrow:hover:before {color: black;}#sk-container-id-2 div.sk-estimator:hover label.sk-toggleable__label-arrow:before {color: black;}#sk-container-id-2 div.sk-toggleable__content {max-height: 0;max-width: 0;overflow: hidden;text-align: left;background-color: #f0f8ff;}#sk-container-id-2 div.sk-toggleable__content pre {margin: 0.2em;color: black;border-radius: 0.25em;background-color: #f0f8ff;}#sk-container-id-2 input.sk-toggleable__control:checked~div.sk-toggleable__content {max-height: 200px;max-width: 100%;overflow: auto;}#sk-container-id-2 input.sk-toggleable__control:checked~label.sk-toggleable__label-arrow:before {content: \"▾\";}#sk-container-id-2 div.sk-estimator input.sk-toggleable__control:checked~label.sk-toggleable__label {background-color: #d4ebff;}#sk-container-id-2 div.sk-label input.sk-toggleable__control:checked~label.sk-toggleable__label {background-color: #d4ebff;}#sk-container-id-2 input.sk-hidden--visually {border: 0;clip: rect(1px 1px 1px 1px);clip: rect(1px, 1px, 1px, 1px);height: 1px;margin: -1px;overflow: hidden;padding: 0;position: absolute;width: 1px;}#sk-container-id-2 div.sk-estimator {font-family: monospace;background-color: #f0f8ff;border: 1px dotted black;border-radius: 0.25em;box-sizing: border-box;margin-bottom: 0.5em;}#sk-container-id-2 div.sk-estimator:hover {background-color: #d4ebff;}#sk-container-id-2 div.sk-parallel-item::after {content: \"\";width: 100%;border-bottom: 1px solid gray;flex-grow: 1;}#sk-container-id-2 div.sk-label:hover label.sk-toggleable__label {background-color: #d4ebff;}#sk-container-id-2 div.sk-serial::before {content: \"\";position: absolute;border-left: 1px solid gray;box-sizing: border-box;top: 0;bottom: 0;left: 50%;z-index: 0;}#sk-container-id-2 div.sk-serial {display: flex;flex-direction: column;align-items: center;background-color: white;padding-right: 0.2em;padding-left: 0.2em;position: relative;}#sk-container-id-2 div.sk-item {position: relative;z-index: 1;}#sk-container-id-2 div.sk-parallel {display: flex;align-items: stretch;justify-content: center;background-color: white;position: relative;}#sk-container-id-2 div.sk-item::before, #sk-container-id-2 div.sk-parallel-item::before {content: \"\";position: absolute;border-left: 1px solid gray;box-sizing: border-box;top: 0;bottom: 0;left: 50%;z-index: -1;}#sk-container-id-2 div.sk-parallel-item {display: flex;flex-direction: column;z-index: 1;position: relative;background-color: white;}#sk-container-id-2 div.sk-parallel-item:first-child::after {align-self: flex-end;width: 50%;}#sk-container-id-2 div.sk-parallel-item:last-child::after {align-self: flex-start;width: 50%;}#sk-container-id-2 div.sk-parallel-item:only-child::after {width: 0;}#sk-container-id-2 div.sk-dashed-wrapped {border: 1px dashed gray;margin: 0 0.4em 0.5em 0.4em;box-sizing: border-box;padding-bottom: 0.4em;background-color: white;}#sk-container-id-2 div.sk-label label {font-family: monospace;font-weight: bold;display: inline-block;line-height: 1.2em;}#sk-container-id-2 div.sk-label-container {text-align: center;}#sk-container-id-2 div.sk-container {/* jupyter's `normalize.less` sets `[hidden] { display: none; }` but bootstrap.min.css set `[hidden] { display: none !important; }` so we also need the `!important` here to be able to override the default hidden behavior on the sphinx rendered scikit-learn.org. See: https://github.com/scikit-learn/scikit-learn/issues/21755 */display: inline-block !important;position: relative;}#sk-container-id-2 div.sk-text-repr-fallback {display: none;}</style><div id=\"sk-container-id-2\" class=\"sk-top-container\"><div class=\"sk-text-repr-fallback\"><pre>MinMaxScaler()</pre><b>In a Jupyter environment, please rerun this cell to show the HTML representation or trust the notebook. <br />On GitHub, the HTML representation is unable to render, please try loading this page with nbviewer.org.</b></div><div class=\"sk-container\" hidden><div class=\"sk-item\"><div class=\"sk-estimator sk-toggleable\"><input class=\"sk-toggleable__control sk-hidden--visually\" id=\"sk-estimator-id-2\" type=\"checkbox\" checked><label for=\"sk-estimator-id-2\" class=\"sk-toggleable__label sk-toggleable__label-arrow\">MinMaxScaler</label><div class=\"sk-toggleable__content\"><pre>MinMaxScaler()</pre></div></div></div></div></div>"
      ],
      "text/plain": [
       "MinMaxScaler()"
      ]
     },
     "execution_count": 41,
     "metadata": {},
     "output_type": "execute_result"
    }
   ],
   "source": [
    "scaler.fit( X_train) # 현재 데이터 분포의 최소/최대 값 확인\n",
    "                     # 변환하는 기준 값을 X_train으로 추출."
   ]
  },
  {
   "cell_type": "code",
   "execution_count": 42,
   "id": "e8412f61",
   "metadata": {},
   "outputs": [
    {
     "data": {
      "text/html": [
       "<div>\n",
       "<style scoped>\n",
       "    .dataframe tbody tr th:only-of-type {\n",
       "        vertical-align: middle;\n",
       "    }\n",
       "\n",
       "    .dataframe tbody tr th {\n",
       "        vertical-align: top;\n",
       "    }\n",
       "\n",
       "    .dataframe thead th {\n",
       "        text-align: right;\n",
       "    }\n",
       "</style>\n",
       "<table border=\"1\" class=\"dataframe\">\n",
       "  <thead>\n",
       "    <tr style=\"text-align: right;\">\n",
       "      <th></th>\n",
       "      <th>pixel0</th>\n",
       "      <th>pixel1</th>\n",
       "      <th>pixel2</th>\n",
       "      <th>pixel3</th>\n",
       "      <th>pixel4</th>\n",
       "      <th>pixel5</th>\n",
       "      <th>pixel6</th>\n",
       "      <th>pixel7</th>\n",
       "      <th>pixel8</th>\n",
       "      <th>pixel9</th>\n",
       "      <th>...</th>\n",
       "      <th>pixel774</th>\n",
       "      <th>pixel775</th>\n",
       "      <th>pixel776</th>\n",
       "      <th>pixel777</th>\n",
       "      <th>pixel778</th>\n",
       "      <th>pixel779</th>\n",
       "      <th>pixel780</th>\n",
       "      <th>pixel781</th>\n",
       "      <th>pixel782</th>\n",
       "      <th>pixel783</th>\n",
       "    </tr>\n",
       "  </thead>\n",
       "  <tbody>\n",
       "    <tr>\n",
       "      <th>40591</th>\n",
       "      <td>0</td>\n",
       "      <td>0</td>\n",
       "      <td>0</td>\n",
       "      <td>0</td>\n",
       "      <td>0</td>\n",
       "      <td>0</td>\n",
       "      <td>0</td>\n",
       "      <td>0</td>\n",
       "      <td>0</td>\n",
       "      <td>0</td>\n",
       "      <td>...</td>\n",
       "      <td>0</td>\n",
       "      <td>0</td>\n",
       "      <td>0</td>\n",
       "      <td>0</td>\n",
       "      <td>0</td>\n",
       "      <td>0</td>\n",
       "      <td>0</td>\n",
       "      <td>0</td>\n",
       "      <td>0</td>\n",
       "      <td>0</td>\n",
       "    </tr>\n",
       "    <tr>\n",
       "      <th>154</th>\n",
       "      <td>0</td>\n",
       "      <td>0</td>\n",
       "      <td>0</td>\n",
       "      <td>0</td>\n",
       "      <td>0</td>\n",
       "      <td>0</td>\n",
       "      <td>0</td>\n",
       "      <td>0</td>\n",
       "      <td>0</td>\n",
       "      <td>0</td>\n",
       "      <td>...</td>\n",
       "      <td>0</td>\n",
       "      <td>0</td>\n",
       "      <td>0</td>\n",
       "      <td>0</td>\n",
       "      <td>0</td>\n",
       "      <td>0</td>\n",
       "      <td>0</td>\n",
       "      <td>0</td>\n",
       "      <td>0</td>\n",
       "      <td>0</td>\n",
       "    </tr>\n",
       "    <tr>\n",
       "      <th>17372</th>\n",
       "      <td>0</td>\n",
       "      <td>0</td>\n",
       "      <td>0</td>\n",
       "      <td>0</td>\n",
       "      <td>0</td>\n",
       "      <td>0</td>\n",
       "      <td>0</td>\n",
       "      <td>0</td>\n",
       "      <td>0</td>\n",
       "      <td>0</td>\n",
       "      <td>...</td>\n",
       "      <td>0</td>\n",
       "      <td>0</td>\n",
       "      <td>0</td>\n",
       "      <td>0</td>\n",
       "      <td>0</td>\n",
       "      <td>0</td>\n",
       "      <td>0</td>\n",
       "      <td>0</td>\n",
       "      <td>0</td>\n",
       "      <td>0</td>\n",
       "    </tr>\n",
       "    <tr>\n",
       "      <th>40346</th>\n",
       "      <td>0</td>\n",
       "      <td>0</td>\n",
       "      <td>0</td>\n",
       "      <td>0</td>\n",
       "      <td>0</td>\n",
       "      <td>0</td>\n",
       "      <td>0</td>\n",
       "      <td>0</td>\n",
       "      <td>0</td>\n",
       "      <td>0</td>\n",
       "      <td>...</td>\n",
       "      <td>0</td>\n",
       "      <td>0</td>\n",
       "      <td>0</td>\n",
       "      <td>0</td>\n",
       "      <td>0</td>\n",
       "      <td>0</td>\n",
       "      <td>0</td>\n",
       "      <td>0</td>\n",
       "      <td>0</td>\n",
       "      <td>0</td>\n",
       "    </tr>\n",
       "    <tr>\n",
       "      <th>22004</th>\n",
       "      <td>0</td>\n",
       "      <td>0</td>\n",
       "      <td>0</td>\n",
       "      <td>0</td>\n",
       "      <td>0</td>\n",
       "      <td>0</td>\n",
       "      <td>0</td>\n",
       "      <td>0</td>\n",
       "      <td>0</td>\n",
       "      <td>0</td>\n",
       "      <td>...</td>\n",
       "      <td>0</td>\n",
       "      <td>0</td>\n",
       "      <td>0</td>\n",
       "      <td>0</td>\n",
       "      <td>0</td>\n",
       "      <td>0</td>\n",
       "      <td>0</td>\n",
       "      <td>0</td>\n",
       "      <td>0</td>\n",
       "      <td>0</td>\n",
       "    </tr>\n",
       "    <tr>\n",
       "      <th>...</th>\n",
       "      <td>...</td>\n",
       "      <td>...</td>\n",
       "      <td>...</td>\n",
       "      <td>...</td>\n",
       "      <td>...</td>\n",
       "      <td>...</td>\n",
       "      <td>...</td>\n",
       "      <td>...</td>\n",
       "      <td>...</td>\n",
       "      <td>...</td>\n",
       "      <td>...</td>\n",
       "      <td>...</td>\n",
       "      <td>...</td>\n",
       "      <td>...</td>\n",
       "      <td>...</td>\n",
       "      <td>...</td>\n",
       "      <td>...</td>\n",
       "      <td>...</td>\n",
       "      <td>...</td>\n",
       "      <td>...</td>\n",
       "      <td>...</td>\n",
       "    </tr>\n",
       "    <tr>\n",
       "      <th>34140</th>\n",
       "      <td>0</td>\n",
       "      <td>0</td>\n",
       "      <td>0</td>\n",
       "      <td>0</td>\n",
       "      <td>0</td>\n",
       "      <td>0</td>\n",
       "      <td>0</td>\n",
       "      <td>0</td>\n",
       "      <td>0</td>\n",
       "      <td>0</td>\n",
       "      <td>...</td>\n",
       "      <td>0</td>\n",
       "      <td>0</td>\n",
       "      <td>0</td>\n",
       "      <td>0</td>\n",
       "      <td>0</td>\n",
       "      <td>0</td>\n",
       "      <td>0</td>\n",
       "      <td>0</td>\n",
       "      <td>0</td>\n",
       "      <td>0</td>\n",
       "    </tr>\n",
       "    <tr>\n",
       "      <th>13927</th>\n",
       "      <td>0</td>\n",
       "      <td>0</td>\n",
       "      <td>0</td>\n",
       "      <td>0</td>\n",
       "      <td>0</td>\n",
       "      <td>0</td>\n",
       "      <td>0</td>\n",
       "      <td>0</td>\n",
       "      <td>0</td>\n",
       "      <td>0</td>\n",
       "      <td>...</td>\n",
       "      <td>0</td>\n",
       "      <td>0</td>\n",
       "      <td>0</td>\n",
       "      <td>0</td>\n",
       "      <td>0</td>\n",
       "      <td>0</td>\n",
       "      <td>0</td>\n",
       "      <td>0</td>\n",
       "      <td>0</td>\n",
       "      <td>0</td>\n",
       "    </tr>\n",
       "    <tr>\n",
       "      <th>919</th>\n",
       "      <td>0</td>\n",
       "      <td>0</td>\n",
       "      <td>0</td>\n",
       "      <td>0</td>\n",
       "      <td>0</td>\n",
       "      <td>0</td>\n",
       "      <td>0</td>\n",
       "      <td>0</td>\n",
       "      <td>0</td>\n",
       "      <td>0</td>\n",
       "      <td>...</td>\n",
       "      <td>0</td>\n",
       "      <td>0</td>\n",
       "      <td>0</td>\n",
       "      <td>0</td>\n",
       "      <td>0</td>\n",
       "      <td>0</td>\n",
       "      <td>0</td>\n",
       "      <td>0</td>\n",
       "      <td>0</td>\n",
       "      <td>0</td>\n",
       "    </tr>\n",
       "    <tr>\n",
       "      <th>38467</th>\n",
       "      <td>0</td>\n",
       "      <td>0</td>\n",
       "      <td>0</td>\n",
       "      <td>0</td>\n",
       "      <td>0</td>\n",
       "      <td>0</td>\n",
       "      <td>0</td>\n",
       "      <td>0</td>\n",
       "      <td>0</td>\n",
       "      <td>0</td>\n",
       "      <td>...</td>\n",
       "      <td>0</td>\n",
       "      <td>0</td>\n",
       "      <td>0</td>\n",
       "      <td>0</td>\n",
       "      <td>0</td>\n",
       "      <td>0</td>\n",
       "      <td>0</td>\n",
       "      <td>0</td>\n",
       "      <td>0</td>\n",
       "      <td>0</td>\n",
       "    </tr>\n",
       "    <tr>\n",
       "      <th>10742</th>\n",
       "      <td>0</td>\n",
       "      <td>0</td>\n",
       "      <td>0</td>\n",
       "      <td>0</td>\n",
       "      <td>0</td>\n",
       "      <td>0</td>\n",
       "      <td>0</td>\n",
       "      <td>0</td>\n",
       "      <td>0</td>\n",
       "      <td>0</td>\n",
       "      <td>...</td>\n",
       "      <td>0</td>\n",
       "      <td>0</td>\n",
       "      <td>0</td>\n",
       "      <td>0</td>\n",
       "      <td>0</td>\n",
       "      <td>0</td>\n",
       "      <td>0</td>\n",
       "      <td>0</td>\n",
       "      <td>0</td>\n",
       "      <td>0</td>\n",
       "    </tr>\n",
       "  </tbody>\n",
       "</table>\n",
       "<p>29400 rows × 784 columns</p>\n",
       "</div>"
      ],
      "text/plain": [
       "       pixel0  pixel1  pixel2  pixel3  pixel4  pixel5  pixel6  pixel7  pixel8  \\\n",
       "40591       0       0       0       0       0       0       0       0       0   \n",
       "154         0       0       0       0       0       0       0       0       0   \n",
       "17372       0       0       0       0       0       0       0       0       0   \n",
       "40346       0       0       0       0       0       0       0       0       0   \n",
       "22004       0       0       0       0       0       0       0       0       0   \n",
       "...       ...     ...     ...     ...     ...     ...     ...     ...     ...   \n",
       "34140       0       0       0       0       0       0       0       0       0   \n",
       "13927       0       0       0       0       0       0       0       0       0   \n",
       "919         0       0       0       0       0       0       0       0       0   \n",
       "38467       0       0       0       0       0       0       0       0       0   \n",
       "10742       0       0       0       0       0       0       0       0       0   \n",
       "\n",
       "       pixel9  ...  pixel774  pixel775  pixel776  pixel777  pixel778  \\\n",
       "40591       0  ...         0         0         0         0         0   \n",
       "154         0  ...         0         0         0         0         0   \n",
       "17372       0  ...         0         0         0         0         0   \n",
       "40346       0  ...         0         0         0         0         0   \n",
       "22004       0  ...         0         0         0         0         0   \n",
       "...       ...  ...       ...       ...       ...       ...       ...   \n",
       "34140       0  ...         0         0         0         0         0   \n",
       "13927       0  ...         0         0         0         0         0   \n",
       "919         0  ...         0         0         0         0         0   \n",
       "38467       0  ...         0         0         0         0         0   \n",
       "10742       0  ...         0         0         0         0         0   \n",
       "\n",
       "       pixel779  pixel780  pixel781  pixel782  pixel783  \n",
       "40591         0         0         0         0         0  \n",
       "154           0         0         0         0         0  \n",
       "17372         0         0         0         0         0  \n",
       "40346         0         0         0         0         0  \n",
       "22004         0         0         0         0         0  \n",
       "...         ...       ...       ...       ...       ...  \n",
       "34140         0         0         0         0         0  \n",
       "13927         0         0         0         0         0  \n",
       "919           0         0         0         0         0  \n",
       "38467         0         0         0         0         0  \n",
       "10742         0         0         0         0         0  \n",
       "\n",
       "[29400 rows x 784 columns]"
      ]
     },
     "execution_count": 42,
     "metadata": {},
     "output_type": "execute_result"
    }
   ],
   "source": [
    "X_train"
   ]
  },
  {
   "cell_type": "code",
   "execution_count": 43,
   "id": "357a9404",
   "metadata": {},
   "outputs": [],
   "source": [
    "# 문제 데이터에 스케일링 적용\n",
    "X_train_scale = scaler.transform(X_train)\n",
    "X_test_scale = scaler.transform(X_test)"
   ]
  },
  {
   "cell_type": "code",
   "execution_count": 44,
   "id": "965dfa79",
   "metadata": {},
   "outputs": [
    {
     "name": "stderr",
     "output_type": "stream",
     "text": [
      "C:\\Users\\gjaischool\\anaconda3\\lib\\site-packages\\sklearn\\linear_model\\_logistic.py:458: ConvergenceWarning: lbfgs failed to converge (status=1):\n",
      "STOP: TOTAL NO. of ITERATIONS REACHED LIMIT.\n",
      "\n",
      "Increase the number of iterations (max_iter) or scale the data as shown in:\n",
      "    https://scikit-learn.org/stable/modules/preprocessing.html\n",
      "Please also refer to the documentation for alternative solver options:\n",
      "    https://scikit-learn.org/stable/modules/linear_model.html#logistic-regression\n",
      "  n_iter_i = _check_optimize_result(\n",
      "C:\\Users\\gjaischool\\anaconda3\\lib\\site-packages\\sklearn\\svm\\_base.py:1244: ConvergenceWarning: Liblinear failed to converge, increase the number of iterations.\n",
      "  warnings.warn(\n"
     ]
    },
    {
     "name": "stdout",
     "output_type": "stream",
     "text": [
      "KNN :  0.9644444444444444\n",
      "Logistic :  0.9169047619047619\n",
      "SVM :  0.908968253968254\n"
     ]
    }
   ],
   "source": [
    "# 스케일링이 적용된 데이터로 다시 학습\n",
    "knn_model.fit(X_train_scale, y_train)\n",
    "logi_model.fit(X_train_scale, y_train)\n",
    "svm_model.fit(X_train_scale, y_train)\n",
    "\n",
    "# 스케일링이 적용된 데이터로 변화값 확인\n",
    "print('KNN : ', knn_model.score(X_test_scale,y_test))\n",
    "print('Logistic : ', logi_model.score(X_test_scale,y_test))\n",
    "print('SVM : ', svm_model.score(X_test_scale,y_test))"
   ]
  },
  {
   "cell_type": "markdown",
   "id": "b4e0f13b",
   "metadata": {},
   "source": [
    "## - 회귀 : 정답이 연속적인 수치값, y햇이 예측한 값을 그대로 사용\n",
    "## - 분류 :  정답이 딱 떨어지는 정해져있는 값.\n",
    "### 선형 분류 : y햇이라는 선형함수(결정경계)를 기준으로 결정경계의 위쪽에 있느냐, 아래쪽에 있느냐로 영역을 예측 하는 것. 가중치들의 합 > 0 ==> 1\n",
    "### 가중치들의 합 < 0 ==> 0\n",
    "\n",
    "## Logistic Regression\n",
    "- 결정경계가 S자형 곡선으로 그려짐.\n",
    "- Sigmoid(s자형 곡선) 이라는 선형함수를 사용\n",
    "- Sigmoid는 입력값을  0 ~ 1 범위로 변환, 확률값으로 사용\n",
    "  ex) 개와 고양이를 분류하는 모델 : 개(70%), 고양이(80%) ==> 예측하는 확률값을 명시\n",
    "- Sigmoid 함수(곡선)를 잘 그렸는지 확인하는 기준 ==> 교차엔트로피 오차함수\n",
    "  - 오차들을 더해서 오차가 크면 ==> 안 좋은 함수\n",
    "  - 오차들을 더해서 오차가 작으면 ==> 좋은 함수\n",
    "  \n",
    "- 선형회귀 --> MSE, R2score(직선)\n",
    "- 로지스틱회귀 --> 교차엔트로피 오차함수(곡선)\n",
    "\n",
    "SVM --> 마진\n",
    "\n",
    "SVM\n",
    "- 결정경계(초평면)와 가장 인접한 데이터 : 서포트 벡터\n",
    "- 결정경계(초평면)와 서포트 벡터간의 거리 : 마진\n",
    "- 마진이 가장 큰 결정경계가 가장 좋은 결정경계 !\n",
    "- 결정경계(초평면)가 데이터(N)가 가지고 있는 차원(N-1)으로 구성함."
   ]
  },
  {
   "cell_type": "markdown",
   "id": "44395b94",
   "metadata": {},
   "source": [
    "### 분류 평가 지표 - 이진 분류\n",
    "![image.png](attachment:image.png)"
   ]
  },
  {
   "cell_type": "markdown",
   "id": "3ff08c61",
   "metadata": {},
   "source": [
    "### 정확도(Accuracy)\n",
    "#### : 정확히 예측한 수를 전체 샘플 수로 나눈 것.\n",
    "![image.png](attachment:image.png)\n",
    "\n",
    "### 재현율(Recall)\n",
    "#### : 전체 양성 샘플 중에서 얼마나 많은 샘플이 양성 클래스로 분류되는가.\n",
    "![image-2.png](attachment:image-2.png)\n",
    "\n",
    "### 정밀도(Precision)\n",
    "#### : 양성으로 예측된 것 중 얼마나 많은 샘플이 진짜 양성인지 측정하는 것\n",
    "![image-3.png](attachment:image-3.png)\n",
    "\n",
    "### F1-score\n",
    "#### : 정밀도와 재현율의 조화 평균\n",
    "![image-4.png](attachment:image-4.png)"
   ]
  },
  {
   "cell_type": "markdown",
   "id": "8fb0933e",
   "metadata": {},
   "source": [
    "### 평가지표\n",
    "- 회귀 : 오차를 기반으로 하는 평가지표 사용(MSE, R2score)\n",
    "- 분류 : 맞춘 개수를 기반으로 평가지표를 사용.\n",
    "          1. 정확도(Accuracy) : 전체 데이터 중에서 정확히 맞춘 비율\n",
    "          2. 재현율(Recall) : 실제 양성중에서 정확히 맞춘 비율\n",
    "          3. 정밀도(Precision) : 예측한 양성 중에서 정확히 맞춘 비율\n",
    "          4. F1 score : 정밀도와 재현율의 조화 평균\n",
    "- SVM : 초평면(결정경계)을 기준으로 소프트벡터의 마진(거리)이 클수록 좋은 결정경계"
   ]
  },
  {
   "cell_type": "code",
   "execution_count": 45,
   "id": "a0d9371f",
   "metadata": {},
   "outputs": [],
   "source": [
    "# 평가지표 라이브러리 불러오기\n",
    "from sklearn.metrics import confusion_matrix"
   ]
  },
  {
   "cell_type": "code",
   "execution_count": 51,
   "id": "7ff2f9f5",
   "metadata": {},
   "outputs": [],
   "source": [
    "# 스케일링이 적용된 테스트 데이터로 예측 값 만들기.\n",
    "# 로지스틱 분류 사용\n",
    "pre = logi_model.predict(X_test_scale)"
   ]
  },
  {
   "cell_type": "code",
   "execution_count": 52,
   "id": "d1445f2b",
   "metadata": {
    "collapsed": true
   },
   "outputs": [
    {
     "data": {
      "text/plain": [
       "array([[1207,    0,    4,    4,    3,   13,    6,    3,    7,    2],\n",
       "       [   0, 1406,    7,    7,    1,    4,    1,    2,    8,    4],\n",
       "       [   7,   11, 1112,   23,   15,    3,   11,   19,   22,    8],\n",
       "       [   7,    2,   39, 1152,    1,   46,    1,   11,   28,   12],\n",
       "       [   3,   18,   10,    2, 1140,    1,   13,   10,    9,   44],\n",
       "       [  11,    7,   16,   41,   15,  936,   17,    7,   29,    9],\n",
       "       [  13,    4,    8,    1,   16,   16, 1157,    1,    7,    2],\n",
       "       [   1,   11,   13,    4,    7,    1,    2, 1216,    3,   48],\n",
       "       [   9,   38,    8,   36,    9,   27,    6,    1, 1089,   24],\n",
       "       [   8,    8,    2,   10,   36,    8,    0,   44,   11, 1138]],\n",
       "      dtype=int64)"
      ]
     },
     "execution_count": 52,
     "metadata": {},
     "output_type": "execute_result"
    }
   ],
   "source": [
    "test_conf = confusion_matrix(y_test, pre)\n",
    "test_conf"
   ]
  },
  {
   "cell_type": "code",
   "execution_count": 53,
   "id": "47a3f0ba",
   "metadata": {},
   "outputs": [],
   "source": [
    "from sklearn.metrics import classification_report\n",
    "# classification_report : 분류 평가지표 4가지를 report 형태로 출력."
   ]
  },
  {
   "cell_type": "code",
   "execution_count": 56,
   "id": "b78baa4c",
   "metadata": {},
   "outputs": [
    {
     "name": "stdout",
     "output_type": "stream",
     "text": [
      "              precision    recall  f1-score   support\n",
      "\n",
      "           0       0.95      0.97      0.96      1249\n",
      "           1       0.93      0.98      0.95      1440\n",
      "           2       0.91      0.90      0.91      1231\n",
      "           3       0.90      0.89      0.89      1299\n",
      "           4       0.92      0.91      0.91      1250\n",
      "           5       0.89      0.86      0.87      1088\n",
      "           6       0.95      0.94      0.95      1225\n",
      "           7       0.93      0.93      0.93      1306\n",
      "           8       0.90      0.87      0.89      1247\n",
      "           9       0.88      0.90      0.89      1265\n",
      "\n",
      "    accuracy                           0.92     12600\n",
      "   macro avg       0.92      0.92      0.92     12600\n",
      "weighted avg       0.92      0.92      0.92     12600\n",
      "\n"
     ]
    }
   ],
   "source": [
    "# classification_report(실제값, 예측값)\n",
    "print(classification_report(y_test, pre))"
   ]
  },
  {
   "cell_type": "markdown",
   "id": "6ec5bf2b",
   "metadata": {},
   "source": [
    "- support : 데이터의 갯수\n",
    "- accuracy : 로지스틱 회귀의 예측성능 92% 이지만, 각 숫자(클래스)가 나올 확률의 수치 값은 다름.\n",
    "- f1-score : 정밀도와 재현율의 조화 평균  ➜ 정밀도와 재현율을 고려한 수치값.\n",
    "            ➜ 수치가 높은게 두 분류지표(정밀도, 재현율)도 높음을 알 수 있음.\n",
    "- macro avg : 정밀도, 재현율, f-1 score를 구해서 각각 평균을 낸 것.\n",
    "             ➜ 분류하는 모델이 각 클래스에 대해 얼마나 평균적으로 잘 동작하는지 알고 싶을 떄 사용.\n",
    "- weighted avg(가중 평균): 각 클래스의 중요도, 영향도(빈도)등에 따라 가중치를 곱해서 구해지는 평균 값."
   ]
  },
  {
   "cell_type": "markdown",
   "id": "e0ac2f76",
   "metadata": {},
   "source": [
    "### 예측"
   ]
  },
  {
   "cell_type": "code",
   "execution_count": 58,
   "id": "745c6295",
   "metadata": {},
   "outputs": [],
   "source": [
    "# index 7번쨰 데이터 가져오기.\n",
    "img7 = X_test_scale[7]"
   ]
  },
  {
   "cell_type": "code",
   "execution_count": 59,
   "id": "e1fac215",
   "metadata": {},
   "outputs": [
    {
     "data": {
      "text/plain": [
       "array([1], dtype=int64)"
      ]
     },
     "execution_count": 59,
     "metadata": {},
     "output_type": "execute_result"
    }
   ],
   "source": [
    "logi_model.predict([img7])"
   ]
  },
  {
   "cell_type": "code",
   "execution_count": 60,
   "id": "d3ff78d7",
   "metadata": {},
   "outputs": [
    {
     "data": {
      "text/plain": [
       "1"
      ]
     },
     "execution_count": 60,
     "metadata": {},
     "output_type": "execute_result"
    }
   ],
   "source": [
    "# 실제 정답 확인\n",
    "y_test.iloc[7]"
   ]
  },
  {
   "cell_type": "code",
   "execution_count": 61,
   "id": "675678df",
   "metadata": {},
   "outputs": [
    {
     "data": {
      "text/plain": [
       "array([1], dtype=int64)"
      ]
     },
     "execution_count": 61,
     "metadata": {},
     "output_type": "execute_result"
    }
   ],
   "source": [
    "svm_model.predict([img7])"
   ]
  },
  {
   "cell_type": "code",
   "execution_count": 63,
   "id": "a9f7ab1e",
   "metadata": {},
   "outputs": [
    {
     "data": {
      "text/plain": [
       "array([[3.73323833e-10, 9.88049149e-01, 2.75926406e-04, 3.35151433e-03,\n",
       "        2.15892443e-06, 7.28083512e-05, 1.06545842e-05, 6.20899060e-03,\n",
       "        1.35662821e-04, 1.89313425e-03]])"
      ]
     },
     "execution_count": 63,
     "metadata": {},
     "output_type": "execute_result"
    }
   ],
   "source": [
    "# 7번째 값(0~9)숫자가 1일 확률\n",
    "logi_model.predict_proba(X_test_scale[7:8])\n",
    "# svm은 predict_proba 없음."
   ]
  },
  {
   "cell_type": "code",
   "execution_count": 66,
   "id": "c37fab73",
   "metadata": {
    "collapsed": true
   },
   "outputs": [
    {
     "data": {
      "text/plain": [
       "<matplotlib.image.AxesImage at 0x241152f75e0>"
      ]
     },
     "execution_count": 66,
     "metadata": {},
     "output_type": "execute_result"
    },
    {
     "data": {
      "image/png": "[encoded data removed]",
      "text/plain": [
       "<Figure size 640x480 with 1 Axes>"
      ]
     },
     "metadata": {},
     "output_type": "display_data"
    }
   ],
   "source": [
    "img7 =X_test.iloc[7]\n",
    "plt.imshow(img7.values.reshape(28,28), cmap='gray')"
   ]
  },
  {
   "cell_type": "markdown",
   "id": "4b1df475",
   "metadata": {},
   "source": [
    "## 분류평가 지표\n",
    "- 낮은 재현율 , 높은 정밀도를 선호하는 경우\n",
    "  - 어린아이에게 안전한 동영상(양성)을 걸러내는 분류기를 훈련시킬 경우 좋은 동영상이 많이 제외되더라도(낮은 재현율) 안전한 것들만 노출시키는(높은 정밀도) 분류기가 더 좋음 ( 의학실험, 모델이 예측의 리스크, 비용이 큰 경우에 적합)\n",
    "- 높은 재현율, 낮은 정밀도를 선호하는 경우\n",
    "  - 감시카메라로 좀도둑(양성)을 잡아내는 분류기를 훈련시킬 경우 경비원이 잘못된 호출을 종종 받지만(낮은 정밀도) 거의 모든 좀도둑을 잡는(높은 재현율) 분류기가 더 좋음. 암환자 판정, 스팸 문자 및 메일 분류 ( 실제 사건(상황)에 대한 리스크가 큰 경우에 적합)\n",
    "- 같은 정확도 일 때, 애매한 것들을 사용하지 않겠다. ==> 높은 정밀도 선호\n",
    "- 같은 정확도 일 때. 애매한 것들을 사용하겠다. ==> 높은 재현율 선호\n",
    "* 상황에 맞게 평가지표를 적용\n",
    "- 가장 best : 높은 재현율, 높은 정밀도\n",
    "\n",
    "\n",
    "## ROC 곡선\n",
    "-         : 임계값을  0 ~ 1까지 변화시켜가면서 \n",
    "-            x축: 가짜양성비율(FPR) , y축 : 진짜양성비율(TPR)을 표시한 곡선\n",
    "-          임계값 변화에 따라서 양성/음성 분류가 달라짐. ROC곡선도 달라짐.\n",
    "-          ROC곡선 아래 면적 : AUC(Area Under Curve)\n",
    "-          AUC의 값이 1에 가까울수록 분류모델의 성능이 좋다고 평가.\n",
    "-          : 0.5를 기준으로 위쪽으로 갈수록 좋음.\n"
   ]
  },
  {
   "attachments": {
    "image.png": {
     "image/png": "[encoded data removed]"
    }
   },
   "cell_type": "markdown",
   "id": "86806b06",
   "metadata": {},
   "source": [
    "## 분류 평가 지표 시각화 - ROC(Receiver Operating Characteristic) curve\n",
    "### - 여러 임계값(0~1)에서 분류기의 특성을 분석하는데 널리 사용되는 도구\n",
    "### - 클래스의 분포가 다르고 겹치는 부분이 존재 -> 정확도의 단점을 보완하기 위한 것\n",
    "### - 진짜 양성비율(TPR)에 대한 거짓 양성 비율(FPR)을 나타냄.\n",
    "\n",
    "## 가짜 양성비율(FPR : 전체 음성 샘플 중에서 거짓 양성으로 잘못 분류한 비율)\n",
    "## 진짜 양성비율(TPR : 재현율)\n",
    "![image.png](attachment:image.png)\n",
    "\n"
   ]
  },
  {
   "cell_type": "code",
   "execution_count": null,
   "id": "bd5c4349",
   "metadata": {},
   "outputs": [],
   "source": []
  },
  {
   "cell_type": "markdown",
   "id": "a58a292c",
   "metadata": {},
   "source": [
    "-"
   ]
  },
  {
   "cell_type": "code",
   "execution_count": null,
   "id": "8779aecd",
   "metadata": {},
   "outputs": [],
   "source": []
  },
  {
   "cell_type": "code",
   "execution_count": null,
   "id": "3d6a9fef",
   "metadata": {},
   "outputs": [],
   "source": []
  },
  {
   "cell_type": "code",
   "execution_count": null,
   "id": "8783a226",
   "metadata": {},
   "outputs": [],
   "source": []
  },
  {
   "cell_type": "code",
   "execution_count": null,
   "id": "b49d5437",
   "metadata": {},
   "outputs": [],
   "source": []
  },
  {
   "cell_type": "code",
   "execution_count": null,
   "id": "63cf4e1b",
   "metadata": {},
   "outputs": [],
   "source": []
  },
  {
   "cell_type": "code",
   "execution_count": null,
   "id": "eb6b20f6",
   "metadata": {},
   "outputs": [],
   "source": []
  },
  {
   "cell_type": "code",
   "execution_count": null,
   "id": "338cdf62",
   "metadata": {},
   "outputs": [],
   "source": []
  }
 ],
 "metadata": {
  "kernelspec": {
   "display_name": "Python 3 (ipykernel)",
   "language": "python",
   "name": "python3"
  },
  "language_info": {
   "codemirror_mode": {
    "name": "ipython",
    "version": 3
   },
   "file_extension": ".py",
   "mimetype": "text/x-python",
   "name": "python",
   "nbconvert_exporter": "python",
   "pygments_lexer": "ipython3",
   "version": "3.10.9"
  }
 },
 "nbformat": 4,
 "nbformat_minor": 5
}
