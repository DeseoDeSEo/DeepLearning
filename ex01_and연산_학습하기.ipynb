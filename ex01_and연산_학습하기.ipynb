{
 "cells": [
  {
   "cell_type": "markdown",
   "id": "2d976600",
   "metadata": {},
   "source": [
    "### 문제 정의\n",
    "   - 훈련 데이터와 테스트 데이터 이해하기\n",
    "   - 머신러닝의 일련의 과정 이해하기\n",
    "   - AND연산의 결과를 도출하는 머신러닝 모델 학습하기."
   ]
  },
  {
   "cell_type": "code",
   "execution_count": 21,
   "id": "97ced712",
   "metadata": {},
   "outputs": [],
   "source": [
    "import pandas as pd\n",
    "import numpy as np\n",
    "import matplotlib.pyplot as plt"
   ]
  },
  {
   "cell_type": "markdown",
   "id": "4f88116c",
   "metadata": {},
   "source": [
    "### 데이터 준비\n",
    "    - and 연산 데이터 생성하기\n",
    "    "
   ]
  },
  {
   "cell_type": "code",
   "execution_count": 22,
   "id": "f8066547",
   "metadata": {},
   "outputs": [
    {
     "data": {
      "text/html": [
       "<div>\n",
       "<style scoped>\n",
       "    .dataframe tbody tr th:only-of-type {\n",
       "        vertical-align: middle;\n",
       "    }\n",
       "\n",
       "    .dataframe tbody tr th {\n",
       "        vertical-align: top;\n",
       "    }\n",
       "\n",
       "    .dataframe thead th {\n",
       "        text-align: right;\n",
       "    }\n",
       "</style>\n",
       "<table border=\"1\" class=\"dataframe\">\n",
       "  <thead>\n",
       "    <tr style=\"text-align: right;\">\n",
       "      <th></th>\n",
       "      <th>A</th>\n",
       "      <th>B</th>\n",
       "      <th>A and B</th>\n",
       "    </tr>\n",
       "  </thead>\n",
       "  <tbody>\n",
       "    <tr>\n",
       "      <th>0</th>\n",
       "      <td>0</td>\n",
       "      <td>0</td>\n",
       "      <td>0</td>\n",
       "    </tr>\n",
       "    <tr>\n",
       "      <th>1</th>\n",
       "      <td>0</td>\n",
       "      <td>1</td>\n",
       "      <td>0</td>\n",
       "    </tr>\n",
       "    <tr>\n",
       "      <th>2</th>\n",
       "      <td>1</td>\n",
       "      <td>0</td>\n",
       "      <td>0</td>\n",
       "    </tr>\n",
       "    <tr>\n",
       "      <th>3</th>\n",
       "      <td>1</td>\n",
       "      <td>1</td>\n",
       "      <td>1</td>\n",
       "    </tr>\n",
       "    <tr>\n",
       "      <th>4</th>\n",
       "      <td>1</td>\n",
       "      <td>0</td>\n",
       "      <td>0</td>\n",
       "    </tr>\n",
       "    <tr>\n",
       "      <th>5</th>\n",
       "      <td>0</td>\n",
       "      <td>0</td>\n",
       "      <td>0</td>\n",
       "    </tr>\n",
       "    <tr>\n",
       "      <th>6</th>\n",
       "      <td>1</td>\n",
       "      <td>1</td>\n",
       "      <td>1</td>\n",
       "    </tr>\n",
       "    <tr>\n",
       "      <th>7</th>\n",
       "      <td>0</td>\n",
       "      <td>1</td>\n",
       "      <td>0</td>\n",
       "    </tr>\n",
       "  </tbody>\n",
       "</table>\n",
       "</div>"
      ],
      "text/plain": [
       "   A  B  A and B\n",
       "0  0  0        0\n",
       "1  0  1        0\n",
       "2  1  0        0\n",
       "3  1  1        1\n",
       "4  1  0        0\n",
       "5  0  0        0\n",
       "6  1  1        1\n",
       "7  0  1        0"
      ]
     },
     "execution_count": 22,
     "metadata": {},
     "output_type": "execute_result"
    }
   ],
   "source": [
    "# 방법1. 이중 리스트[[]]\n",
    "# 방법2. 딕셔너리{컬럼명:[0,0,,,,],컬럼명:[...]}\n",
    "data_dic={'A':[0,0,1,1,1,0,1,0], \n",
    "    'B':[0,1,0,1,0,0,1,1],\n",
    "    'A and B':[0,0,0,1,0,0,1,0]}\n",
    "df =pd.DataFrame(data_dic)\n",
    "df"
   ]
  },
  {
   "cell_type": "markdown",
   "id": "d7c6bfe3",
   "metadata": {},
   "source": [
    "### 데이터 전처리\n",
    "\n",
    "#### numpy > 2차원 배열[행] ,     배열[행][열],  배열[행,열]\n",
    "#### pandas > 2차원 배열(=DataFrame), DF[행,열]하면 오류 나서  DF.loc[행, 열],  df.iloc[행, 열].    df.iloc[행:행, 열:열]\n"
   ]
  },
  {
   "cell_type": "code",
   "execution_count": 23,
   "id": "a9b9c219",
   "metadata": {},
   "outputs": [
    {
     "name": "stdout",
     "output_type": "stream",
     "text": [
      "문제크기:  (8, 2)\n",
      "답 크기:  (8,)\n"
     ]
    }
   ],
   "source": [
    "# X: 문제(A컬럼, B컬럼) , Y :답( 실제적인 답, A and B) 분리\n",
    "X = df.loc[:,'A':'B']\n",
    "# otra manera\n",
    "# X = df.loc[:,'A','B']\n",
    "# x = df.iloc[:,0:2]\n",
    "# y = df.iloc[:, ]\n",
    "# otra otra\n",
    "# x = df[['A','B']]\n",
    "X # 2차원임.\n",
    "#크기확인\n",
    "print('문제크기: ',X.shape)\n",
    "print('답 크기: ',Y.shape)"
   ]
  },
  {
   "cell_type": "code",
   "execution_count": 24,
   "id": "7de8a066",
   "metadata": {},
   "outputs": [
    {
     "data": {
      "text/plain": [
       "0    0\n",
       "1    0\n",
       "2    0\n",
       "3    1\n",
       "4    0\n",
       "5    0\n",
       "6    1\n",
       "7    0\n",
       "Name: A and B, dtype: int64"
      ]
     },
     "execution_count": 24,
     "metadata": {},
     "output_type": "execute_result"
    }
   ],
   "source": [
    "Y = df.loc[:,'A and B']\n",
    "# Y = df['A and B']\n",
    "# df.iloc[:2]\n",
    "Y"
   ]
  },
  {
   "cell_type": "code",
   "execution_count": 25,
   "id": "1b020dd8",
   "metadata": {},
   "outputs": [
    {
     "data": {
      "text/plain": [
       "0    0\n",
       "1    0\n",
       "2    0\n",
       "3    1\n",
       "4    0\n",
       "5    0\n",
       "6    1\n",
       "7    0\n",
       "Name: A and B, dtype: int64"
      ]
     },
     "execution_count": 25,
     "metadata": {},
     "output_type": "execute_result"
    }
   ],
   "source": [
    "# 훈련용(학습과정), 테스트용(평가 및 예측 과정) 분리\n",
    "\n",
    "# X_train -훈련용 문제(0~5행 접근), X_test - 테스트용 문제(6~7행 접근)\n",
    "X\n",
    "\n",
    "# Y_train = 훈련용 답 데이터(0~5행 접근), Y_test = 테스트용 답 데이터(6~7행 접근)\n",
    "Y"
   ]
  },
  {
   "cell_type": "code",
   "execution_count": 26,
   "id": "6e6c3f25",
   "metadata": {},
   "outputs": [
    {
     "name": "stdout",
     "output_type": "stream",
     "text": [
      "   A  B\n",
      "0  0  0\n",
      "1  0  1\n",
      "2  1  0\n",
      "3  1  1\n",
      "4  1  0\n",
      "5  0  0\n",
      "* \n",
      "    A  B\n",
      "6  1  1\n",
      "7  0  1\n",
      "훈련용 데이터:  (6, 2) (6,)\n",
      "테스트용 데이터:  (2, 2) (2,)\n"
     ]
    }
   ],
   "source": [
    "X_train =X.iloc[:6]\n",
    "X_test  =X.iloc[6:]\n",
    "print(X_train)\n",
    "print(\"* \\n\",X_test)\n",
    "print('훈련용 데이터: ',X_train.shape, Y_train.shape )\n",
    "print('테스트용 데이터: ',X_test.shape, Y_test.shape )"
   ]
  },
  {
   "cell_type": "code",
   "execution_count": 27,
   "id": "b9b38ec3",
   "metadata": {},
   "outputs": [
    {
     "name": "stdout",
     "output_type": "stream",
     "text": [
      "0    0\n",
      "1    0\n",
      "2    0\n",
      "3    1\n",
      "4    0\n",
      "5    0\n",
      "Name: A and B, dtype: int64\n",
      "* \n",
      " 6    1\n",
      "7    0\n",
      "Name: A and B, dtype: int64\n"
     ]
    }
   ],
   "source": [
    "Y_train =Y.iloc[:6]\n",
    "Y_test  =Y.iloc[6:]\n",
    "print(Y_train)\n",
    "print(\"* \\n\",Y_test)"
   ]
  },
  {
   "cell_type": "markdown",
   "id": "7c653f0b",
   "metadata": {},
   "source": [
    "### 데이터 탐색(탐색적 데이터 분석)\n",
    " - a컬럼 int 데이터 , 0/1\n",
    "- b컬럼 int데이터, 0/1\n",
    "- a and b컬럼 int데이터, 0/1\n",
    "- 결측치 x, 이상치 x"
   ]
  },
  {
   "cell_type": "markdown",
   "id": "a8dd5c00",
   "metadata": {},
   "source": [
    "### 모델링\n",
    "- 모델 선택 및 하이퍼 파라미터 조정\n",
    "- 모델 학습\n",
    "- 모델 예측 및 평가"
   ]
  },
  {
   "cell_type": "code",
   "execution_count": 28,
   "id": "933915d2",
   "metadata": {},
   "outputs": [],
   "source": [
    "# 모델 불러오기\n",
    "# 분류하는 모델 중 knn 모델을 불러오기\n",
    "# sklearn(scikit-learn, 싸이킥 런) 머신러닝 패키지 : 머신러닝에 사용되는 도구를 담은 패키지\n",
    "# 지도/ 비지도 / 강화, 분류/회귀, 평가 공식(기능), 데이터 전처리 하는 기능 들도 담겨있음.\n",
    "from sklearn.neighbors import KNeighborsClassifier\n",
    "from sklearn.metrics import accuracy_score"
   ]
  },
  {
   "cell_type": "code",
   "execution_count": 29,
   "id": "0e0e6fab",
   "metadata": {},
   "outputs": [],
   "source": [
    "# 모델 객체 생성\n",
    "# 모델마다 하이퍼 파라미터명 다름. 쓰임 다름\n",
    "# knn에서는 n_neighbors가 하이퍼 파라미터(사람이 설정하는 값)\n",
    "knn_model=KNeighborsClassifier(n_neighbors=1)\n",
    "# 사람이 설정하는 하이퍼 파라미터에 따라 결과가 바뀌는 구나\n",
    "# 예측이 잘되는 값이 있고 안 되는 값도 있음."
   ]
  },
  {
   "cell_type": "code",
   "execution_count": 31,
   "id": "e94f13cf",
   "metadata": {},
   "outputs": [
    {
     "data": {
      "text/html": [
       "<style>#sk-container-id-1 {color: black;background-color: white;}#sk-container-id-1 pre{padding: 0;}#sk-container-id-1 div.sk-toggleable {background-color: white;}#sk-container-id-1 label.sk-toggleable__label {cursor: pointer;display: block;width: 100%;margin-bottom: 0;padding: 0.3em;box-sizing: border-box;text-align: center;}#sk-container-id-1 label.sk-toggleable__label-arrow:before {content: \"▸\";float: left;margin-right: 0.25em;color: #696969;}#sk-container-id-1 label.sk-toggleable__label-arrow:hover:before {color: black;}#sk-container-id-1 div.sk-estimator:hover label.sk-toggleable__label-arrow:before {color: black;}#sk-container-id-1 div.sk-toggleable__content {max-height: 0;max-width: 0;overflow: hidden;text-align: left;background-color: #f0f8ff;}#sk-container-id-1 div.sk-toggleable__content pre {margin: 0.2em;color: black;border-radius: 0.25em;background-color: #f0f8ff;}#sk-container-id-1 input.sk-toggleable__control:checked~div.sk-toggleable__content {max-height: 200px;max-width: 100%;overflow: auto;}#sk-container-id-1 input.sk-toggleable__control:checked~label.sk-toggleable__label-arrow:before {content: \"▾\";}#sk-container-id-1 div.sk-estimator input.sk-toggleable__control:checked~label.sk-toggleable__label {background-color: #d4ebff;}#sk-container-id-1 div.sk-label input.sk-toggleable__control:checked~label.sk-toggleable__label {background-color: #d4ebff;}#sk-container-id-1 input.sk-hidden--visually {border: 0;clip: rect(1px 1px 1px 1px);clip: rect(1px, 1px, 1px, 1px);height: 1px;margin: -1px;overflow: hidden;padding: 0;position: absolute;width: 1px;}#sk-container-id-1 div.sk-estimator {font-family: monospace;background-color: #f0f8ff;border: 1px dotted black;border-radius: 0.25em;box-sizing: border-box;margin-bottom: 0.5em;}#sk-container-id-1 div.sk-estimator:hover {background-color: #d4ebff;}#sk-container-id-1 div.sk-parallel-item::after {content: \"\";width: 100%;border-bottom: 1px solid gray;flex-grow: 1;}#sk-container-id-1 div.sk-label:hover label.sk-toggleable__label {background-color: #d4ebff;}#sk-container-id-1 div.sk-serial::before {content: \"\";position: absolute;border-left: 1px solid gray;box-sizing: border-box;top: 0;bottom: 0;left: 50%;z-index: 0;}#sk-container-id-1 div.sk-serial {display: flex;flex-direction: column;align-items: center;background-color: white;padding-right: 0.2em;padding-left: 0.2em;position: relative;}#sk-container-id-1 div.sk-item {position: relative;z-index: 1;}#sk-container-id-1 div.sk-parallel {display: flex;align-items: stretch;justify-content: center;background-color: white;position: relative;}#sk-container-id-1 div.sk-item::before, #sk-container-id-1 div.sk-parallel-item::before {content: \"\";position: absolute;border-left: 1px solid gray;box-sizing: border-box;top: 0;bottom: 0;left: 50%;z-index: -1;}#sk-container-id-1 div.sk-parallel-item {display: flex;flex-direction: column;z-index: 1;position: relative;background-color: white;}#sk-container-id-1 div.sk-parallel-item:first-child::after {align-self: flex-end;width: 50%;}#sk-container-id-1 div.sk-parallel-item:last-child::after {align-self: flex-start;width: 50%;}#sk-container-id-1 div.sk-parallel-item:only-child::after {width: 0;}#sk-container-id-1 div.sk-dashed-wrapped {border: 1px dashed gray;margin: 0 0.4em 0.5em 0.4em;box-sizing: border-box;padding-bottom: 0.4em;background-color: white;}#sk-container-id-1 div.sk-label label {font-family: monospace;font-weight: bold;display: inline-block;line-height: 1.2em;}#sk-container-id-1 div.sk-label-container {text-align: center;}#sk-container-id-1 div.sk-container {/* jupyter's `normalize.less` sets `[hidden] { display: none; }` but bootstrap.min.css set `[hidden] { display: none !important; }` so we also need the `!important` here to be able to override the default hidden behavior on the sphinx rendered scikit-learn.org. See: https://github.com/scikit-learn/scikit-learn/issues/21755 */display: inline-block !important;position: relative;}#sk-container-id-1 div.sk-text-repr-fallback {display: none;}</style><div id=\"sk-container-id-1\" class=\"sk-top-container\"><div class=\"sk-text-repr-fallback\"><pre>KNeighborsClassifier(n_neighbors=1)</pre><b>In a Jupyter environment, please rerun this cell to show the HTML representation or trust the notebook. <br />On GitHub, the HTML representation is unable to render, please try loading this page with nbviewer.org.</b></div><div class=\"sk-container\" hidden><div class=\"sk-item\"><div class=\"sk-estimator sk-toggleable\"><input class=\"sk-toggleable__control sk-hidden--visually\" id=\"sk-estimator-id-1\" type=\"checkbox\" checked><label for=\"sk-estimator-id-1\" class=\"sk-toggleable__label sk-toggleable__label-arrow\">KNeighborsClassifier</label><div class=\"sk-toggleable__content\"><pre>KNeighborsClassifier(n_neighbors=1)</pre></div></div></div></div></div>"
      ],
      "text/plain": [
       "KNeighborsClassifier(n_neighbors=1)"
      ]
     },
     "execution_count": 31,
     "metadata": {},
     "output_type": "execute_result"
    }
   ],
   "source": [
    "# 모델 학습\n",
    "# 모델이 학습할 때 사용하는 함수 : fit(훈련용문제, 훈련용 답)\n",
    "knn_model.fit(X_train, Y_train)"
   ]
  },
  {
   "cell_type": "code",
   "execution_count": 34,
   "id": "ca6385c1",
   "metadata": {},
   "outputs": [
    {
     "data": {
      "text/plain": [
       "array([1, 0], dtype=int64)"
      ]
     },
     "execution_count": 34,
     "metadata": {},
     "output_type": "execute_result"
    }
   ],
   "source": [
    "# 모델 예측\n",
    "# knn_model.predict(테스트용 문제)\n",
    "pre =knn_model.predict(X_test)\n",
    "pre # 예측 결과를 담은 변수 \n",
    "#예측이 실제 정답과 항상 같지는 않음. 예측이 틀릴 수 있음(오류가 있을 수 있음.)"
   ]
  },
  {
   "cell_type": "code",
   "execution_count": null,
   "id": "d96668bf",
   "metadata": {},
   "outputs": [],
   "source": [
    "# 모델 평가 - \n",
    "# accuracy_score()  - 예측이 실제값과 비교했을 때, 몇개나 잘 맞췄는지 표현하는 점수(척도)\n",
    "accuracy_score(Y_test, pre) # 1.0 * 100 = 100% 전체 다 맞춘 상황.\n",
    "#accuracy_score() : 0~1로 출력됨. 1에 가까울 수록 잘 맞춤.\n",
    "# 1.0 다 맞춤! (100% 다 맞춤!)"
   ]
  },
  {
   "cell_type": "code",
   "execution_count": null,
   "id": "c66a2078",
   "metadata": {},
   "outputs": [],
   "source": []
  },
  {
   "cell_type": "code",
   "execution_count": null,
   "id": "adc643fb",
   "metadata": {},
   "outputs": [],
   "source": []
  },
  {
   "cell_type": "code",
   "execution_count": null,
   "id": "b8713e8c",
   "metadata": {},
   "outputs": [],
   "source": [
    "# 머신 모델 선택\n",
    "# 모델 학습(훈련 과정)\n",
    "# 모델 평가 및 예측(테스트 과정)"
   ]
  },
  {
   "cell_type": "code",
   "execution_count": null,
   "id": "d9ab9a93",
   "metadata": {},
   "outputs": [],
   "source": []
  },
  {
   "cell_type": "code",
   "execution_count": null,
   "id": "543784bb",
   "metadata": {},
   "outputs": [],
   "source": []
  },
  {
   "cell_type": "code",
   "execution_count": null,
   "id": "bf55af21",
   "metadata": {},
   "outputs": [],
   "source": []
  },
  {
   "cell_type": "code",
   "execution_count": null,
   "id": "3e604b10",
   "metadata": {},
   "outputs": [],
   "source": []
  },
  {
   "cell_type": "code",
   "execution_count": null,
   "id": "99bed2ec",
   "metadata": {},
   "outputs": [],
   "source": []
  },
  {
   "cell_type": "code",
   "execution_count": null,
   "id": "f6f9b72d",
   "metadata": {},
   "outputs": [],
   "source": []
  },
  {
   "cell_type": "code",
   "execution_count": null,
   "id": "921f441f",
   "metadata": {},
   "outputs": [],
   "source": []
  }
 ],
 "metadata": {
  "kernelspec": {
   "display_name": "Python 3 (ipykernel)",
   "language": "python",
   "name": "python3"
  },
  "language_info": {
   "codemirror_mode": {
    "name": "ipython",
    "version": 3
   },
   "file_extension": ".py",
   "mimetype": "text/x-python",
   "name": "python",
   "nbconvert_exporter": "python",
   "pygments_lexer": "ipython3",
   "version": "3.10.9"
  }
 },
 "nbformat": 4,
 "nbformat_minor": 5
}
